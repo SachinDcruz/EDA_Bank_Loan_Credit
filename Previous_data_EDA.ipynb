{
 "cells": [
  {
   "cell_type": "code",
   "execution_count": 1,
   "id": "1bfd33d8",
   "metadata": {},
   "outputs": [],
   "source": [
    "import pandas as pd\n",
    "import numpy as np\n",
    "import matplotlib.pyplot as plt\n",
    "import seaborn as sns"
   ]
  },
  {
   "cell_type": "code",
   "execution_count": 2,
   "id": "1d4278c2",
   "metadata": {},
   "outputs": [],
   "source": [
    "import warnings\n",
    "warnings.filterwarnings(\"ignore\")"
   ]
  },
  {
   "cell_type": "code",
   "execution_count": 3,
   "id": "8bbb3860",
   "metadata": {},
   "outputs": [],
   "source": [
    "pre_df = pd.read_csv(\"previous_application.csv\")"
   ]
  },
  {
   "cell_type": "code",
   "execution_count": 42,
   "id": "a76d3f96",
   "metadata": {},
   "outputs": [],
   "source": [
    "app_df=pd.read_csv('application_data.csv')"
   ]
  },
  {
   "cell_type": "code",
   "execution_count": 4,
   "id": "a0e134ba",
   "metadata": {},
   "outputs": [
    {
     "data": {
      "text/html": [
       "<div>\n",
       "<style scoped>\n",
       "    .dataframe tbody tr th:only-of-type {\n",
       "        vertical-align: middle;\n",
       "    }\n",
       "\n",
       "    .dataframe tbody tr th {\n",
       "        vertical-align: top;\n",
       "    }\n",
       "\n",
       "    .dataframe thead th {\n",
       "        text-align: right;\n",
       "    }\n",
       "</style>\n",
       "<table border=\"1\" class=\"dataframe\">\n",
       "  <thead>\n",
       "    <tr style=\"text-align: right;\">\n",
       "      <th></th>\n",
       "      <th>SK_ID_PREV</th>\n",
       "      <th>SK_ID_CURR</th>\n",
       "      <th>NAME_CONTRACT_TYPE</th>\n",
       "      <th>AMT_ANNUITY</th>\n",
       "      <th>AMT_APPLICATION</th>\n",
       "      <th>AMT_CREDIT</th>\n",
       "      <th>AMT_DOWN_PAYMENT</th>\n",
       "      <th>AMT_GOODS_PRICE</th>\n",
       "      <th>WEEKDAY_APPR_PROCESS_START</th>\n",
       "      <th>HOUR_APPR_PROCESS_START</th>\n",
       "      <th>...</th>\n",
       "      <th>NAME_SELLER_INDUSTRY</th>\n",
       "      <th>CNT_PAYMENT</th>\n",
       "      <th>NAME_YIELD_GROUP</th>\n",
       "      <th>PRODUCT_COMBINATION</th>\n",
       "      <th>DAYS_FIRST_DRAWING</th>\n",
       "      <th>DAYS_FIRST_DUE</th>\n",
       "      <th>DAYS_LAST_DUE_1ST_VERSION</th>\n",
       "      <th>DAYS_LAST_DUE</th>\n",
       "      <th>DAYS_TERMINATION</th>\n",
       "      <th>NFLAG_INSURED_ON_APPROVAL</th>\n",
       "    </tr>\n",
       "  </thead>\n",
       "  <tbody>\n",
       "    <tr>\n",
       "      <th>0</th>\n",
       "      <td>2030495</td>\n",
       "      <td>271877</td>\n",
       "      <td>Consumer loans</td>\n",
       "      <td>1730.430</td>\n",
       "      <td>17145.0</td>\n",
       "      <td>17145.0</td>\n",
       "      <td>0.0</td>\n",
       "      <td>17145.0</td>\n",
       "      <td>SATURDAY</td>\n",
       "      <td>15</td>\n",
       "      <td>...</td>\n",
       "      <td>Connectivity</td>\n",
       "      <td>12.0</td>\n",
       "      <td>middle</td>\n",
       "      <td>POS mobile with interest</td>\n",
       "      <td>365243.0</td>\n",
       "      <td>-42.0</td>\n",
       "      <td>300.0</td>\n",
       "      <td>-42.0</td>\n",
       "      <td>-37.0</td>\n",
       "      <td>0.0</td>\n",
       "    </tr>\n",
       "    <tr>\n",
       "      <th>1</th>\n",
       "      <td>2802425</td>\n",
       "      <td>108129</td>\n",
       "      <td>Cash loans</td>\n",
       "      <td>25188.615</td>\n",
       "      <td>607500.0</td>\n",
       "      <td>679671.0</td>\n",
       "      <td>NaN</td>\n",
       "      <td>607500.0</td>\n",
       "      <td>THURSDAY</td>\n",
       "      <td>11</td>\n",
       "      <td>...</td>\n",
       "      <td>XNA</td>\n",
       "      <td>36.0</td>\n",
       "      <td>low_action</td>\n",
       "      <td>Cash X-Sell: low</td>\n",
       "      <td>365243.0</td>\n",
       "      <td>-134.0</td>\n",
       "      <td>916.0</td>\n",
       "      <td>365243.0</td>\n",
       "      <td>365243.0</td>\n",
       "      <td>1.0</td>\n",
       "    </tr>\n",
       "    <tr>\n",
       "      <th>2</th>\n",
       "      <td>2523466</td>\n",
       "      <td>122040</td>\n",
       "      <td>Cash loans</td>\n",
       "      <td>15060.735</td>\n",
       "      <td>112500.0</td>\n",
       "      <td>136444.5</td>\n",
       "      <td>NaN</td>\n",
       "      <td>112500.0</td>\n",
       "      <td>TUESDAY</td>\n",
       "      <td>11</td>\n",
       "      <td>...</td>\n",
       "      <td>XNA</td>\n",
       "      <td>12.0</td>\n",
       "      <td>high</td>\n",
       "      <td>Cash X-Sell: high</td>\n",
       "      <td>365243.0</td>\n",
       "      <td>-271.0</td>\n",
       "      <td>59.0</td>\n",
       "      <td>365243.0</td>\n",
       "      <td>365243.0</td>\n",
       "      <td>1.0</td>\n",
       "    </tr>\n",
       "    <tr>\n",
       "      <th>3</th>\n",
       "      <td>2819243</td>\n",
       "      <td>176158</td>\n",
       "      <td>Cash loans</td>\n",
       "      <td>47041.335</td>\n",
       "      <td>450000.0</td>\n",
       "      <td>470790.0</td>\n",
       "      <td>NaN</td>\n",
       "      <td>450000.0</td>\n",
       "      <td>MONDAY</td>\n",
       "      <td>7</td>\n",
       "      <td>...</td>\n",
       "      <td>XNA</td>\n",
       "      <td>12.0</td>\n",
       "      <td>middle</td>\n",
       "      <td>Cash X-Sell: middle</td>\n",
       "      <td>365243.0</td>\n",
       "      <td>-482.0</td>\n",
       "      <td>-152.0</td>\n",
       "      <td>-182.0</td>\n",
       "      <td>-177.0</td>\n",
       "      <td>1.0</td>\n",
       "    </tr>\n",
       "    <tr>\n",
       "      <th>4</th>\n",
       "      <td>1784265</td>\n",
       "      <td>202054</td>\n",
       "      <td>Cash loans</td>\n",
       "      <td>31924.395</td>\n",
       "      <td>337500.0</td>\n",
       "      <td>404055.0</td>\n",
       "      <td>NaN</td>\n",
       "      <td>337500.0</td>\n",
       "      <td>THURSDAY</td>\n",
       "      <td>9</td>\n",
       "      <td>...</td>\n",
       "      <td>XNA</td>\n",
       "      <td>24.0</td>\n",
       "      <td>high</td>\n",
       "      <td>Cash Street: high</td>\n",
       "      <td>NaN</td>\n",
       "      <td>NaN</td>\n",
       "      <td>NaN</td>\n",
       "      <td>NaN</td>\n",
       "      <td>NaN</td>\n",
       "      <td>NaN</td>\n",
       "    </tr>\n",
       "  </tbody>\n",
       "</table>\n",
       "<p>5 rows × 37 columns</p>\n",
       "</div>"
      ],
      "text/plain": [
       "   SK_ID_PREV  SK_ID_CURR NAME_CONTRACT_TYPE  AMT_ANNUITY  AMT_APPLICATION  \\\n",
       "0     2030495      271877     Consumer loans     1730.430          17145.0   \n",
       "1     2802425      108129         Cash loans    25188.615         607500.0   \n",
       "2     2523466      122040         Cash loans    15060.735         112500.0   \n",
       "3     2819243      176158         Cash loans    47041.335         450000.0   \n",
       "4     1784265      202054         Cash loans    31924.395         337500.0   \n",
       "\n",
       "   AMT_CREDIT  AMT_DOWN_PAYMENT  AMT_GOODS_PRICE WEEKDAY_APPR_PROCESS_START  \\\n",
       "0     17145.0               0.0          17145.0                   SATURDAY   \n",
       "1    679671.0               NaN         607500.0                   THURSDAY   \n",
       "2    136444.5               NaN         112500.0                    TUESDAY   \n",
       "3    470790.0               NaN         450000.0                     MONDAY   \n",
       "4    404055.0               NaN         337500.0                   THURSDAY   \n",
       "\n",
       "   HOUR_APPR_PROCESS_START  ... NAME_SELLER_INDUSTRY  CNT_PAYMENT  \\\n",
       "0                       15  ...         Connectivity         12.0   \n",
       "1                       11  ...                  XNA         36.0   \n",
       "2                       11  ...                  XNA         12.0   \n",
       "3                        7  ...                  XNA         12.0   \n",
       "4                        9  ...                  XNA         24.0   \n",
       "\n",
       "   NAME_YIELD_GROUP       PRODUCT_COMBINATION  DAYS_FIRST_DRAWING  \\\n",
       "0            middle  POS mobile with interest            365243.0   \n",
       "1        low_action          Cash X-Sell: low            365243.0   \n",
       "2              high         Cash X-Sell: high            365243.0   \n",
       "3            middle       Cash X-Sell: middle            365243.0   \n",
       "4              high         Cash Street: high                 NaN   \n",
       "\n",
       "  DAYS_FIRST_DUE DAYS_LAST_DUE_1ST_VERSION  DAYS_LAST_DUE DAYS_TERMINATION  \\\n",
       "0          -42.0                     300.0          -42.0            -37.0   \n",
       "1         -134.0                     916.0       365243.0         365243.0   \n",
       "2         -271.0                      59.0       365243.0         365243.0   \n",
       "3         -482.0                    -152.0         -182.0           -177.0   \n",
       "4            NaN                       NaN            NaN              NaN   \n",
       "\n",
       "  NFLAG_INSURED_ON_APPROVAL  \n",
       "0                       0.0  \n",
       "1                       1.0  \n",
       "2                       1.0  \n",
       "3                       1.0  \n",
       "4                       NaN  \n",
       "\n",
       "[5 rows x 37 columns]"
      ]
     },
     "execution_count": 4,
     "metadata": {},
     "output_type": "execute_result"
    }
   ],
   "source": [
    "pre_df.head()"
   ]
  },
  {
   "cell_type": "code",
   "execution_count": 5,
   "id": "0b68d533",
   "metadata": {},
   "outputs": [
    {
     "data": {
      "text/plain": [
       "(1670214, 37)"
      ]
     },
     "execution_count": 5,
     "metadata": {},
     "output_type": "execute_result"
    }
   ],
   "source": [
    "pre_df.shape"
   ]
  },
  {
   "cell_type": "code",
   "execution_count": 6,
   "id": "06e55728",
   "metadata": {},
   "outputs": [
    {
     "name": "stdout",
     "output_type": "stream",
     "text": [
      "<class 'pandas.core.frame.DataFrame'>\n",
      "RangeIndex: 1670214 entries, 0 to 1670213\n",
      "Data columns (total 37 columns):\n",
      " #   Column                       Non-Null Count    Dtype  \n",
      "---  ------                       --------------    -----  \n",
      " 0   SK_ID_PREV                   1670214 non-null  int64  \n",
      " 1   SK_ID_CURR                   1670214 non-null  int64  \n",
      " 2   NAME_CONTRACT_TYPE           1670214 non-null  object \n",
      " 3   AMT_ANNUITY                  1297979 non-null  float64\n",
      " 4   AMT_APPLICATION              1670214 non-null  float64\n",
      " 5   AMT_CREDIT                   1670213 non-null  float64\n",
      " 6   AMT_DOWN_PAYMENT             774370 non-null   float64\n",
      " 7   AMT_GOODS_PRICE              1284699 non-null  float64\n",
      " 8   WEEKDAY_APPR_PROCESS_START   1670214 non-null  object \n",
      " 9   HOUR_APPR_PROCESS_START      1670214 non-null  int64  \n",
      " 10  FLAG_LAST_APPL_PER_CONTRACT  1670214 non-null  object \n",
      " 11  NFLAG_LAST_APPL_IN_DAY       1670214 non-null  int64  \n",
      " 12  RATE_DOWN_PAYMENT            774370 non-null   float64\n",
      " 13  RATE_INTEREST_PRIMARY        5951 non-null     float64\n",
      " 14  RATE_INTEREST_PRIVILEGED     5951 non-null     float64\n",
      " 15  NAME_CASH_LOAN_PURPOSE       1670214 non-null  object \n",
      " 16  NAME_CONTRACT_STATUS         1670214 non-null  object \n",
      " 17  DAYS_DECISION                1670214 non-null  int64  \n",
      " 18  NAME_PAYMENT_TYPE            1670214 non-null  object \n",
      " 19  CODE_REJECT_REASON           1670214 non-null  object \n",
      " 20  NAME_TYPE_SUITE              849809 non-null   object \n",
      " 21  NAME_CLIENT_TYPE             1670214 non-null  object \n",
      " 22  NAME_GOODS_CATEGORY          1670214 non-null  object \n",
      " 23  NAME_PORTFOLIO               1670214 non-null  object \n",
      " 24  NAME_PRODUCT_TYPE            1670214 non-null  object \n",
      " 25  CHANNEL_TYPE                 1670214 non-null  object \n",
      " 26  SELLERPLACE_AREA             1670214 non-null  int64  \n",
      " 27  NAME_SELLER_INDUSTRY         1670214 non-null  object \n",
      " 28  CNT_PAYMENT                  1297984 non-null  float64\n",
      " 29  NAME_YIELD_GROUP             1670214 non-null  object \n",
      " 30  PRODUCT_COMBINATION          1669868 non-null  object \n",
      " 31  DAYS_FIRST_DRAWING           997149 non-null   float64\n",
      " 32  DAYS_FIRST_DUE               997149 non-null   float64\n",
      " 33  DAYS_LAST_DUE_1ST_VERSION    997149 non-null   float64\n",
      " 34  DAYS_LAST_DUE                997149 non-null   float64\n",
      " 35  DAYS_TERMINATION             997149 non-null   float64\n",
      " 36  NFLAG_INSURED_ON_APPROVAL    997149 non-null   float64\n",
      "dtypes: float64(15), int64(6), object(16)\n",
      "memory usage: 471.5+ MB\n"
     ]
    }
   ],
   "source": [
    "pre_df.info()"
   ]
  },
  {
   "cell_type": "code",
   "execution_count": 11,
   "id": "3afb7b38",
   "metadata": {},
   "outputs": [
    {
     "data": {
      "text/plain": [
       "RATE_INTEREST_PRIVILEGED       99.643698\n",
       "RATE_INTEREST_PRIMARY          99.643698\n",
       "AMT_DOWN_PAYMENT               53.636480\n",
       "RATE_DOWN_PAYMENT              53.636480\n",
       "NAME_TYPE_SUITE                49.119754\n",
       "NFLAG_INSURED_ON_APPROVAL      40.298129\n",
       "DAYS_TERMINATION               40.298129\n",
       "DAYS_LAST_DUE                  40.298129\n",
       "DAYS_LAST_DUE_1ST_VERSION      40.298129\n",
       "DAYS_FIRST_DUE                 40.298129\n",
       "DAYS_FIRST_DRAWING             40.298129\n",
       "AMT_GOODS_PRICE                23.081773\n",
       "AMT_ANNUITY                    22.286665\n",
       "CNT_PAYMENT                    22.286366\n",
       "PRODUCT_COMBINATION             0.020716\n",
       "AMT_CREDIT                      0.000060\n",
       "NAME_YIELD_GROUP                0.000000\n",
       "NAME_PORTFOLIO                  0.000000\n",
       "NAME_SELLER_INDUSTRY            0.000000\n",
       "SELLERPLACE_AREA                0.000000\n",
       "CHANNEL_TYPE                    0.000000\n",
       "NAME_PRODUCT_TYPE               0.000000\n",
       "SK_ID_PREV                      0.000000\n",
       "NAME_GOODS_CATEGORY             0.000000\n",
       "NAME_CLIENT_TYPE                0.000000\n",
       "CODE_REJECT_REASON              0.000000\n",
       "SK_ID_CURR                      0.000000\n",
       "DAYS_DECISION                   0.000000\n",
       "NAME_CONTRACT_STATUS            0.000000\n",
       "NAME_CASH_LOAN_PURPOSE          0.000000\n",
       "NFLAG_LAST_APPL_IN_DAY          0.000000\n",
       "FLAG_LAST_APPL_PER_CONTRACT     0.000000\n",
       "HOUR_APPR_PROCESS_START         0.000000\n",
       "WEEKDAY_APPR_PROCESS_START      0.000000\n",
       "AMT_APPLICATION                 0.000000\n",
       "NAME_CONTRACT_TYPE              0.000000\n",
       "NAME_PAYMENT_TYPE               0.000000\n",
       "dtype: float64"
      ]
     },
     "execution_count": 11,
     "metadata": {},
     "output_type": "execute_result"
    }
   ],
   "source": [
    "# Checking for percentage of null values\n",
    "(pre_df.isnull().sum()*100/len(pre_df)).sort_values(ascending=False)"
   ]
  },
  {
   "cell_type": "markdown",
   "id": "2b0b1557",
   "metadata": {},
   "source": [
    "Removing the unnecessary columns with more than 40% missing values except NAME_TYPE_SUITE\n"
   ]
  },
  {
   "cell_type": "code",
   "execution_count": 13,
   "id": "5c33ae4c",
   "metadata": {},
   "outputs": [],
   "source": [
    "pre_df.drop(columns=['RATE_INTEREST_PRIMARY','RATE_INTEREST_PRIVILEGED','DAYS_TERMINATION','DAYS_LAST_DUE','DAYS_LAST_DUE_1ST_VERSION','DAYS_FIRST_DUE','DAYS_FIRST_DRAWING','NFLAG_INSURED_ON_APPROVAL'], axis=1, inplace=True)\n",
    "pre_df.dropna(subset=['AMT_CREDIT','PRODUCT_COMBINATION'], inplace=True)"
   ]
  },
  {
   "cell_type": "code",
   "execution_count": 14,
   "id": "0ff5798b",
   "metadata": {},
   "outputs": [
    {
     "data": {
      "text/plain": [
       "AMT_DOWN_PAYMENT               53.626846\n",
       "RATE_DOWN_PAYMENT              53.626846\n",
       "NAME_TYPE_SUITE                49.109181\n",
       "AMT_GOODS_PRICE                23.065789\n",
       "AMT_ANNUITY                    22.270576\n",
       "CNT_PAYMENT                    22.270277\n",
       "SK_ID_PREV                      0.000000\n",
       "CODE_REJECT_REASON              0.000000\n",
       "NAME_YIELD_GROUP                0.000000\n",
       "NAME_SELLER_INDUSTRY            0.000000\n",
       "SELLERPLACE_AREA                0.000000\n",
       "CHANNEL_TYPE                    0.000000\n",
       "NAME_PRODUCT_TYPE               0.000000\n",
       "NAME_PORTFOLIO                  0.000000\n",
       "NAME_GOODS_CATEGORY             0.000000\n",
       "NAME_CLIENT_TYPE                0.000000\n",
       "NAME_CONTRACT_STATUS            0.000000\n",
       "NAME_PAYMENT_TYPE               0.000000\n",
       "DAYS_DECISION                   0.000000\n",
       "SK_ID_CURR                      0.000000\n",
       "NAME_CASH_LOAN_PURPOSE          0.000000\n",
       "NFLAG_LAST_APPL_IN_DAY          0.000000\n",
       "FLAG_LAST_APPL_PER_CONTRACT     0.000000\n",
       "HOUR_APPR_PROCESS_START         0.000000\n",
       "WEEKDAY_APPR_PROCESS_START      0.000000\n",
       "AMT_CREDIT                      0.000000\n",
       "AMT_APPLICATION                 0.000000\n",
       "NAME_CONTRACT_TYPE              0.000000\n",
       "PRODUCT_COMBINATION             0.000000\n",
       "dtype: float64"
      ]
     },
     "execution_count": 14,
     "metadata": {},
     "output_type": "execute_result"
    }
   ],
   "source": [
    "(pre_df.isnull().sum()*100/len(pre_df)).sort_values(ascending=False)"
   ]
  },
  {
   "cell_type": "code",
   "execution_count": 15,
   "id": "69bfe6fe",
   "metadata": {},
   "outputs": [],
   "source": [
    "pre_df.drop(columns=['AMT_DOWN_PAYMENT','RATE_DOWN_PAYMENT'], axis=1, inplace=True)"
   ]
  },
  {
   "cell_type": "code",
   "execution_count": 17,
   "id": "358722a4",
   "metadata": {},
   "outputs": [
    {
     "data": {
      "text/plain": [
       "Unaccompanied      508970\n",
       "Family             213263\n",
       "Spouse, partner     67069\n",
       "Children            31566\n",
       "Other_B             17624\n",
       "Other_A              9077\n",
       "Group of people      2240\n",
       "Name: NAME_TYPE_SUITE, dtype: int64"
      ]
     },
     "execution_count": 17,
     "metadata": {},
     "output_type": "execute_result"
    }
   ],
   "source": [
    "pre_df.NAME_TYPE_SUITE.value_counts()"
   ]
  },
  {
   "cell_type": "code",
   "execution_count": 25,
   "id": "d1061a41",
   "metadata": {},
   "outputs": [
    {
     "data": {
      "text/plain": [
       "0    Unaccompanied\n",
       "dtype: object"
      ]
     },
     "execution_count": 25,
     "metadata": {},
     "output_type": "execute_result"
    }
   ],
   "source": [
    "pre_df.NAME_TYPE_SUITE.mode()"
   ]
  },
  {
   "cell_type": "code",
   "execution_count": 26,
   "id": "1042798c",
   "metadata": {},
   "outputs": [],
   "source": [
    "# Filling the null values with mode for Name type Suite\n",
    "pre_df['NAME_TYPE_SUITE'].fillna(pre_df.NAME_TYPE_SUITE.mode()[0], inplace=True)"
   ]
  },
  {
   "cell_type": "code",
   "execution_count": 27,
   "id": "e87fc8c4",
   "metadata": {},
   "outputs": [
    {
     "data": {
      "text/plain": [
       "Unaccompanied      1329028\n",
       "Family              213263\n",
       "Spouse, partner      67069\n",
       "Children             31566\n",
       "Other_B              17624\n",
       "Other_A               9077\n",
       "Group of people       2240\n",
       "Name: NAME_TYPE_SUITE, dtype: int64"
      ]
     },
     "execution_count": 27,
     "metadata": {},
     "output_type": "execute_result"
    }
   ],
   "source": [
    "pre_df.NAME_TYPE_SUITE.value_counts()"
   ]
  },
  {
   "cell_type": "code",
   "execution_count": 31,
   "id": "db94c4a2",
   "metadata": {},
   "outputs": [
    {
     "data": {
      "text/plain": [
       "227847.27928334344"
      ]
     },
     "execution_count": 31,
     "metadata": {},
     "output_type": "execute_result"
    }
   ],
   "source": [
    "pre_df.AMT_GOODS_PRICE.mean()"
   ]
  },
  {
   "cell_type": "code",
   "execution_count": 32,
   "id": "1e7375ad",
   "metadata": {},
   "outputs": [],
   "source": [
    "# Filling the null values with mean for AMT_GOODS_PRICE\n",
    "pre_df.AMT_GOODS_PRICE.fillna(pre_df.AMT_GOODS_PRICE.mean(), inplace=True)"
   ]
  },
  {
   "cell_type": "code",
   "execution_count": 34,
   "id": "3a9e7b31",
   "metadata": {},
   "outputs": [
    {
     "data": {
      "text/plain": [
       "15955.13295173938"
      ]
     },
     "execution_count": 34,
     "metadata": {},
     "output_type": "execute_result"
    }
   ],
   "source": [
    "pre_df.AMT_ANNUITY.mean()"
   ]
  },
  {
   "cell_type": "code",
   "execution_count": 35,
   "id": "d9a9ec59",
   "metadata": {},
   "outputs": [],
   "source": [
    "# Filling the null values with mean for AMT_ANNUITY\n",
    "pre_df.AMT_ANNUITY.fillna(pre_df.AMT_ANNUITY.mean(), inplace=True)"
   ]
  },
  {
   "cell_type": "code",
   "execution_count": 36,
   "id": "64d114dd",
   "metadata": {},
   "outputs": [
    {
     "data": {
      "text/plain": [
       "16.054093928811085"
      ]
     },
     "execution_count": 36,
     "metadata": {},
     "output_type": "execute_result"
    }
   ],
   "source": [
    "pre_df.CNT_PAYMENT.mean()"
   ]
  },
  {
   "cell_type": "code",
   "execution_count": 39,
   "id": "9c627322",
   "metadata": {},
   "outputs": [],
   "source": [
    "# Filling the null values with mean for CNT_PAYMENT\n",
    "pre_df.CNT_PAYMENT.fillna(pre_df.CNT_PAYMENT.mean(), inplace=True)"
   ]
  },
  {
   "cell_type": "code",
   "execution_count": 40,
   "id": "f01a81d0",
   "metadata": {},
   "outputs": [
    {
     "data": {
      "text/plain": [
       "SK_ID_PREV                     0.0\n",
       "NAME_PAYMENT_TYPE              0.0\n",
       "NAME_YIELD_GROUP               0.0\n",
       "CNT_PAYMENT                    0.0\n",
       "NAME_SELLER_INDUSTRY           0.0\n",
       "SELLERPLACE_AREA               0.0\n",
       "CHANNEL_TYPE                   0.0\n",
       "NAME_PRODUCT_TYPE              0.0\n",
       "NAME_PORTFOLIO                 0.0\n",
       "NAME_GOODS_CATEGORY            0.0\n",
       "NAME_CLIENT_TYPE               0.0\n",
       "NAME_TYPE_SUITE                0.0\n",
       "CODE_REJECT_REASON             0.0\n",
       "DAYS_DECISION                  0.0\n",
       "SK_ID_CURR                     0.0\n",
       "NAME_CONTRACT_STATUS           0.0\n",
       "NAME_CASH_LOAN_PURPOSE         0.0\n",
       "NFLAG_LAST_APPL_IN_DAY         0.0\n",
       "FLAG_LAST_APPL_PER_CONTRACT    0.0\n",
       "HOUR_APPR_PROCESS_START        0.0\n",
       "WEEKDAY_APPR_PROCESS_START     0.0\n",
       "AMT_GOODS_PRICE                0.0\n",
       "AMT_CREDIT                     0.0\n",
       "AMT_APPLICATION                0.0\n",
       "AMT_ANNUITY                    0.0\n",
       "NAME_CONTRACT_TYPE             0.0\n",
       "PRODUCT_COMBINATION            0.0\n",
       "dtype: float64"
      ]
     },
     "execution_count": 40,
     "metadata": {},
     "output_type": "execute_result"
    }
   ],
   "source": [
    "(pre_df.isnull().sum()*100/len(pre_df)).sort_values(ascending=False)"
   ]
  },
  {
   "cell_type": "code",
   "execution_count": 43,
   "id": "ae42cd7f",
   "metadata": {},
   "outputs": [
    {
     "name": "stdout",
     "output_type": "stream",
     "text": [
      "<class 'pandas.core.frame.DataFrame'>\n",
      "Int64Index: 1429841 entries, 0 to 1429840\n",
      "Data columns (total 28 columns):\n",
      " #   Column                       Non-Null Count    Dtype  \n",
      "---  ------                       --------------    -----  \n",
      " 0   SK_ID_CURR                   1429841 non-null  int64  \n",
      " 1   TARGET                       1429841 non-null  int64  \n",
      " 2   SK_ID_PREV                   1413387 non-null  float64\n",
      " 3   NAME_CONTRACT_TYPE           1413387 non-null  object \n",
      " 4   AMT_ANNUITY                  1413387 non-null  float64\n",
      " 5   AMT_APPLICATION              1413387 non-null  float64\n",
      " 6   AMT_CREDIT                   1413387 non-null  float64\n",
      " 7   AMT_GOODS_PRICE              1413387 non-null  float64\n",
      " 8   WEEKDAY_APPR_PROCESS_START   1413387 non-null  object \n",
      " 9   HOUR_APPR_PROCESS_START      1413387 non-null  float64\n",
      " 10  FLAG_LAST_APPL_PER_CONTRACT  1413387 non-null  object \n",
      " 11  NFLAG_LAST_APPL_IN_DAY       1413387 non-null  float64\n",
      " 12  NAME_CASH_LOAN_PURPOSE       1413387 non-null  object \n",
      " 13  NAME_CONTRACT_STATUS         1413387 non-null  object \n",
      " 14  DAYS_DECISION                1413387 non-null  float64\n",
      " 15  NAME_PAYMENT_TYPE            1413387 non-null  object \n",
      " 16  CODE_REJECT_REASON           1413387 non-null  object \n",
      " 17  NAME_TYPE_SUITE              1413387 non-null  object \n",
      " 18  NAME_CLIENT_TYPE             1413387 non-null  object \n",
      " 19  NAME_GOODS_CATEGORY          1413387 non-null  object \n",
      " 20  NAME_PORTFOLIO               1413387 non-null  object \n",
      " 21  NAME_PRODUCT_TYPE            1413387 non-null  object \n",
      " 22  CHANNEL_TYPE                 1413387 non-null  object \n",
      " 23  SELLERPLACE_AREA             1413387 non-null  float64\n",
      " 24  NAME_SELLER_INDUSTRY         1413387 non-null  object \n",
      " 25  CNT_PAYMENT                  1413387 non-null  float64\n",
      " 26  NAME_YIELD_GROUP             1413387 non-null  object \n",
      " 27  PRODUCT_COMBINATION          1413387 non-null  object \n",
      "dtypes: float64(10), int64(2), object(16)\n",
      "memory usage: 316.4+ MB\n"
     ]
    }
   ],
   "source": [
    "# Merging the 2 datasets \n",
    "pre_merge = pd.merge(app_df[['SK_ID_CURR', 'TARGET']], pre_df, how='left', on=['SK_ID_CURR'])\n",
    "\n",
    "pre_merge.info()"
   ]
  },
  {
   "cell_type": "code",
   "execution_count": 45,
   "id": "90c42951",
   "metadata": {},
   "outputs": [
    {
     "data": {
      "text/plain": [
       "(1429841, 28)"
      ]
     },
     "execution_count": 45,
     "metadata": {},
     "output_type": "execute_result"
    }
   ],
   "source": [
    "pre_merge.shape"
   ]
  },
  {
   "cell_type": "code",
   "execution_count": 47,
   "id": "22b41b3e",
   "metadata": {},
   "outputs": [
    {
     "data": {
      "text/html": [
       "<div>\n",
       "<style scoped>\n",
       "    .dataframe tbody tr th:only-of-type {\n",
       "        vertical-align: middle;\n",
       "    }\n",
       "\n",
       "    .dataframe tbody tr th {\n",
       "        vertical-align: top;\n",
       "    }\n",
       "\n",
       "    .dataframe thead th {\n",
       "        text-align: right;\n",
       "    }\n",
       "</style>\n",
       "<table border=\"1\" class=\"dataframe\">\n",
       "  <thead>\n",
       "    <tr style=\"text-align: right;\">\n",
       "      <th></th>\n",
       "      <th>SK_ID_CURR</th>\n",
       "      <th>TARGET</th>\n",
       "      <th>SK_ID_PREV</th>\n",
       "      <th>AMT_ANNUITY</th>\n",
       "      <th>AMT_APPLICATION</th>\n",
       "      <th>AMT_CREDIT</th>\n",
       "      <th>AMT_GOODS_PRICE</th>\n",
       "      <th>HOUR_APPR_PROCESS_START</th>\n",
       "      <th>NFLAG_LAST_APPL_IN_DAY</th>\n",
       "      <th>DAYS_DECISION</th>\n",
       "      <th>SELLERPLACE_AREA</th>\n",
       "      <th>CNT_PAYMENT</th>\n",
       "    </tr>\n",
       "  </thead>\n",
       "  <tbody>\n",
       "    <tr>\n",
       "      <th>count</th>\n",
       "      <td>1.429841e+06</td>\n",
       "      <td>1.429841e+06</td>\n",
       "      <td>1.413387e+06</td>\n",
       "      <td>1.413387e+06</td>\n",
       "      <td>1.413387e+06</td>\n",
       "      <td>1.413387e+06</td>\n",
       "      <td>1.413387e+06</td>\n",
       "      <td>1.413387e+06</td>\n",
       "      <td>1.413387e+06</td>\n",
       "      <td>1.413387e+06</td>\n",
       "      <td>1.413387e+06</td>\n",
       "      <td>1.413387e+06</td>\n",
       "    </tr>\n",
       "    <tr>\n",
       "      <th>mean</th>\n",
       "      <td>2.784721e+05</td>\n",
       "      <td>8.621658e-02</td>\n",
       "      <td>1.922745e+06</td>\n",
       "      <td>1.586281e+04</td>\n",
       "      <td>1.752825e+05</td>\n",
       "      <td>1.963976e+05</td>\n",
       "      <td>2.267665e+05</td>\n",
       "      <td>1.247888e+01</td>\n",
       "      <td>9.964313e-01</td>\n",
       "      <td>-8.804742e+02</td>\n",
       "      <td>3.150476e+02</td>\n",
       "      <td>1.605242e+01</td>\n",
       "    </tr>\n",
       "    <tr>\n",
       "      <th>std</th>\n",
       "      <td>1.028026e+05</td>\n",
       "      <td>2.806837e-01</td>\n",
       "      <td>5.327182e+05</td>\n",
       "      <td>1.302858e+04</td>\n",
       "      <td>2.936432e+05</td>\n",
       "      <td>3.195033e+05</td>\n",
       "      <td>2.779811e+05</td>\n",
       "      <td>3.331533e+00</td>\n",
       "      <td>5.963220e-02</td>\n",
       "      <td>7.835932e+02</td>\n",
       "      <td>7.695935e+03</td>\n",
       "      <td>1.288858e+01</td>\n",
       "    </tr>\n",
       "    <tr>\n",
       "      <th>min</th>\n",
       "      <td>1.000020e+05</td>\n",
       "      <td>0.000000e+00</td>\n",
       "      <td>1.000001e+06</td>\n",
       "      <td>0.000000e+00</td>\n",
       "      <td>0.000000e+00</td>\n",
       "      <td>0.000000e+00</td>\n",
       "      <td>0.000000e+00</td>\n",
       "      <td>0.000000e+00</td>\n",
       "      <td>0.000000e+00</td>\n",
       "      <td>-2.922000e+03</td>\n",
       "      <td>-1.000000e+00</td>\n",
       "      <td>0.000000e+00</td>\n",
       "    </tr>\n",
       "    <tr>\n",
       "      <th>25%</th>\n",
       "      <td>1.893620e+05</td>\n",
       "      <td>0.000000e+00</td>\n",
       "      <td>1.461345e+06</td>\n",
       "      <td>7.404210e+03</td>\n",
       "      <td>1.975500e+04</td>\n",
       "      <td>2.491200e+04</td>\n",
       "      <td>6.637489e+04</td>\n",
       "      <td>1.000000e+01</td>\n",
       "      <td>1.000000e+00</td>\n",
       "      <td>-1.314000e+03</td>\n",
       "      <td>-1.000000e+00</td>\n",
       "      <td>1.000000e+01</td>\n",
       "    </tr>\n",
       "    <tr>\n",
       "      <th>50%</th>\n",
       "      <td>2.789590e+05</td>\n",
       "      <td>0.000000e+00</td>\n",
       "      <td>1.922706e+06</td>\n",
       "      <td>1.507261e+04</td>\n",
       "      <td>7.090200e+04</td>\n",
       "      <td>8.064000e+04</td>\n",
       "      <td>1.638270e+05</td>\n",
       "      <td>1.200000e+01</td>\n",
       "      <td>1.000000e+00</td>\n",
       "      <td>-5.820000e+02</td>\n",
       "      <td>4.000000e+00</td>\n",
       "      <td>1.200000e+01</td>\n",
       "    </tr>\n",
       "    <tr>\n",
       "      <th>75%</th>\n",
       "      <td>3.675110e+05</td>\n",
       "      <td>0.000000e+00</td>\n",
       "      <td>2.384020e+06</td>\n",
       "      <td>1.675138e+04</td>\n",
       "      <td>1.800000e+05</td>\n",
       "      <td>2.156400e+05</td>\n",
       "      <td>2.278473e+05</td>\n",
       "      <td>1.500000e+01</td>\n",
       "      <td>1.000000e+00</td>\n",
       "      <td>-2.710000e+02</td>\n",
       "      <td>8.500000e+01</td>\n",
       "      <td>1.800000e+01</td>\n",
       "    </tr>\n",
       "    <tr>\n",
       "      <th>max</th>\n",
       "      <td>4.562550e+05</td>\n",
       "      <td>1.000000e+00</td>\n",
       "      <td>2.845381e+06</td>\n",
       "      <td>4.180581e+05</td>\n",
       "      <td>5.850000e+06</td>\n",
       "      <td>4.509688e+06</td>\n",
       "      <td>5.850000e+06</td>\n",
       "      <td>2.300000e+01</td>\n",
       "      <td>1.000000e+00</td>\n",
       "      <td>-1.000000e+00</td>\n",
       "      <td>4.000000e+06</td>\n",
       "      <td>8.400000e+01</td>\n",
       "    </tr>\n",
       "  </tbody>\n",
       "</table>\n",
       "</div>"
      ],
      "text/plain": [
       "         SK_ID_CURR        TARGET    SK_ID_PREV   AMT_ANNUITY  \\\n",
       "count  1.429841e+06  1.429841e+06  1.413387e+06  1.413387e+06   \n",
       "mean   2.784721e+05  8.621658e-02  1.922745e+06  1.586281e+04   \n",
       "std    1.028026e+05  2.806837e-01  5.327182e+05  1.302858e+04   \n",
       "min    1.000020e+05  0.000000e+00  1.000001e+06  0.000000e+00   \n",
       "25%    1.893620e+05  0.000000e+00  1.461345e+06  7.404210e+03   \n",
       "50%    2.789590e+05  0.000000e+00  1.922706e+06  1.507261e+04   \n",
       "75%    3.675110e+05  0.000000e+00  2.384020e+06  1.675138e+04   \n",
       "max    4.562550e+05  1.000000e+00  2.845381e+06  4.180581e+05   \n",
       "\n",
       "       AMT_APPLICATION    AMT_CREDIT  AMT_GOODS_PRICE  \\\n",
       "count     1.413387e+06  1.413387e+06     1.413387e+06   \n",
       "mean      1.752825e+05  1.963976e+05     2.267665e+05   \n",
       "std       2.936432e+05  3.195033e+05     2.779811e+05   \n",
       "min       0.000000e+00  0.000000e+00     0.000000e+00   \n",
       "25%       1.975500e+04  2.491200e+04     6.637489e+04   \n",
       "50%       7.090200e+04  8.064000e+04     1.638270e+05   \n",
       "75%       1.800000e+05  2.156400e+05     2.278473e+05   \n",
       "max       5.850000e+06  4.509688e+06     5.850000e+06   \n",
       "\n",
       "       HOUR_APPR_PROCESS_START  NFLAG_LAST_APPL_IN_DAY  DAYS_DECISION  \\\n",
       "count             1.413387e+06            1.413387e+06   1.413387e+06   \n",
       "mean              1.247888e+01            9.964313e-01  -8.804742e+02   \n",
       "std               3.331533e+00            5.963220e-02   7.835932e+02   \n",
       "min               0.000000e+00            0.000000e+00  -2.922000e+03   \n",
       "25%               1.000000e+01            1.000000e+00  -1.314000e+03   \n",
       "50%               1.200000e+01            1.000000e+00  -5.820000e+02   \n",
       "75%               1.500000e+01            1.000000e+00  -2.710000e+02   \n",
       "max               2.300000e+01            1.000000e+00  -1.000000e+00   \n",
       "\n",
       "       SELLERPLACE_AREA   CNT_PAYMENT  \n",
       "count      1.413387e+06  1.413387e+06  \n",
       "mean       3.150476e+02  1.605242e+01  \n",
       "std        7.695935e+03  1.288858e+01  \n",
       "min       -1.000000e+00  0.000000e+00  \n",
       "25%       -1.000000e+00  1.000000e+01  \n",
       "50%        4.000000e+00  1.200000e+01  \n",
       "75%        8.500000e+01  1.800000e+01  \n",
       "max        4.000000e+06  8.400000e+01  "
      ]
     },
     "execution_count": 47,
     "metadata": {},
     "output_type": "execute_result"
    }
   ],
   "source": [
    "pre_merge.describe()"
   ]
  },
  {
   "cell_type": "code",
   "execution_count": 48,
   "id": "eb7686a7",
   "metadata": {},
   "outputs": [
    {
     "data": {
      "image/png": "[encoded data removed]",
      "text/plain": [
       "<Figure size 720x144 with 1 Axes>"
      ]
     },
     "metadata": {
      "needs_background": "light"
     },
     "output_type": "display_data"
    }
   ],
   "source": [
    "plt.figure(figsize=(10,2))\n",
    "sns.boxplot(pre_merge['AMT_ANNUITY'])\n",
    "plt.show()"
   ]
  },
  {
   "cell_type": "code",
   "execution_count": 51,
   "id": "96ab438b",
   "metadata": {},
   "outputs": [],
   "source": [
    "# Removing values outside 99 percentile\n",
    "pre_merge = pre_merge[pre_merge['AMT_ANNUITY'] < np.nanpercentile(pre_merge['AMT_ANNUITY'], 99)]"
   ]
  },
  {
   "cell_type": "code",
   "execution_count": 52,
   "id": "2a0fe9ca",
   "metadata": {},
   "outputs": [
    {
     "data": {
      "image/png": "[encoded data removed]",
      "text/plain": [
       "<Figure size 720x144 with 1 Axes>"
      ]
     },
     "metadata": {
      "needs_background": "light"
     },
     "output_type": "display_data"
    }
   ],
   "source": [
    "plt.figure(figsize=(10,2))\n",
    "sns.boxplot(pre_merge['AMT_ANNUITY'])\n",
    "plt.show()"
   ]
  },
  {
   "cell_type": "code",
   "execution_count": 55,
   "id": "10ca4ffb",
   "metadata": {},
   "outputs": [
    {
     "data": {
      "image/png": "[encoded data removed]",
      "text/plain": [
       "<Figure size 432x288 with 1 Axes>"
      ]
     },
     "metadata": {},
     "output_type": "display_data"
    }
   ],
   "source": [
    "plt.title(\"Status of Previous Loan Application and Payment\")\n",
    "sns.countplot(pre_merge['NAME_CONTRACT_STATUS'], hue=pre_merge['TARGET'])\n",
    "plt.show()"
   ]
  },
  {
   "cell_type": "code",
   "execution_count": 59,
   "id": "de62fc27",
   "metadata": {},
   "outputs": [
    {
     "data": {
      "text/plain": [
       "7.64"
      ]
     },
     "execution_count": 59,
     "metadata": {},
     "output_type": "execute_result"
    }
   ],
   "source": [
    "# Percentage of previously approved loan applicants that defaulted in current loan\n",
    "\n",
    "loanapproved = pre_merge[pre_merge['NAME_CONTRACT_STATUS'] == \"Approved\"].shape[0]\n",
    "loandefault = pre_merge[(pre_merge['TARGET'] == 1) & (pre_merge['NAME_CONTRACT_STATUS'] == \"Approved\")].shape[0]\n",
    "\n",
    "round(default_approved*100/total_approved,2)"
   ]
  },
  {
   "cell_type": "markdown",
   "id": "5f723e5a",
   "metadata": {},
   "source": [
    "We can see that out of the total approved applicants, 7.64% of the applicants default in current loan."
   ]
  },
  {
   "cell_type": "code",
   "execution_count": 60,
   "id": "6c021b48",
   "metadata": {},
   "outputs": [
    {
     "data": {
      "text/plain": [
       "87.88"
      ]
     },
     "execution_count": 60,
     "metadata": {},
     "output_type": "execute_result"
    }
   ],
   "source": [
    "# Percentage of previously refused loan applicants that pay the current loan\n",
    "\n",
    "loanrefused = pre_merge[pre_merge['NAME_CONTRACT_STATUS'] == \"Refused\"].shape[0]\n",
    "loannondefault = pre_merge[(pre_merge['TARGET'] == 0) & (pre_merge['NAME_CONTRACT_STATUS'] == \"Refused\")].shape[0]\n",
    "\n",
    "round(loannondefault*100/loanrefused,2)"
   ]
  },
  {
   "cell_type": "markdown",
   "id": "fde8b672",
   "metadata": {},
   "source": [
    "We can see that 87.88% of the applicants whose loan application was refused was able to pay the current loan."
   ]
  },
  {
   "cell_type": "code",
   "execution_count": 61,
   "id": "44ab4d48",
   "metadata": {},
   "outputs": [
    {
     "data": {
      "image/png": "[encoded data removed]",
      "text/plain": [
       "<Figure size 864x432 with 2 Axes>"
      ]
     },
     "metadata": {},
     "output_type": "display_data"
    }
   ],
   "source": [
    "fig = plt.figure(figsize=(12,6))\n",
    "\n",
    "ax1 = fig.add_subplot(1, 2, 1, title=\"Non-defaulter\")\n",
    "ax2 = fig.add_subplot(1, 2, 2, title=\"Defaulter\")\n",
    "\n",
    "pre_merge[pre_merge[\"TARGET\"] == 0][\"HOUR_APPR_PROCESS_START\"].hist(bins=10, ax=ax1)\n",
    "pre_merge[pre_merge[\"TARGET\"] == 1][\"HOUR_APPR_PROCESS_START\"].hist(bins=10, ax=ax2)\n",
    "\n",
    "plt.show()\n"
   ]
  },
  {
   "cell_type": "markdown",
   "id": "738ae6ec",
   "metadata": {},
   "source": [
    "We can see that most of the loan is applied between 10 to 15hrs"
   ]
  },
  {
   "cell_type": "code",
   "execution_count": 64,
   "id": "2c06c6e8",
   "metadata": {},
   "outputs": [
    {
     "data": {
      "image/png": "[encoded data removed]",
      "text/plain": [
       "<Figure size 432x288 with 1 Axes>"
      ]
     },
     "metadata": {},
     "output_type": "display_data"
    }
   ],
   "source": [
    "sns.countplot(pre_merge[pre_merge['NAME_CONTRACT_STATUS'] == \"Refused\"][\"CODE_REJECT_REASON\"], hue=pre_merge.TARGET)\n",
    "plt.show()"
   ]
  },
  {
   "cell_type": "markdown",
   "id": "a1b652a3",
   "metadata": {},
   "source": [
    "We can see that LIMIT, HC and SCO are the main reasons for rejection."
   ]
  },
  {
   "cell_type": "code",
   "execution_count": 74,
   "id": "7eb9d709",
   "metadata": {},
   "outputs": [
    {
     "data": {
      "image/png": "[encoded data removed]",
      "text/plain": [
       "<Figure size 864x432 with 1 Axes>"
      ]
     },
     "metadata": {},
     "output_type": "display_data"
    }
   ],
   "source": [
    "fig = plt.figure(figsize=(12,6))\n",
    "plt.title(\"Good applied previously\")\n",
    "sns.countplot(pre_merge['NAME_GOODS_CATEGORY'], hue=pre_merge['TARGET'])\n",
    "plt.xticks(rotation=90)\n",
    "plt.show()"
   ]
  },
  {
   "cell_type": "code",
   "execution_count": 72,
   "id": "bfda63af",
   "metadata": {},
   "outputs": [],
   "source": [
    "def defpercent(x, col):\n",
    "    new_df = pd.DataFrame(columns=['Value', 'Percentage of Defaulter'])\n",
    "    \n",
    "    for value in x[col].unique():\n",
    "        default_cnt = x[(x[col] == value) & (x.TARGET == 1)].shape[0]\n",
    "        total_cnt = x[x[col] == value].shape[0]\n",
    "        new_df = new_df.append({'Value' : value , 'Percentage of Defaulter' : (default_cnt*100/total_cnt)}, ignore_index=True)\n",
    "    return new_df.sort_values(by='Percentage of Defaulter', ascending=False)"
   ]
  },
  {
   "cell_type": "code",
   "execution_count": 73,
   "id": "6015ece1",
   "metadata": {},
   "outputs": [
    {
     "data": {
      "text/html": [
       "<div>\n",
       "<style scoped>\n",
       "    .dataframe tbody tr th:only-of-type {\n",
       "        vertical-align: middle;\n",
       "    }\n",
       "\n",
       "    .dataframe tbody tr th {\n",
       "        vertical-align: top;\n",
       "    }\n",
       "\n",
       "    .dataframe thead th {\n",
       "        text-align: right;\n",
       "    }\n",
       "</style>\n",
       "<table border=\"1\" class=\"dataframe\">\n",
       "  <thead>\n",
       "    <tr style=\"text-align: right;\">\n",
       "      <th></th>\n",
       "      <th>Value</th>\n",
       "      <th>Percentage of Defaulter</th>\n",
       "    </tr>\n",
       "  </thead>\n",
       "  <tbody>\n",
       "    <tr>\n",
       "      <th>23</th>\n",
       "      <td>Insurance</td>\n",
       "      <td>10.344828</td>\n",
       "    </tr>\n",
       "    <tr>\n",
       "      <th>0</th>\n",
       "      <td>Vehicles</td>\n",
       "      <td>10.239885</td>\n",
       "    </tr>\n",
       "    <tr>\n",
       "      <th>3</th>\n",
       "      <td>XNA</td>\n",
       "      <td>9.484016</td>\n",
       "    </tr>\n",
       "    <tr>\n",
       "      <th>14</th>\n",
       "      <td>Jewelry</td>\n",
       "      <td>9.092675</td>\n",
       "    </tr>\n",
       "    <tr>\n",
       "      <th>17</th>\n",
       "      <td>Auto Accessories</td>\n",
       "      <td>8.986585</td>\n",
       "    </tr>\n",
       "    <tr>\n",
       "      <th>2</th>\n",
       "      <td>Mobile</td>\n",
       "      <td>8.647201</td>\n",
       "    </tr>\n",
       "    <tr>\n",
       "      <th>15</th>\n",
       "      <td>Office Appliances</td>\n",
       "      <td>8.261965</td>\n",
       "    </tr>\n",
       "    <tr>\n",
       "      <th>21</th>\n",
       "      <td>Direct Sales</td>\n",
       "      <td>8.181818</td>\n",
       "    </tr>\n",
       "    <tr>\n",
       "      <th>9</th>\n",
       "      <td>Computers</td>\n",
       "      <td>8.109040</td>\n",
       "    </tr>\n",
       "    <tr>\n",
       "      <th>20</th>\n",
       "      <td>Weapon</td>\n",
       "      <td>7.692308</td>\n",
       "    </tr>\n",
       "    <tr>\n",
       "      <th>4</th>\n",
       "      <td>Audio/Video</td>\n",
       "      <td>7.670854</td>\n",
       "    </tr>\n",
       "    <tr>\n",
       "      <th>7</th>\n",
       "      <td>Photo / Cinema Equipment</td>\n",
       "      <td>7.627783</td>\n",
       "    </tr>\n",
       "    <tr>\n",
       "      <th>18</th>\n",
       "      <td>Sport and Leisure</td>\n",
       "      <td>7.284244</td>\n",
       "    </tr>\n",
       "    <tr>\n",
       "      <th>1</th>\n",
       "      <td>Consumer Electronics</td>\n",
       "      <td>7.068410</td>\n",
       "    </tr>\n",
       "    <tr>\n",
       "      <th>5</th>\n",
       "      <td>Construction Materials</td>\n",
       "      <td>6.990953</td>\n",
       "    </tr>\n",
       "    <tr>\n",
       "      <th>6</th>\n",
       "      <td>Gardening</td>\n",
       "      <td>6.741573</td>\n",
       "    </tr>\n",
       "    <tr>\n",
       "      <th>24</th>\n",
       "      <td>Additional Service</td>\n",
       "      <td>6.730769</td>\n",
       "    </tr>\n",
       "    <tr>\n",
       "      <th>11</th>\n",
       "      <td>Homewares</td>\n",
       "      <td>6.640168</td>\n",
       "    </tr>\n",
       "    <tr>\n",
       "      <th>19</th>\n",
       "      <td>Medicine</td>\n",
       "      <td>6.158584</td>\n",
       "    </tr>\n",
       "    <tr>\n",
       "      <th>8</th>\n",
       "      <td>Furniture</td>\n",
       "      <td>5.852491</td>\n",
       "    </tr>\n",
       "    <tr>\n",
       "      <th>10</th>\n",
       "      <td>Clothing and Accessories</td>\n",
       "      <td>5.807128</td>\n",
       "    </tr>\n",
       "    <tr>\n",
       "      <th>25</th>\n",
       "      <td>Education</td>\n",
       "      <td>5.747126</td>\n",
       "    </tr>\n",
       "    <tr>\n",
       "      <th>13</th>\n",
       "      <td>Other</td>\n",
       "      <td>5.736301</td>\n",
       "    </tr>\n",
       "    <tr>\n",
       "      <th>12</th>\n",
       "      <td>Medical Supplies</td>\n",
       "      <td>5.541796</td>\n",
       "    </tr>\n",
       "    <tr>\n",
       "      <th>16</th>\n",
       "      <td>Tourism</td>\n",
       "      <td>4.404568</td>\n",
       "    </tr>\n",
       "    <tr>\n",
       "      <th>22</th>\n",
       "      <td>Fitness</td>\n",
       "      <td>4.268293</td>\n",
       "    </tr>\n",
       "    <tr>\n",
       "      <th>26</th>\n",
       "      <td>Animals</td>\n",
       "      <td>0.000000</td>\n",
       "    </tr>\n",
       "  </tbody>\n",
       "</table>\n",
       "</div>"
      ],
      "text/plain": [
       "                       Value  Percentage of Defaulter\n",
       "23                 Insurance                10.344828\n",
       "0                   Vehicles                10.239885\n",
       "3                        XNA                 9.484016\n",
       "14                   Jewelry                 9.092675\n",
       "17          Auto Accessories                 8.986585\n",
       "2                     Mobile                 8.647201\n",
       "15         Office Appliances                 8.261965\n",
       "21              Direct Sales                 8.181818\n",
       "9                  Computers                 8.109040\n",
       "20                    Weapon                 7.692308\n",
       "4                Audio/Video                 7.670854\n",
       "7   Photo / Cinema Equipment                 7.627783\n",
       "18         Sport and Leisure                 7.284244\n",
       "1       Consumer Electronics                 7.068410\n",
       "5     Construction Materials                 6.990953\n",
       "6                  Gardening                 6.741573\n",
       "24        Additional Service                 6.730769\n",
       "11                 Homewares                 6.640168\n",
       "19                  Medicine                 6.158584\n",
       "8                  Furniture                 5.852491\n",
       "10  Clothing and Accessories                 5.807128\n",
       "25                 Education                 5.747126\n",
       "13                     Other                 5.736301\n",
       "12          Medical Supplies                 5.541796\n",
       "16                   Tourism                 4.404568\n",
       "22                   Fitness                 4.268293\n",
       "26                   Animals                 0.000000"
      ]
     },
     "execution_count": 73,
     "metadata": {},
     "output_type": "execute_result"
    }
   ],
   "source": [
    "defpercent(pre_merge,'NAME_GOODS_CATEGORY')"
   ]
  },
  {
   "cell_type": "markdown",
   "id": "5ea92c17",
   "metadata": {},
   "source": [
    "We can see that people who applied for insurance and vehicles previously are more prone to default."
   ]
  },
  {
   "cell_type": "code",
   "execution_count": 75,
   "id": "825da56b",
   "metadata": {},
   "outputs": [
    {
     "data": {
      "image/png": "[encoded data removed]",
      "text/plain": [
       "<Figure size 864x432 with 1 Axes>"
      ]
     },
     "metadata": {},
     "output_type": "display_data"
    }
   ],
   "source": [
    "fig = plt.figure(figsize=(12,6))\n",
    "plt.title(\"Previous application portfolio\")\n",
    "sns.countplot(pre_merge['NAME_PORTFOLIO'], hue=pre_merge['TARGET'])\n",
    "plt.xticks(rotation=90)\n",
    "plt.show()"
   ]
  },
  {
   "cell_type": "code",
   "execution_count": 77,
   "id": "378083db",
   "metadata": {},
   "outputs": [
    {
     "data": {
      "text/html": [
       "<div>\n",
       "<style scoped>\n",
       "    .dataframe tbody tr th:only-of-type {\n",
       "        vertical-align: middle;\n",
       "    }\n",
       "\n",
       "    .dataframe tbody tr th {\n",
       "        vertical-align: top;\n",
       "    }\n",
       "\n",
       "    .dataframe thead th {\n",
       "        text-align: right;\n",
       "    }\n",
       "</style>\n",
       "<table border=\"1\" class=\"dataframe\">\n",
       "  <thead>\n",
       "    <tr style=\"text-align: right;\">\n",
       "      <th></th>\n",
       "      <th>Value</th>\n",
       "      <th>Percentage of Defaulter</th>\n",
       "    </tr>\n",
       "  </thead>\n",
       "  <tbody>\n",
       "    <tr>\n",
       "      <th>3</th>\n",
       "      <td>Cards</td>\n",
       "      <td>10.165419</td>\n",
       "    </tr>\n",
       "    <tr>\n",
       "      <th>2</th>\n",
       "      <td>XNA</td>\n",
       "      <td>9.734115</td>\n",
       "    </tr>\n",
       "    <tr>\n",
       "      <th>1</th>\n",
       "      <td>Cash</td>\n",
       "      <td>9.054621</td>\n",
       "    </tr>\n",
       "    <tr>\n",
       "      <th>0</th>\n",
       "      <td>POS</td>\n",
       "      <td>7.648003</td>\n",
       "    </tr>\n",
       "    <tr>\n",
       "      <th>4</th>\n",
       "      <td>Cars</td>\n",
       "      <td>5.882353</td>\n",
       "    </tr>\n",
       "  </tbody>\n",
       "</table>\n",
       "</div>"
      ],
      "text/plain": [
       "   Value  Percentage of Defaulter\n",
       "3  Cards                10.165419\n",
       "2    XNA                 9.734115\n",
       "1   Cash                 9.054621\n",
       "0    POS                 7.648003\n",
       "4   Cars                 5.882353"
      ]
     },
     "execution_count": 77,
     "metadata": {},
     "output_type": "execute_result"
    }
   ],
   "source": [
    "defpercent(pre_merge,'NAME_PORTFOLIO')"
   ]
  },
  {
   "cell_type": "markdown",
   "id": "de6f85cd",
   "metadata": {},
   "source": [
    "We can see that applicants with card are more prone to default"
   ]
  },
  {
   "cell_type": "code",
   "execution_count": 78,
   "id": "ba09bdc7",
   "metadata": {},
   "outputs": [
    {
     "data": {
      "image/png": "[encoded data removed]",
      "text/plain": [
       "<Figure size 864x432 with 1 Axes>"
      ]
     },
     "metadata": {},
     "output_type": "display_data"
    }
   ],
   "source": [
    "fig = plt.figure(figsize=(12,6))\n",
    "plt.title(\"Industry seller wise\")\n",
    "sns.countplot(pre_merge['NAME_SELLER_INDUSTRY'], hue=pre_merge['TARGET'])\n",
    "plt.xticks(rotation=90)\n",
    "plt.show()"
   ]
  },
  {
   "cell_type": "code",
   "execution_count": 82,
   "id": "4f3cbe04",
   "metadata": {},
   "outputs": [
    {
     "data": {
      "text/html": [
       "<div>\n",
       "<style scoped>\n",
       "    .dataframe tbody tr th:only-of-type {\n",
       "        vertical-align: middle;\n",
       "    }\n",
       "\n",
       "    .dataframe tbody tr th {\n",
       "        vertical-align: top;\n",
       "    }\n",
       "\n",
       "    .dataframe thead th {\n",
       "        text-align: right;\n",
       "    }\n",
       "</style>\n",
       "<table border=\"1\" class=\"dataframe\">\n",
       "  <thead>\n",
       "    <tr style=\"text-align: right;\">\n",
       "      <th></th>\n",
       "      <th>Value</th>\n",
       "      <th>Percentage of Defaulter</th>\n",
       "    </tr>\n",
       "  </thead>\n",
       "  <tbody>\n",
       "    <tr>\n",
       "      <th>0</th>\n",
       "      <td>Auto technology</td>\n",
       "      <td>10.361146</td>\n",
       "    </tr>\n",
       "    <tr>\n",
       "      <th>3</th>\n",
       "      <td>XNA</td>\n",
       "      <td>9.465362</td>\n",
       "    </tr>\n",
       "    <tr>\n",
       "      <th>2</th>\n",
       "      <td>Connectivity</td>\n",
       "      <td>9.197538</td>\n",
       "    </tr>\n",
       "    <tr>\n",
       "      <th>9</th>\n",
       "      <td>Jewelry</td>\n",
       "      <td>8.981748</td>\n",
       "    </tr>\n",
       "    <tr>\n",
       "      <th>1</th>\n",
       "      <td>Consumer electronics</td>\n",
       "      <td>7.557104</td>\n",
       "    </tr>\n",
       "    <tr>\n",
       "      <th>7</th>\n",
       "      <td>Industry</td>\n",
       "      <td>7.241948</td>\n",
       "    </tr>\n",
       "    <tr>\n",
       "      <th>4</th>\n",
       "      <td>Construction</td>\n",
       "      <td>6.606176</td>\n",
       "    </tr>\n",
       "    <tr>\n",
       "      <th>10</th>\n",
       "      <td>MLM partners</td>\n",
       "      <td>6.209150</td>\n",
       "    </tr>\n",
       "    <tr>\n",
       "      <th>5</th>\n",
       "      <td>Furniture</td>\n",
       "      <td>6.115541</td>\n",
       "    </tr>\n",
       "    <tr>\n",
       "      <th>6</th>\n",
       "      <td>Clothing</td>\n",
       "      <td>5.828949</td>\n",
       "    </tr>\n",
       "    <tr>\n",
       "      <th>8</th>\n",
       "      <td>Tourism</td>\n",
       "      <td>4.451039</td>\n",
       "    </tr>\n",
       "  </tbody>\n",
       "</table>\n",
       "</div>"
      ],
      "text/plain": [
       "                   Value  Percentage of Defaulter\n",
       "0        Auto technology                10.361146\n",
       "3                    XNA                 9.465362\n",
       "2           Connectivity                 9.197538\n",
       "9                Jewelry                 8.981748\n",
       "1   Consumer electronics                 7.557104\n",
       "7               Industry                 7.241948\n",
       "4           Construction                 6.606176\n",
       "10          MLM partners                 6.209150\n",
       "5              Furniture                 6.115541\n",
       "6               Clothing                 5.828949\n",
       "8                Tourism                 4.451039"
      ]
     },
     "execution_count": 82,
     "metadata": {},
     "output_type": "execute_result"
    }
   ],
   "source": [
    "defpercent(pre_merge,'NAME_SELLER_INDUSTRY')"
   ]
  },
  {
   "cell_type": "markdown",
   "id": "5d18a2b1",
   "metadata": {},
   "source": [
    "We can see that Auto Technology has more number of defaulters."
   ]
  },
  {
   "cell_type": "markdown",
   "id": "a73d3b48",
   "metadata": {},
   "source": [
    "### Conclusion"
   ]
  },
  {
   "cell_type": "markdown",
   "id": "7014d74e",
   "metadata": {},
   "source": [
    "* 87.88% of the applicants whose loan application was refused was able to pay the current loan.\n",
    "* Out of the total approved applicants, 7.64% of the applicants default in current loan.\n",
    "* LIMIT, HC and SCO are the main reasons for rejection.\n",
    "* People who applied for insurance and vehicles previously are more prone to default.\n",
    "* Applicants with card are more prone to default\n",
    "* Auto Technology has more number of defaulters."
   ]
  },
  {
   "cell_type": "code",
   "execution_count": null,
   "id": "99883458",
   "metadata": {},
   "outputs": [],
   "source": []
  }
 ],
 "metadata": {
  "kernelspec": {
   "display_name": "Python 3",
   "language": "python",
   "name": "python3"
  },
  "language_info": {
   "codemirror_mode": {
    "name": "ipython",
    "version": 3
   },
   "file_extension": ".py",
   "mimetype": "text/x-python",
   "name": "python",
   "nbconvert_exporter": "python",
   "pygments_lexer": "ipython3",
   "version": "3.8.8"
  }
 },
 "nbformat": 4,
 "nbformat_minor": 5
}
