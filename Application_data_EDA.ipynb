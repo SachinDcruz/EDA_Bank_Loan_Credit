{
 "cells": [
  {
   "cell_type": "markdown",
   "id": "5d7168af",
   "metadata": {},
   "source": [
    "Importing the Modules"
   ]
  },
  {
   "cell_type": "code",
   "execution_count": 208,
   "id": "bdfd1d35",
   "metadata": {},
   "outputs": [],
   "source": [
    "import pandas as pd\n",
    "import numpy as np\n",
    "import matplotlib.pyplot as plt\n",
    "import seaborn as sns"
   ]
  },
  {
   "cell_type": "code",
   "execution_count": 3,
   "id": "bd69c963",
   "metadata": {},
   "outputs": [],
   "source": [
    "import warnings\n",
    "warnings.filterwarnings(\"ignore\")"
   ]
  },
  {
   "cell_type": "code",
   "execution_count": 4,
   "id": "4c6a8a86",
   "metadata": {},
   "outputs": [],
   "source": [
    "app_df = pd.read_csv(\"application_data.csv\")\n",
    "pre_df = pd.read_csv(\"previous_application.csv\")"
   ]
  },
  {
   "cell_type": "code",
   "execution_count": 5,
   "id": "bc377100",
   "metadata": {},
   "outputs": [
    {
     "data": {
      "text/html": [
       "<div>\n",
       "<style scoped>\n",
       "    .dataframe tbody tr th:only-of-type {\n",
       "        vertical-align: middle;\n",
       "    }\n",
       "\n",
       "    .dataframe tbody tr th {\n",
       "        vertical-align: top;\n",
       "    }\n",
       "\n",
       "    .dataframe thead th {\n",
       "        text-align: right;\n",
       "    }\n",
       "</style>\n",
       "<table border=\"1\" class=\"dataframe\">\n",
       "  <thead>\n",
       "    <tr style=\"text-align: right;\">\n",
       "      <th></th>\n",
       "      <th>SK_ID_CURR</th>\n",
       "      <th>TARGET</th>\n",
       "      <th>NAME_CONTRACT_TYPE</th>\n",
       "      <th>CODE_GENDER</th>\n",
       "      <th>FLAG_OWN_CAR</th>\n",
       "      <th>FLAG_OWN_REALTY</th>\n",
       "      <th>CNT_CHILDREN</th>\n",
       "      <th>AMT_INCOME_TOTAL</th>\n",
       "      <th>AMT_CREDIT</th>\n",
       "      <th>AMT_ANNUITY</th>\n",
       "      <th>...</th>\n",
       "      <th>FLAG_DOCUMENT_18</th>\n",
       "      <th>FLAG_DOCUMENT_19</th>\n",
       "      <th>FLAG_DOCUMENT_20</th>\n",
       "      <th>FLAG_DOCUMENT_21</th>\n",
       "      <th>AMT_REQ_CREDIT_BUREAU_HOUR</th>\n",
       "      <th>AMT_REQ_CREDIT_BUREAU_DAY</th>\n",
       "      <th>AMT_REQ_CREDIT_BUREAU_WEEK</th>\n",
       "      <th>AMT_REQ_CREDIT_BUREAU_MON</th>\n",
       "      <th>AMT_REQ_CREDIT_BUREAU_QRT</th>\n",
       "      <th>AMT_REQ_CREDIT_BUREAU_YEAR</th>\n",
       "    </tr>\n",
       "  </thead>\n",
       "  <tbody>\n",
       "    <tr>\n",
       "      <th>0</th>\n",
       "      <td>100002</td>\n",
       "      <td>1</td>\n",
       "      <td>Cash loans</td>\n",
       "      <td>M</td>\n",
       "      <td>N</td>\n",
       "      <td>Y</td>\n",
       "      <td>0</td>\n",
       "      <td>202500.0</td>\n",
       "      <td>406597.5</td>\n",
       "      <td>24700.5</td>\n",
       "      <td>...</td>\n",
       "      <td>0</td>\n",
       "      <td>0</td>\n",
       "      <td>0</td>\n",
       "      <td>0</td>\n",
       "      <td>0.0</td>\n",
       "      <td>0.0</td>\n",
       "      <td>0.0</td>\n",
       "      <td>0.0</td>\n",
       "      <td>0.0</td>\n",
       "      <td>1.0</td>\n",
       "    </tr>\n",
       "    <tr>\n",
       "      <th>1</th>\n",
       "      <td>100003</td>\n",
       "      <td>0</td>\n",
       "      <td>Cash loans</td>\n",
       "      <td>F</td>\n",
       "      <td>N</td>\n",
       "      <td>N</td>\n",
       "      <td>0</td>\n",
       "      <td>270000.0</td>\n",
       "      <td>1293502.5</td>\n",
       "      <td>35698.5</td>\n",
       "      <td>...</td>\n",
       "      <td>0</td>\n",
       "      <td>0</td>\n",
       "      <td>0</td>\n",
       "      <td>0</td>\n",
       "      <td>0.0</td>\n",
       "      <td>0.0</td>\n",
       "      <td>0.0</td>\n",
       "      <td>0.0</td>\n",
       "      <td>0.0</td>\n",
       "      <td>0.0</td>\n",
       "    </tr>\n",
       "    <tr>\n",
       "      <th>2</th>\n",
       "      <td>100004</td>\n",
       "      <td>0</td>\n",
       "      <td>Revolving loans</td>\n",
       "      <td>M</td>\n",
       "      <td>Y</td>\n",
       "      <td>Y</td>\n",
       "      <td>0</td>\n",
       "      <td>67500.0</td>\n",
       "      <td>135000.0</td>\n",
       "      <td>6750.0</td>\n",
       "      <td>...</td>\n",
       "      <td>0</td>\n",
       "      <td>0</td>\n",
       "      <td>0</td>\n",
       "      <td>0</td>\n",
       "      <td>0.0</td>\n",
       "      <td>0.0</td>\n",
       "      <td>0.0</td>\n",
       "      <td>0.0</td>\n",
       "      <td>0.0</td>\n",
       "      <td>0.0</td>\n",
       "    </tr>\n",
       "    <tr>\n",
       "      <th>3</th>\n",
       "      <td>100006</td>\n",
       "      <td>0</td>\n",
       "      <td>Cash loans</td>\n",
       "      <td>F</td>\n",
       "      <td>N</td>\n",
       "      <td>Y</td>\n",
       "      <td>0</td>\n",
       "      <td>135000.0</td>\n",
       "      <td>312682.5</td>\n",
       "      <td>29686.5</td>\n",
       "      <td>...</td>\n",
       "      <td>0</td>\n",
       "      <td>0</td>\n",
       "      <td>0</td>\n",
       "      <td>0</td>\n",
       "      <td>NaN</td>\n",
       "      <td>NaN</td>\n",
       "      <td>NaN</td>\n",
       "      <td>NaN</td>\n",
       "      <td>NaN</td>\n",
       "      <td>NaN</td>\n",
       "    </tr>\n",
       "    <tr>\n",
       "      <th>4</th>\n",
       "      <td>100007</td>\n",
       "      <td>0</td>\n",
       "      <td>Cash loans</td>\n",
       "      <td>M</td>\n",
       "      <td>N</td>\n",
       "      <td>Y</td>\n",
       "      <td>0</td>\n",
       "      <td>121500.0</td>\n",
       "      <td>513000.0</td>\n",
       "      <td>21865.5</td>\n",
       "      <td>...</td>\n",
       "      <td>0</td>\n",
       "      <td>0</td>\n",
       "      <td>0</td>\n",
       "      <td>0</td>\n",
       "      <td>0.0</td>\n",
       "      <td>0.0</td>\n",
       "      <td>0.0</td>\n",
       "      <td>0.0</td>\n",
       "      <td>0.0</td>\n",
       "      <td>0.0</td>\n",
       "    </tr>\n",
       "  </tbody>\n",
       "</table>\n",
       "<p>5 rows × 122 columns</p>\n",
       "</div>"
      ],
      "text/plain": [
       "   SK_ID_CURR  TARGET NAME_CONTRACT_TYPE CODE_GENDER FLAG_OWN_CAR  \\\n",
       "0      100002       1         Cash loans           M            N   \n",
       "1      100003       0         Cash loans           F            N   \n",
       "2      100004       0    Revolving loans           M            Y   \n",
       "3      100006       0         Cash loans           F            N   \n",
       "4      100007       0         Cash loans           M            N   \n",
       "\n",
       "  FLAG_OWN_REALTY  CNT_CHILDREN  AMT_INCOME_TOTAL  AMT_CREDIT  AMT_ANNUITY  \\\n",
       "0               Y             0          202500.0    406597.5      24700.5   \n",
       "1               N             0          270000.0   1293502.5      35698.5   \n",
       "2               Y             0           67500.0    135000.0       6750.0   \n",
       "3               Y             0          135000.0    312682.5      29686.5   \n",
       "4               Y             0          121500.0    513000.0      21865.5   \n",
       "\n",
       "   ...  FLAG_DOCUMENT_18 FLAG_DOCUMENT_19 FLAG_DOCUMENT_20 FLAG_DOCUMENT_21  \\\n",
       "0  ...                 0                0                0                0   \n",
       "1  ...                 0                0                0                0   \n",
       "2  ...                 0                0                0                0   \n",
       "3  ...                 0                0                0                0   \n",
       "4  ...                 0                0                0                0   \n",
       "\n",
       "  AMT_REQ_CREDIT_BUREAU_HOUR AMT_REQ_CREDIT_BUREAU_DAY  \\\n",
       "0                        0.0                       0.0   \n",
       "1                        0.0                       0.0   \n",
       "2                        0.0                       0.0   \n",
       "3                        NaN                       NaN   \n",
       "4                        0.0                       0.0   \n",
       "\n",
       "   AMT_REQ_CREDIT_BUREAU_WEEK  AMT_REQ_CREDIT_BUREAU_MON  \\\n",
       "0                         0.0                        0.0   \n",
       "1                         0.0                        0.0   \n",
       "2                         0.0                        0.0   \n",
       "3                         NaN                        NaN   \n",
       "4                         0.0                        0.0   \n",
       "\n",
       "   AMT_REQ_CREDIT_BUREAU_QRT  AMT_REQ_CREDIT_BUREAU_YEAR  \n",
       "0                        0.0                         1.0  \n",
       "1                        0.0                         0.0  \n",
       "2                        0.0                         0.0  \n",
       "3                        NaN                         NaN  \n",
       "4                        0.0                         0.0  \n",
       "\n",
       "[5 rows x 122 columns]"
      ]
     },
     "execution_count": 5,
     "metadata": {},
     "output_type": "execute_result"
    }
   ],
   "source": [
    "app_df.head()"
   ]
  },
  {
   "cell_type": "code",
   "execution_count": 7,
   "id": "faa37b4a",
   "metadata": {},
   "outputs": [
    {
     "data": {
      "text/html": [
       "<div>\n",
       "<style scoped>\n",
       "    .dataframe tbody tr th:only-of-type {\n",
       "        vertical-align: middle;\n",
       "    }\n",
       "\n",
       "    .dataframe tbody tr th {\n",
       "        vertical-align: top;\n",
       "    }\n",
       "\n",
       "    .dataframe thead th {\n",
       "        text-align: right;\n",
       "    }\n",
       "</style>\n",
       "<table border=\"1\" class=\"dataframe\">\n",
       "  <thead>\n",
       "    <tr style=\"text-align: right;\">\n",
       "      <th></th>\n",
       "      <th>SK_ID_PREV</th>\n",
       "      <th>SK_ID_CURR</th>\n",
       "      <th>NAME_CONTRACT_TYPE</th>\n",
       "      <th>AMT_ANNUITY</th>\n",
       "      <th>AMT_APPLICATION</th>\n",
       "      <th>AMT_CREDIT</th>\n",
       "      <th>AMT_DOWN_PAYMENT</th>\n",
       "      <th>AMT_GOODS_PRICE</th>\n",
       "      <th>WEEKDAY_APPR_PROCESS_START</th>\n",
       "      <th>HOUR_APPR_PROCESS_START</th>\n",
       "      <th>...</th>\n",
       "      <th>NAME_SELLER_INDUSTRY</th>\n",
       "      <th>CNT_PAYMENT</th>\n",
       "      <th>NAME_YIELD_GROUP</th>\n",
       "      <th>PRODUCT_COMBINATION</th>\n",
       "      <th>DAYS_FIRST_DRAWING</th>\n",
       "      <th>DAYS_FIRST_DUE</th>\n",
       "      <th>DAYS_LAST_DUE_1ST_VERSION</th>\n",
       "      <th>DAYS_LAST_DUE</th>\n",
       "      <th>DAYS_TERMINATION</th>\n",
       "      <th>NFLAG_INSURED_ON_APPROVAL</th>\n",
       "    </tr>\n",
       "  </thead>\n",
       "  <tbody>\n",
       "    <tr>\n",
       "      <th>0</th>\n",
       "      <td>2030495</td>\n",
       "      <td>271877</td>\n",
       "      <td>Consumer loans</td>\n",
       "      <td>1730.430</td>\n",
       "      <td>17145.0</td>\n",
       "      <td>17145.0</td>\n",
       "      <td>0.0</td>\n",
       "      <td>17145.0</td>\n",
       "      <td>SATURDAY</td>\n",
       "      <td>15</td>\n",
       "      <td>...</td>\n",
       "      <td>Connectivity</td>\n",
       "      <td>12.0</td>\n",
       "      <td>middle</td>\n",
       "      <td>POS mobile with interest</td>\n",
       "      <td>365243.0</td>\n",
       "      <td>-42.0</td>\n",
       "      <td>300.0</td>\n",
       "      <td>-42.0</td>\n",
       "      <td>-37.0</td>\n",
       "      <td>0.0</td>\n",
       "    </tr>\n",
       "    <tr>\n",
       "      <th>1</th>\n",
       "      <td>2802425</td>\n",
       "      <td>108129</td>\n",
       "      <td>Cash loans</td>\n",
       "      <td>25188.615</td>\n",
       "      <td>607500.0</td>\n",
       "      <td>679671.0</td>\n",
       "      <td>NaN</td>\n",
       "      <td>607500.0</td>\n",
       "      <td>THURSDAY</td>\n",
       "      <td>11</td>\n",
       "      <td>...</td>\n",
       "      <td>XNA</td>\n",
       "      <td>36.0</td>\n",
       "      <td>low_action</td>\n",
       "      <td>Cash X-Sell: low</td>\n",
       "      <td>365243.0</td>\n",
       "      <td>-134.0</td>\n",
       "      <td>916.0</td>\n",
       "      <td>365243.0</td>\n",
       "      <td>365243.0</td>\n",
       "      <td>1.0</td>\n",
       "    </tr>\n",
       "    <tr>\n",
       "      <th>2</th>\n",
       "      <td>2523466</td>\n",
       "      <td>122040</td>\n",
       "      <td>Cash loans</td>\n",
       "      <td>15060.735</td>\n",
       "      <td>112500.0</td>\n",
       "      <td>136444.5</td>\n",
       "      <td>NaN</td>\n",
       "      <td>112500.0</td>\n",
       "      <td>TUESDAY</td>\n",
       "      <td>11</td>\n",
       "      <td>...</td>\n",
       "      <td>XNA</td>\n",
       "      <td>12.0</td>\n",
       "      <td>high</td>\n",
       "      <td>Cash X-Sell: high</td>\n",
       "      <td>365243.0</td>\n",
       "      <td>-271.0</td>\n",
       "      <td>59.0</td>\n",
       "      <td>365243.0</td>\n",
       "      <td>365243.0</td>\n",
       "      <td>1.0</td>\n",
       "    </tr>\n",
       "    <tr>\n",
       "      <th>3</th>\n",
       "      <td>2819243</td>\n",
       "      <td>176158</td>\n",
       "      <td>Cash loans</td>\n",
       "      <td>47041.335</td>\n",
       "      <td>450000.0</td>\n",
       "      <td>470790.0</td>\n",
       "      <td>NaN</td>\n",
       "      <td>450000.0</td>\n",
       "      <td>MONDAY</td>\n",
       "      <td>7</td>\n",
       "      <td>...</td>\n",
       "      <td>XNA</td>\n",
       "      <td>12.0</td>\n",
       "      <td>middle</td>\n",
       "      <td>Cash X-Sell: middle</td>\n",
       "      <td>365243.0</td>\n",
       "      <td>-482.0</td>\n",
       "      <td>-152.0</td>\n",
       "      <td>-182.0</td>\n",
       "      <td>-177.0</td>\n",
       "      <td>1.0</td>\n",
       "    </tr>\n",
       "    <tr>\n",
       "      <th>4</th>\n",
       "      <td>1784265</td>\n",
       "      <td>202054</td>\n",
       "      <td>Cash loans</td>\n",
       "      <td>31924.395</td>\n",
       "      <td>337500.0</td>\n",
       "      <td>404055.0</td>\n",
       "      <td>NaN</td>\n",
       "      <td>337500.0</td>\n",
       "      <td>THURSDAY</td>\n",
       "      <td>9</td>\n",
       "      <td>...</td>\n",
       "      <td>XNA</td>\n",
       "      <td>24.0</td>\n",
       "      <td>high</td>\n",
       "      <td>Cash Street: high</td>\n",
       "      <td>NaN</td>\n",
       "      <td>NaN</td>\n",
       "      <td>NaN</td>\n",
       "      <td>NaN</td>\n",
       "      <td>NaN</td>\n",
       "      <td>NaN</td>\n",
       "    </tr>\n",
       "  </tbody>\n",
       "</table>\n",
       "<p>5 rows × 37 columns</p>\n",
       "</div>"
      ],
      "text/plain": [
       "   SK_ID_PREV  SK_ID_CURR NAME_CONTRACT_TYPE  AMT_ANNUITY  AMT_APPLICATION  \\\n",
       "0     2030495      271877     Consumer loans     1730.430          17145.0   \n",
       "1     2802425      108129         Cash loans    25188.615         607500.0   \n",
       "2     2523466      122040         Cash loans    15060.735         112500.0   \n",
       "3     2819243      176158         Cash loans    47041.335         450000.0   \n",
       "4     1784265      202054         Cash loans    31924.395         337500.0   \n",
       "\n",
       "   AMT_CREDIT  AMT_DOWN_PAYMENT  AMT_GOODS_PRICE WEEKDAY_APPR_PROCESS_START  \\\n",
       "0     17145.0               0.0          17145.0                   SATURDAY   \n",
       "1    679671.0               NaN         607500.0                   THURSDAY   \n",
       "2    136444.5               NaN         112500.0                    TUESDAY   \n",
       "3    470790.0               NaN         450000.0                     MONDAY   \n",
       "4    404055.0               NaN         337500.0                   THURSDAY   \n",
       "\n",
       "   HOUR_APPR_PROCESS_START  ... NAME_SELLER_INDUSTRY  CNT_PAYMENT  \\\n",
       "0                       15  ...         Connectivity         12.0   \n",
       "1                       11  ...                  XNA         36.0   \n",
       "2                       11  ...                  XNA         12.0   \n",
       "3                        7  ...                  XNA         12.0   \n",
       "4                        9  ...                  XNA         24.0   \n",
       "\n",
       "   NAME_YIELD_GROUP       PRODUCT_COMBINATION  DAYS_FIRST_DRAWING  \\\n",
       "0            middle  POS mobile with interest            365243.0   \n",
       "1        low_action          Cash X-Sell: low            365243.0   \n",
       "2              high         Cash X-Sell: high            365243.0   \n",
       "3            middle       Cash X-Sell: middle            365243.0   \n",
       "4              high         Cash Street: high                 NaN   \n",
       "\n",
       "  DAYS_FIRST_DUE DAYS_LAST_DUE_1ST_VERSION  DAYS_LAST_DUE DAYS_TERMINATION  \\\n",
       "0          -42.0                     300.0          -42.0            -37.0   \n",
       "1         -134.0                     916.0       365243.0         365243.0   \n",
       "2         -271.0                      59.0       365243.0         365243.0   \n",
       "3         -482.0                    -152.0         -182.0           -177.0   \n",
       "4            NaN                       NaN            NaN              NaN   \n",
       "\n",
       "  NFLAG_INSURED_ON_APPROVAL  \n",
       "0                       0.0  \n",
       "1                       1.0  \n",
       "2                       1.0  \n",
       "3                       1.0  \n",
       "4                       NaN  \n",
       "\n",
       "[5 rows x 37 columns]"
      ]
     },
     "execution_count": 7,
     "metadata": {},
     "output_type": "execute_result"
    }
   ],
   "source": [
    "pre_df.head()"
   ]
  },
  {
   "cell_type": "code",
   "execution_count": 9,
   "id": "f56b76ea",
   "metadata": {},
   "outputs": [
    {
     "name": "stdout",
     "output_type": "stream",
     "text": [
      "<class 'pandas.core.frame.DataFrame'>\n",
      "RangeIndex: 307511 entries, 0 to 307510\n",
      "Columns: 122 entries, SK_ID_CURR to AMT_REQ_CREDIT_BUREAU_YEAR\n",
      "dtypes: float64(65), int64(41), object(16)\n",
      "memory usage: 286.2+ MB\n"
     ]
    }
   ],
   "source": [
    "app_df.info()"
   ]
  },
  {
   "cell_type": "code",
   "execution_count": 10,
   "id": "cefa25ac",
   "metadata": {},
   "outputs": [
    {
     "name": "stdout",
     "output_type": "stream",
     "text": [
      "<class 'pandas.core.frame.DataFrame'>\n",
      "RangeIndex: 1670214 entries, 0 to 1670213\n",
      "Data columns (total 37 columns):\n",
      " #   Column                       Non-Null Count    Dtype  \n",
      "---  ------                       --------------    -----  \n",
      " 0   SK_ID_PREV                   1670214 non-null  int64  \n",
      " 1   SK_ID_CURR                   1670214 non-null  int64  \n",
      " 2   NAME_CONTRACT_TYPE           1670214 non-null  object \n",
      " 3   AMT_ANNUITY                  1297979 non-null  float64\n",
      " 4   AMT_APPLICATION              1670214 non-null  float64\n",
      " 5   AMT_CREDIT                   1670213 non-null  float64\n",
      " 6   AMT_DOWN_PAYMENT             774370 non-null   float64\n",
      " 7   AMT_GOODS_PRICE              1284699 non-null  float64\n",
      " 8   WEEKDAY_APPR_PROCESS_START   1670214 non-null  object \n",
      " 9   HOUR_APPR_PROCESS_START      1670214 non-null  int64  \n",
      " 10  FLAG_LAST_APPL_PER_CONTRACT  1670214 non-null  object \n",
      " 11  NFLAG_LAST_APPL_IN_DAY       1670214 non-null  int64  \n",
      " 12  RATE_DOWN_PAYMENT            774370 non-null   float64\n",
      " 13  RATE_INTEREST_PRIMARY        5951 non-null     float64\n",
      " 14  RATE_INTEREST_PRIVILEGED     5951 non-null     float64\n",
      " 15  NAME_CASH_LOAN_PURPOSE       1670214 non-null  object \n",
      " 16  NAME_CONTRACT_STATUS         1670214 non-null  object \n",
      " 17  DAYS_DECISION                1670214 non-null  int64  \n",
      " 18  NAME_PAYMENT_TYPE            1670214 non-null  object \n",
      " 19  CODE_REJECT_REASON           1670214 non-null  object \n",
      " 20  NAME_TYPE_SUITE              849809 non-null   object \n",
      " 21  NAME_CLIENT_TYPE             1670214 non-null  object \n",
      " 22  NAME_GOODS_CATEGORY          1670214 non-null  object \n",
      " 23  NAME_PORTFOLIO               1670214 non-null  object \n",
      " 24  NAME_PRODUCT_TYPE            1670214 non-null  object \n",
      " 25  CHANNEL_TYPE                 1670214 non-null  object \n",
      " 26  SELLERPLACE_AREA             1670214 non-null  int64  \n",
      " 27  NAME_SELLER_INDUSTRY         1670214 non-null  object \n",
      " 28  CNT_PAYMENT                  1297984 non-null  float64\n",
      " 29  NAME_YIELD_GROUP             1670214 non-null  object \n",
      " 30  PRODUCT_COMBINATION          1669868 non-null  object \n",
      " 31  DAYS_FIRST_DRAWING           997149 non-null   float64\n",
      " 32  DAYS_FIRST_DUE               997149 non-null   float64\n",
      " 33  DAYS_LAST_DUE_1ST_VERSION    997149 non-null   float64\n",
      " 34  DAYS_LAST_DUE                997149 non-null   float64\n",
      " 35  DAYS_TERMINATION             997149 non-null   float64\n",
      " 36  NFLAG_INSURED_ON_APPROVAL    997149 non-null   float64\n",
      "dtypes: float64(15), int64(6), object(16)\n",
      "memory usage: 471.5+ MB\n"
     ]
    }
   ],
   "source": [
    "pre_df.info()"
   ]
  },
  {
   "cell_type": "code",
   "execution_count": 11,
   "id": "15d4c46c",
   "metadata": {},
   "outputs": [
    {
     "data": {
      "text/plain": [
       "(307511, 122)"
      ]
     },
     "execution_count": 11,
     "metadata": {},
     "output_type": "execute_result"
    }
   ],
   "source": [
    "app_df.shape"
   ]
  },
  {
   "cell_type": "code",
   "execution_count": 13,
   "id": "a18fa594",
   "metadata": {},
   "outputs": [
    {
     "data": {
      "text/plain": [
       "(1670214, 37)"
      ]
     },
     "execution_count": 13,
     "metadata": {},
     "output_type": "execute_result"
    }
   ],
   "source": [
    "pre_df.shape"
   ]
  },
  {
   "cell_type": "markdown",
   "id": "8a5a82f0",
   "metadata": {},
   "source": [
    "1. There are 307511 rows and 122 columns in Application_data\n",
    "2. There are 1670214 rows and 37 columns in Previous_data"
   ]
  },
  {
   "cell_type": "code",
   "execution_count": 14,
   "id": "943223bb",
   "metadata": {},
   "outputs": [],
   "source": [
    "# Defining a function to return the percentage of missing values.\n",
    "\n",
    "def nullpercent(x):\n",
    "    missing = pd.DataFrame(columns=['category','percentage'])\n",
    "    for col in x.columns:\n",
    "        if x[col].isna().values.any():\n",
    "            percentage = 100*x[col].isna().sum()/x.shape[0]\n",
    "            missing = missing.append({'category' : col, 'percentage' : percentage}, ignore_index=True)\n",
    "    return missing"
   ]
  },
  {
   "cell_type": "code",
   "execution_count": 15,
   "id": "b7ed4f72",
   "metadata": {},
   "outputs": [],
   "source": [
    "# Defining a function to return a dataframe having unique values of a caterory and % of defaulters\n",
    "\n",
    "def defpercent(x, col):\n",
    "    new_df = pd.DataFrame(columns=['Value', 'Percentage of Defaulter'])\n",
    "    \n",
    "    for value in x[col].unique():\n",
    "        default_cnt = x[(x[col] == value) & (x.TARGET == 1)].shape[0]\n",
    "        total_cnt = x[x[col] == value].shape[0]\n",
    "        new_df = new_df.append({'Value' : value , 'Percentage of Defaulter' : (default_cnt*100/total_cnt)}, ignore_index=True)\n",
    "    return new_df.sort_values(by='Percentage of Defaulter', ascending=False)"
   ]
  },
  {
   "cell_type": "markdown",
   "id": "ec0267fe",
   "metadata": {},
   "source": [
    "Checking Data Imbalance"
   ]
  },
  {
   "cell_type": "code",
   "execution_count": 209,
   "id": "ff42a1f6",
   "metadata": {},
   "outputs": [
    {
     "data": {
      "image/png": "[encoded data removed]",
      "text/plain": [
       "<Figure size 432x288 with 1 Axes>"
      ]
     },
     "metadata": {
      "needs_background": "light"
     },
     "output_type": "display_data"
    }
   ],
   "source": [
    "plt.title(\"Status of Current Application\")\n",
    "sns.countplot(app_df.TARGET)\n",
    "plt.show()"
   ]
  },
  {
   "cell_type": "markdown",
   "id": "0a96b202",
   "metadata": {},
   "source": [
    "Data Imbalance Ratio"
   ]
  },
  {
   "cell_type": "code",
   "execution_count": 213,
   "id": "d7c21b2a",
   "metadata": {},
   "outputs": [
    {
     "data": {
      "text/plain": [
       "8.152266466316053"
      ]
     },
     "execution_count": 213,
     "metadata": {},
     "output_type": "execute_result"
    }
   ],
   "source": [
    "dflt  = app_df[app_df.TARGET == 1]\n",
    "nondflt  = app_df[app_df.TARGET == 0]\n",
    "dflt.shape[0]*100/(dflt.shape[0]+nondflt.shape[0])\n"
   ]
  },
  {
   "cell_type": "markdown",
   "id": "a2bbe087",
   "metadata": {},
   "source": [
    "### Segment 1: Documents info"
   ]
  },
  {
   "cell_type": "markdown",
   "id": "36420996",
   "metadata": {},
   "source": [
    "The data is highly imbalanced as the number of defaulters are very less in the whole data."
   ]
  },
  {
   "cell_type": "markdown",
   "id": "0b178552",
   "metadata": {},
   "source": [
    "\n",
    "\n",
    "Analysing FLAG_DOCUMNETS columns to check its relation with TARGET variable."
   ]
  },
  {
   "cell_type": "code",
   "execution_count": 25,
   "id": "c1a301a2",
   "metadata": {},
   "outputs": [
    {
     "data": {
      "image/png": "[encoded data removed]",
      "text/plain": [
       "<Figure size 1080x720 with 2 Axes>"
      ]
     },
     "metadata": {
      "needs_background": "light"
     },
     "output_type": "display_data"
    }
   ],
   "source": [
    "starting_flag = app_df.columns.get_loc(\"FLAG_DOCUMENT_2\")\n",
    "ending_flag = app_df.columns.get_loc(\"FLAG_DOCUMENT_21\")+1\n",
    "\n",
    "plt.figure(figsize=(15,10))\n",
    "sns.heatmap(app_df.iloc[:,starting_flag:ending_flag])\n",
    "plt.show()"
   ]
  },
  {
   "cell_type": "markdown",
   "id": "8db89dbf",
   "metadata": {},
   "source": [
    "Comment:\n",
    "\n",
    "The graph shows that except document 3, all other documents were not provided by by most of the customers.\n",
    "\n",
    "Tberefore we can drop all the columns with documnet except for document 3 as it does not contribute to the analysis."
   ]
  },
  {
   "cell_type": "code",
   "execution_count": 32,
   "id": "4edc28e5",
   "metadata": {},
   "outputs": [],
   "source": [
    "app_df.drop(columns=['FLAG_DOCUMENT_2', 'FLAG_DOCUMENT_4', 'FLAG_DOCUMENT_5',\n",
    "       'FLAG_DOCUMENT_6', 'FLAG_DOCUMENT_7', 'FLAG_DOCUMENT_8',\n",
    "       'FLAG_DOCUMENT_9', 'FLAG_DOCUMENT_10', 'FLAG_DOCUMENT_11',\n",
    "       'FLAG_DOCUMENT_12', 'FLAG_DOCUMENT_13', 'FLAG_DOCUMENT_14',\n",
    "       'FLAG_DOCUMENT_15', 'FLAG_DOCUMENT_16', 'FLAG_DOCUMENT_17',\n",
    "       'FLAG_DOCUMENT_18', 'FLAG_DOCUMENT_19', 'FLAG_DOCUMENT_20',\n",
    "       'FLAG_DOCUMENT_21'], axis=1, inplace=True)"
   ]
  },
  {
   "cell_type": "code",
   "execution_count": 38,
   "id": "ec4c35ce",
   "metadata": {},
   "outputs": [
    {
     "data": {
      "image/png": "[encoded data removed]",
      "text/plain": [
       "<Figure size 432x288 with 2 Axes>"
      ]
     },
     "metadata": {
      "needs_background": "light"
     },
     "output_type": "display_data"
    }
   ],
   "source": [
    "ax1 = plt.subplot(1, 2, 1, title=\"Document_3 Provided\")\n",
    "ax2 = plt.subplot(1, 2, 2,  title=\"Document_3 Not Provided\")\n",
    "\n",
    "sns.countplot(app_df[app_df[\"FLAG_DOCUMENT_3\"] == 0][\"TARGET\"], ax=ax1)\n",
    "sns.countplot(app_df[app_df[\"FLAG_DOCUMENT_3\"] == 1][\"TARGET\"], ax=ax2)\n",
    "\n",
    "plt.tight_layout()\n",
    "\n",
    "plt.show()"
   ]
  },
  {
   "cell_type": "markdown",
   "id": "9511c5d7",
   "metadata": {},
   "source": [
    "We can see that the graph is almost similar for defaulters and non defaulters.\n",
    "Therefore DOCUMENT_3 column can be dropped"
   ]
  },
  {
   "cell_type": "markdown",
   "id": "d372d75c",
   "metadata": {},
   "source": [
    "### Segment 2: House info"
   ]
  },
  {
   "cell_type": "code",
   "execution_count": 40,
   "id": "1cbe752d",
   "metadata": {},
   "outputs": [],
   "source": [
    "app_df.drop(columns='FLAG_DOCUMENT_3', axis=1, inplace=True)"
   ]
  },
  {
   "cell_type": "markdown",
   "id": "ccfe7948",
   "metadata": {},
   "source": [
    "Checking House info of customers"
   ]
  },
  {
   "cell_type": "code",
   "execution_count": 41,
   "id": "289a966f",
   "metadata": {},
   "outputs": [],
   "source": [
    "starting_hse = app_df.columns.get_loc(\"APARTMENTS_AVG\") \n",
    "ending_hse = app_df.columns.get_loc(\"EMERGENCYSTATE_MODE\")"
   ]
  },
  {
   "cell_type": "code",
   "execution_count": 42,
   "id": "f97db2ea",
   "metadata": {},
   "outputs": [],
   "source": [
    "house_df = app_df.iloc[:, starting_hse:ending_hse+1]\n",
    "house_df.TARGET = app_df.TARGET\n",
    "house_df.NAME_HOUSING_TYPE = app_df.NAME_HOUSING_TYPE"
   ]
  },
  {
   "cell_type": "code",
   "execution_count": 58,
   "id": "fb2a004e",
   "metadata": {},
   "outputs": [],
   "source": [
    "house_missing = nullpercent(house_df)"
   ]
  },
  {
   "cell_type": "code",
   "execution_count": 61,
   "id": "badd3a80",
   "metadata": {},
   "outputs": [
    {
     "data": {
      "text/html": [
       "<div>\n",
       "<style scoped>\n",
       "    .dataframe tbody tr th:only-of-type {\n",
       "        vertical-align: middle;\n",
       "    }\n",
       "\n",
       "    .dataframe tbody tr th {\n",
       "        vertical-align: top;\n",
       "    }\n",
       "\n",
       "    .dataframe thead th {\n",
       "        text-align: right;\n",
       "    }\n",
       "</style>\n",
       "<table border=\"1\" class=\"dataframe\">\n",
       "  <thead>\n",
       "    <tr style=\"text-align: right;\">\n",
       "      <th></th>\n",
       "      <th>category</th>\n",
       "      <th>percentage</th>\n",
       "    </tr>\n",
       "  </thead>\n",
       "  <tbody>\n",
       "    <tr>\n",
       "      <th>46</th>\n",
       "      <td>EMERGENCYSTATE_MODE</td>\n",
       "      <td>47.398304</td>\n",
       "    </tr>\n",
       "    <tr>\n",
       "      <th>44</th>\n",
       "      <td>TOTALAREA_MODE</td>\n",
       "      <td>48.268517</td>\n",
       "    </tr>\n",
       "    <tr>\n",
       "      <th>2</th>\n",
       "      <td>YEARS_BEGINEXPLUATATION_AVG</td>\n",
       "      <td>48.781019</td>\n",
       "    </tr>\n",
       "    <tr>\n",
       "      <th>30</th>\n",
       "      <td>YEARS_BEGINEXPLUATATION_MEDI</td>\n",
       "      <td>48.781019</td>\n",
       "    </tr>\n",
       "    <tr>\n",
       "      <th>16</th>\n",
       "      <td>YEARS_BEGINEXPLUATATION_MODE</td>\n",
       "      <td>48.781019</td>\n",
       "    </tr>\n",
       "    <tr>\n",
       "      <th>35</th>\n",
       "      <td>FLOORSMAX_MEDI</td>\n",
       "      <td>49.760822</td>\n",
       "    </tr>\n",
       "    <tr>\n",
       "      <th>7</th>\n",
       "      <td>FLOORSMAX_AVG</td>\n",
       "      <td>49.760822</td>\n",
       "    </tr>\n",
       "    <tr>\n",
       "      <th>21</th>\n",
       "      <td>FLOORSMAX_MODE</td>\n",
       "      <td>49.760822</td>\n",
       "    </tr>\n",
       "    <tr>\n",
       "      <th>43</th>\n",
       "      <td>HOUSETYPE_MODE</td>\n",
       "      <td>50.176091</td>\n",
       "    </tr>\n",
       "    <tr>\n",
       "      <th>39</th>\n",
       "      <td>LIVINGAREA_MEDI</td>\n",
       "      <td>50.193326</td>\n",
       "    </tr>\n",
       "    <tr>\n",
       "      <th>11</th>\n",
       "      <td>LIVINGAREA_AVG</td>\n",
       "      <td>50.193326</td>\n",
       "    </tr>\n",
       "    <tr>\n",
       "      <th>25</th>\n",
       "      <td>LIVINGAREA_MODE</td>\n",
       "      <td>50.193326</td>\n",
       "    </tr>\n",
       "    <tr>\n",
       "      <th>6</th>\n",
       "      <td>ENTRANCES_AVG</td>\n",
       "      <td>50.348768</td>\n",
       "    </tr>\n",
       "    <tr>\n",
       "      <th>34</th>\n",
       "      <td>ENTRANCES_MEDI</td>\n",
       "      <td>50.348768</td>\n",
       "    </tr>\n",
       "    <tr>\n",
       "      <th>20</th>\n",
       "      <td>ENTRANCES_MODE</td>\n",
       "      <td>50.348768</td>\n",
       "    </tr>\n",
       "    <tr>\n",
       "      <th>28</th>\n",
       "      <td>APARTMENTS_MEDI</td>\n",
       "      <td>50.749729</td>\n",
       "    </tr>\n",
       "    <tr>\n",
       "      <th>0</th>\n",
       "      <td>APARTMENTS_AVG</td>\n",
       "      <td>50.749729</td>\n",
       "    </tr>\n",
       "    <tr>\n",
       "      <th>14</th>\n",
       "      <td>APARTMENTS_MODE</td>\n",
       "      <td>50.749729</td>\n",
       "    </tr>\n",
       "    <tr>\n",
       "      <th>45</th>\n",
       "      <td>WALLSMATERIAL_MODE</td>\n",
       "      <td>50.840783</td>\n",
       "    </tr>\n",
       "    <tr>\n",
       "      <th>19</th>\n",
       "      <td>ELEVATORS_MODE</td>\n",
       "      <td>53.295980</td>\n",
       "    </tr>\n",
       "    <tr>\n",
       "      <th>5</th>\n",
       "      <td>ELEVATORS_AVG</td>\n",
       "      <td>53.295980</td>\n",
       "    </tr>\n",
       "    <tr>\n",
       "      <th>33</th>\n",
       "      <td>ELEVATORS_MEDI</td>\n",
       "      <td>53.295980</td>\n",
       "    </tr>\n",
       "    <tr>\n",
       "      <th>13</th>\n",
       "      <td>NONLIVINGAREA_AVG</td>\n",
       "      <td>55.179164</td>\n",
       "    </tr>\n",
       "    <tr>\n",
       "      <th>41</th>\n",
       "      <td>NONLIVINGAREA_MEDI</td>\n",
       "      <td>55.179164</td>\n",
       "    </tr>\n",
       "    <tr>\n",
       "      <th>27</th>\n",
       "      <td>NONLIVINGAREA_MODE</td>\n",
       "      <td>55.179164</td>\n",
       "    </tr>\n",
       "    <tr>\n",
       "      <th>1</th>\n",
       "      <td>BASEMENTAREA_AVG</td>\n",
       "      <td>58.515956</td>\n",
       "    </tr>\n",
       "    <tr>\n",
       "      <th>29</th>\n",
       "      <td>BASEMENTAREA_MEDI</td>\n",
       "      <td>58.515956</td>\n",
       "    </tr>\n",
       "    <tr>\n",
       "      <th>15</th>\n",
       "      <td>BASEMENTAREA_MODE</td>\n",
       "      <td>58.515956</td>\n",
       "    </tr>\n",
       "    <tr>\n",
       "      <th>23</th>\n",
       "      <td>LANDAREA_MODE</td>\n",
       "      <td>59.376738</td>\n",
       "    </tr>\n",
       "    <tr>\n",
       "      <th>37</th>\n",
       "      <td>LANDAREA_MEDI</td>\n",
       "      <td>59.376738</td>\n",
       "    </tr>\n",
       "    <tr>\n",
       "      <th>9</th>\n",
       "      <td>LANDAREA_AVG</td>\n",
       "      <td>59.376738</td>\n",
       "    </tr>\n",
       "    <tr>\n",
       "      <th>3</th>\n",
       "      <td>YEARS_BUILD_AVG</td>\n",
       "      <td>66.497784</td>\n",
       "    </tr>\n",
       "    <tr>\n",
       "      <th>17</th>\n",
       "      <td>YEARS_BUILD_MODE</td>\n",
       "      <td>66.497784</td>\n",
       "    </tr>\n",
       "    <tr>\n",
       "      <th>31</th>\n",
       "      <td>YEARS_BUILD_MEDI</td>\n",
       "      <td>66.497784</td>\n",
       "    </tr>\n",
       "    <tr>\n",
       "      <th>8</th>\n",
       "      <td>FLOORSMIN_AVG</td>\n",
       "      <td>67.848630</td>\n",
       "    </tr>\n",
       "    <tr>\n",
       "      <th>36</th>\n",
       "      <td>FLOORSMIN_MEDI</td>\n",
       "      <td>67.848630</td>\n",
       "    </tr>\n",
       "    <tr>\n",
       "      <th>22</th>\n",
       "      <td>FLOORSMIN_MODE</td>\n",
       "      <td>67.848630</td>\n",
       "    </tr>\n",
       "    <tr>\n",
       "      <th>10</th>\n",
       "      <td>LIVINGAPARTMENTS_AVG</td>\n",
       "      <td>68.354953</td>\n",
       "    </tr>\n",
       "    <tr>\n",
       "      <th>38</th>\n",
       "      <td>LIVINGAPARTMENTS_MEDI</td>\n",
       "      <td>68.354953</td>\n",
       "    </tr>\n",
       "    <tr>\n",
       "      <th>24</th>\n",
       "      <td>LIVINGAPARTMENTS_MODE</td>\n",
       "      <td>68.354953</td>\n",
       "    </tr>\n",
       "    <tr>\n",
       "      <th>42</th>\n",
       "      <td>FONDKAPREMONT_MODE</td>\n",
       "      <td>68.386172</td>\n",
       "    </tr>\n",
       "    <tr>\n",
       "      <th>26</th>\n",
       "      <td>NONLIVINGAPARTMENTS_MODE</td>\n",
       "      <td>69.432963</td>\n",
       "    </tr>\n",
       "    <tr>\n",
       "      <th>12</th>\n",
       "      <td>NONLIVINGAPARTMENTS_AVG</td>\n",
       "      <td>69.432963</td>\n",
       "    </tr>\n",
       "    <tr>\n",
       "      <th>40</th>\n",
       "      <td>NONLIVINGAPARTMENTS_MEDI</td>\n",
       "      <td>69.432963</td>\n",
       "    </tr>\n",
       "    <tr>\n",
       "      <th>4</th>\n",
       "      <td>COMMONAREA_AVG</td>\n",
       "      <td>69.872297</td>\n",
       "    </tr>\n",
       "    <tr>\n",
       "      <th>18</th>\n",
       "      <td>COMMONAREA_MODE</td>\n",
       "      <td>69.872297</td>\n",
       "    </tr>\n",
       "    <tr>\n",
       "      <th>32</th>\n",
       "      <td>COMMONAREA_MEDI</td>\n",
       "      <td>69.872297</td>\n",
       "    </tr>\n",
       "  </tbody>\n",
       "</table>\n",
       "</div>"
      ],
      "text/plain": [
       "                        category  percentage\n",
       "46           EMERGENCYSTATE_MODE   47.398304\n",
       "44                TOTALAREA_MODE   48.268517\n",
       "2    YEARS_BEGINEXPLUATATION_AVG   48.781019\n",
       "30  YEARS_BEGINEXPLUATATION_MEDI   48.781019\n",
       "16  YEARS_BEGINEXPLUATATION_MODE   48.781019\n",
       "35                FLOORSMAX_MEDI   49.760822\n",
       "7                  FLOORSMAX_AVG   49.760822\n",
       "21                FLOORSMAX_MODE   49.760822\n",
       "43                HOUSETYPE_MODE   50.176091\n",
       "39               LIVINGAREA_MEDI   50.193326\n",
       "11                LIVINGAREA_AVG   50.193326\n",
       "25               LIVINGAREA_MODE   50.193326\n",
       "6                  ENTRANCES_AVG   50.348768\n",
       "34                ENTRANCES_MEDI   50.348768\n",
       "20                ENTRANCES_MODE   50.348768\n",
       "28               APARTMENTS_MEDI   50.749729\n",
       "0                 APARTMENTS_AVG   50.749729\n",
       "14               APARTMENTS_MODE   50.749729\n",
       "45            WALLSMATERIAL_MODE   50.840783\n",
       "19                ELEVATORS_MODE   53.295980\n",
       "5                  ELEVATORS_AVG   53.295980\n",
       "33                ELEVATORS_MEDI   53.295980\n",
       "13             NONLIVINGAREA_AVG   55.179164\n",
       "41            NONLIVINGAREA_MEDI   55.179164\n",
       "27            NONLIVINGAREA_MODE   55.179164\n",
       "1               BASEMENTAREA_AVG   58.515956\n",
       "29             BASEMENTAREA_MEDI   58.515956\n",
       "15             BASEMENTAREA_MODE   58.515956\n",
       "23                 LANDAREA_MODE   59.376738\n",
       "37                 LANDAREA_MEDI   59.376738\n",
       "9                   LANDAREA_AVG   59.376738\n",
       "3                YEARS_BUILD_AVG   66.497784\n",
       "17              YEARS_BUILD_MODE   66.497784\n",
       "31              YEARS_BUILD_MEDI   66.497784\n",
       "8                  FLOORSMIN_AVG   67.848630\n",
       "36                FLOORSMIN_MEDI   67.848630\n",
       "22                FLOORSMIN_MODE   67.848630\n",
       "10          LIVINGAPARTMENTS_AVG   68.354953\n",
       "38         LIVINGAPARTMENTS_MEDI   68.354953\n",
       "24         LIVINGAPARTMENTS_MODE   68.354953\n",
       "42            FONDKAPREMONT_MODE   68.386172\n",
       "26      NONLIVINGAPARTMENTS_MODE   69.432963\n",
       "12       NONLIVINGAPARTMENTS_AVG   69.432963\n",
       "40      NONLIVINGAPARTMENTS_MEDI   69.432963\n",
       "4                 COMMONAREA_AVG   69.872297\n",
       "18               COMMONAREA_MODE   69.872297\n",
       "32               COMMONAREA_MEDI   69.872297"
      ]
     },
     "execution_count": 61,
     "metadata": {},
     "output_type": "execute_result"
    }
   ],
   "source": [
    "house_missing.sort_values(\"percentage\")"
   ]
  },
  {
   "cell_type": "markdown",
   "id": "32a42a32",
   "metadata": {},
   "source": [
    "We can see that all the columns have missing values more than 30%. Therefore we can drop them from the dataframe."
   ]
  },
  {
   "cell_type": "code",
   "execution_count": 62,
   "id": "8d9dffb3",
   "metadata": {},
   "outputs": [],
   "source": [
    "app_df.drop(columns=house_missing['category'], axis=1, inplace=True)"
   ]
  },
  {
   "cell_type": "code",
   "execution_count": 64,
   "id": "937ef050",
   "metadata": {},
   "outputs": [
    {
     "data": {
      "text/plain": [
       "(307511, 55)"
      ]
     },
     "execution_count": 64,
     "metadata": {},
     "output_type": "execute_result"
    }
   ],
   "source": [
    "app_df.shape"
   ]
  },
  {
   "cell_type": "code",
   "execution_count": 65,
   "id": "d8e40721",
   "metadata": {},
   "outputs": [
    {
     "data": {
      "text/plain": [
       "Index(['SK_ID_CURR', 'TARGET', 'NAME_CONTRACT_TYPE', 'CODE_GENDER',\n",
       "       'FLAG_OWN_CAR', 'FLAG_OWN_REALTY', 'CNT_CHILDREN', 'AMT_INCOME_TOTAL',\n",
       "       'AMT_CREDIT', 'AMT_ANNUITY', 'AMT_GOODS_PRICE', 'NAME_TYPE_SUITE',\n",
       "       'NAME_INCOME_TYPE', 'NAME_EDUCATION_TYPE', 'NAME_FAMILY_STATUS',\n",
       "       'NAME_HOUSING_TYPE', 'REGION_POPULATION_RELATIVE', 'DAYS_BIRTH',\n",
       "       'DAYS_EMPLOYED', 'DAYS_REGISTRATION', 'DAYS_ID_PUBLISH', 'OWN_CAR_AGE',\n",
       "       'FLAG_MOBIL', 'FLAG_EMP_PHONE', 'FLAG_WORK_PHONE', 'FLAG_CONT_MOBILE',\n",
       "       'FLAG_PHONE', 'FLAG_EMAIL', 'OCCUPATION_TYPE', 'CNT_FAM_MEMBERS',\n",
       "       'REGION_RATING_CLIENT', 'REGION_RATING_CLIENT_W_CITY',\n",
       "       'WEEKDAY_APPR_PROCESS_START', 'HOUR_APPR_PROCESS_START',\n",
       "       'REG_REGION_NOT_LIVE_REGION', 'REG_REGION_NOT_WORK_REGION',\n",
       "       'LIVE_REGION_NOT_WORK_REGION', 'REG_CITY_NOT_LIVE_CITY',\n",
       "       'REG_CITY_NOT_WORK_CITY', 'LIVE_CITY_NOT_WORK_CITY',\n",
       "       'ORGANIZATION_TYPE', 'EXT_SOURCE_1', 'EXT_SOURCE_2', 'EXT_SOURCE_3',\n",
       "       'OBS_30_CNT_SOCIAL_CIRCLE', 'DEF_30_CNT_SOCIAL_CIRCLE',\n",
       "       'OBS_60_CNT_SOCIAL_CIRCLE', 'DEF_60_CNT_SOCIAL_CIRCLE',\n",
       "       'DAYS_LAST_PHONE_CHANGE', 'AMT_REQ_CREDIT_BUREAU_HOUR',\n",
       "       'AMT_REQ_CREDIT_BUREAU_DAY', 'AMT_REQ_CREDIT_BUREAU_WEEK',\n",
       "       'AMT_REQ_CREDIT_BUREAU_MON', 'AMT_REQ_CREDIT_BUREAU_QRT',\n",
       "       'AMT_REQ_CREDIT_BUREAU_YEAR'],\n",
       "      dtype='object')"
      ]
     },
     "execution_count": 65,
     "metadata": {},
     "output_type": "execute_result"
    }
   ],
   "source": [
    "app_df.columns"
   ]
  },
  {
   "cell_type": "code",
   "execution_count": 214,
   "id": "399d41ab",
   "metadata": {},
   "outputs": [
    {
     "data": {
      "image/png": "[encoded data removed]",
      "text/plain": [
       "<Figure size 432x288 with 1 Axes>"
      ]
     },
     "metadata": {
      "needs_background": "light"
     },
     "output_type": "display_data"
    }
   ],
   "source": [
    "plt.figure()\n",
    "sns.countplot(app_df.NAME_HOUSING_TYPE, hue=app_df[\"TARGET\"])\n",
    "plt.xticks(rotation=90)\n",
    "plt.tight_layout()\n",
    "plt.title(\"Housing Type vs. Target\")\n",
    "plt.show()"
   ]
  },
  {
   "cell_type": "code",
   "execution_count": 67,
   "id": "5983fa61",
   "metadata": {},
   "outputs": [
    {
     "data": {
      "text/html": [
       "<div>\n",
       "<style scoped>\n",
       "    .dataframe tbody tr th:only-of-type {\n",
       "        vertical-align: middle;\n",
       "    }\n",
       "\n",
       "    .dataframe tbody tr th {\n",
       "        vertical-align: top;\n",
       "    }\n",
       "\n",
       "    .dataframe thead th {\n",
       "        text-align: right;\n",
       "    }\n",
       "</style>\n",
       "<table border=\"1\" class=\"dataframe\">\n",
       "  <thead>\n",
       "    <tr style=\"text-align: right;\">\n",
       "      <th></th>\n",
       "      <th>Value</th>\n",
       "      <th>Percentage of Defaulter</th>\n",
       "    </tr>\n",
       "  </thead>\n",
       "  <tbody>\n",
       "    <tr>\n",
       "      <th>1</th>\n",
       "      <td>Rented apartment</td>\n",
       "      <td>12.313051</td>\n",
       "    </tr>\n",
       "    <tr>\n",
       "      <th>2</th>\n",
       "      <td>With parents</td>\n",
       "      <td>11.698113</td>\n",
       "    </tr>\n",
       "    <tr>\n",
       "      <th>3</th>\n",
       "      <td>Municipal apartment</td>\n",
       "      <td>8.539748</td>\n",
       "    </tr>\n",
       "    <tr>\n",
       "      <th>5</th>\n",
       "      <td>Co-op apartment</td>\n",
       "      <td>7.932264</td>\n",
       "    </tr>\n",
       "    <tr>\n",
       "      <th>0</th>\n",
       "      <td>House / apartment</td>\n",
       "      <td>7.795711</td>\n",
       "    </tr>\n",
       "    <tr>\n",
       "      <th>4</th>\n",
       "      <td>Office apartment</td>\n",
       "      <td>6.572411</td>\n",
       "    </tr>\n",
       "  </tbody>\n",
       "</table>\n",
       "</div>"
      ],
      "text/plain": [
       "                 Value  Percentage of Defaulter\n",
       "1     Rented apartment                12.313051\n",
       "2         With parents                11.698113\n",
       "3  Municipal apartment                 8.539748\n",
       "5      Co-op apartment                 7.932264\n",
       "0    House / apartment                 7.795711\n",
       "4     Office apartment                 6.572411"
      ]
     },
     "execution_count": 67,
     "metadata": {},
     "output_type": "execute_result"
    }
   ],
   "source": [
    "defpercent(app_df, 'NAME_HOUSING_TYPE')"
   ]
  },
  {
   "cell_type": "markdown",
   "id": "3be003a5",
   "metadata": {},
   "source": [
    "We can see that people living in Rented apartments are more prone to default."
   ]
  },
  {
   "cell_type": "markdown",
   "id": "3f956a45",
   "metadata": {},
   "source": [
    " "
   ]
  },
  {
   "cell_type": "markdown",
   "id": "68532599",
   "metadata": {},
   "source": [
    "### Segment 3 :Social Circle"
   ]
  },
  {
   "cell_type": "code",
   "execution_count": 69,
   "id": "f805ca38",
   "metadata": {},
   "outputs": [],
   "source": [
    "start_sc = app_df.columns.get_loc('OBS_30_CNT_SOCIAL_CIRCLE')\n",
    "end_sc = app_df.columns.get_loc('DEF_60_CNT_SOCIAL_CIRCLE')\n",
    "\n",
    "social_df = app_df.iloc[:, start_sc:end_sc+1]"
   ]
  },
  {
   "cell_type": "code",
   "execution_count": 72,
   "id": "6aab0f83",
   "metadata": {},
   "outputs": [
    {
     "data": {
      "text/html": [
       "<div>\n",
       "<style scoped>\n",
       "    .dataframe tbody tr th:only-of-type {\n",
       "        vertical-align: middle;\n",
       "    }\n",
       "\n",
       "    .dataframe tbody tr th {\n",
       "        vertical-align: top;\n",
       "    }\n",
       "\n",
       "    .dataframe thead th {\n",
       "        text-align: right;\n",
       "    }\n",
       "</style>\n",
       "<table border=\"1\" class=\"dataframe\">\n",
       "  <thead>\n",
       "    <tr style=\"text-align: right;\">\n",
       "      <th></th>\n",
       "      <th>OBS_30_CNT_SOCIAL_CIRCLE</th>\n",
       "      <th>DEF_30_CNT_SOCIAL_CIRCLE</th>\n",
       "      <th>OBS_60_CNT_SOCIAL_CIRCLE</th>\n",
       "      <th>DEF_60_CNT_SOCIAL_CIRCLE</th>\n",
       "    </tr>\n",
       "  </thead>\n",
       "  <tbody>\n",
       "    <tr>\n",
       "      <th>count</th>\n",
       "      <td>306490.000000</td>\n",
       "      <td>306490.000000</td>\n",
       "      <td>306490.000000</td>\n",
       "      <td>306490.000000</td>\n",
       "    </tr>\n",
       "    <tr>\n",
       "      <th>mean</th>\n",
       "      <td>1.422245</td>\n",
       "      <td>0.143421</td>\n",
       "      <td>1.405292</td>\n",
       "      <td>0.100049</td>\n",
       "    </tr>\n",
       "    <tr>\n",
       "      <th>std</th>\n",
       "      <td>2.400989</td>\n",
       "      <td>0.446698</td>\n",
       "      <td>2.379803</td>\n",
       "      <td>0.362291</td>\n",
       "    </tr>\n",
       "    <tr>\n",
       "      <th>min</th>\n",
       "      <td>0.000000</td>\n",
       "      <td>0.000000</td>\n",
       "      <td>0.000000</td>\n",
       "      <td>0.000000</td>\n",
       "    </tr>\n",
       "    <tr>\n",
       "      <th>25%</th>\n",
       "      <td>0.000000</td>\n",
       "      <td>0.000000</td>\n",
       "      <td>0.000000</td>\n",
       "      <td>0.000000</td>\n",
       "    </tr>\n",
       "    <tr>\n",
       "      <th>50%</th>\n",
       "      <td>0.000000</td>\n",
       "      <td>0.000000</td>\n",
       "      <td>0.000000</td>\n",
       "      <td>0.000000</td>\n",
       "    </tr>\n",
       "    <tr>\n",
       "      <th>75%</th>\n",
       "      <td>2.000000</td>\n",
       "      <td>0.000000</td>\n",
       "      <td>2.000000</td>\n",
       "      <td>0.000000</td>\n",
       "    </tr>\n",
       "    <tr>\n",
       "      <th>max</th>\n",
       "      <td>348.000000</td>\n",
       "      <td>34.000000</td>\n",
       "      <td>344.000000</td>\n",
       "      <td>24.000000</td>\n",
       "    </tr>\n",
       "  </tbody>\n",
       "</table>\n",
       "</div>"
      ],
      "text/plain": [
       "       OBS_30_CNT_SOCIAL_CIRCLE  DEF_30_CNT_SOCIAL_CIRCLE  \\\n",
       "count             306490.000000             306490.000000   \n",
       "mean                   1.422245                  0.143421   \n",
       "std                    2.400989                  0.446698   \n",
       "min                    0.000000                  0.000000   \n",
       "25%                    0.000000                  0.000000   \n",
       "50%                    0.000000                  0.000000   \n",
       "75%                    2.000000                  0.000000   \n",
       "max                  348.000000                 34.000000   \n",
       "\n",
       "       OBS_60_CNT_SOCIAL_CIRCLE  DEF_60_CNT_SOCIAL_CIRCLE  \n",
       "count             306490.000000             306490.000000  \n",
       "mean                   1.405292                  0.100049  \n",
       "std                    2.379803                  0.362291  \n",
       "min                    0.000000                  0.000000  \n",
       "25%                    0.000000                  0.000000  \n",
       "50%                    0.000000                  0.000000  \n",
       "75%                    2.000000                  0.000000  \n",
       "max                  344.000000                 24.000000  "
      ]
     },
     "execution_count": 72,
     "metadata": {},
     "output_type": "execute_result"
    }
   ],
   "source": [
    "social_df.describe()"
   ]
  },
  {
   "cell_type": "code",
   "execution_count": 74,
   "id": "189ac411",
   "metadata": {},
   "outputs": [
    {
     "data": {
      "image/png": "[encoded data removed]",
      "text/plain": [
       "<Figure size 432x288 with 2 Axes>"
      ]
     },
     "metadata": {
      "needs_background": "light"
     },
     "output_type": "display_data"
    }
   ],
   "source": [
    "sns.heatmap(social_df.corr(), annot=True)\n",
    "plt.show()"
   ]
  },
  {
   "cell_type": "markdown",
   "id": "dc6e676c",
   "metadata": {},
   "source": [
    "#### Comment:"
   ]
  },
  {
   "cell_type": "markdown",
   "id": "292f4694",
   "metadata": {},
   "source": [
    "1.OBS_30_CNT_SOCIAL_CIRCLE and OBS_60_CNT_SOCIAL_CIRCLE are both similar columns"
   ]
  },
  {
   "cell_type": "markdown",
   "id": "d89350dc",
   "metadata": {},
   "source": [
    "2.DEF_60_CNT_SOCIAL_CIRCLE and DEF_30_CNT_SOCIAL_CIRCLE are highly correlated"
   ]
  },
  {
   "cell_type": "code",
   "execution_count": 77,
   "id": "beb034b5",
   "metadata": {},
   "outputs": [
    {
     "data": {
      "image/png": "[encoded data removed]",
      "text/plain": [
       "<Figure size 1080x504 with 2 Axes>"
      ]
     },
     "metadata": {
      "needs_background": "light"
     },
     "output_type": "display_data"
    }
   ],
   "source": [
    "fig=plt.subplots(figsize=(15,7))\n",
    "\n",
    "for i, j in enumerate(['DEF_60_CNT_SOCIAL_CIRCLE','OBS_60_CNT_SOCIAL_CIRCLE']):\n",
    "    plt.subplot(2, 2, i+1)\n",
    "    plt.subplots_adjust(hspace = 1.0)\n",
    "    sns.countplot(j, data=nondflt)\n",
    "    plt.title(\"Non-defaulters\")\n",
    "    plt.xticks(rotation=90)\n",
    "    plt.tight_layout()"
   ]
  },
  {
   "cell_type": "code",
   "execution_count": 81,
   "id": "a336b343",
   "metadata": {},
   "outputs": [
    {
     "data": {
      "image/png": "[encoded data removed]",
      "text/plain": [
       "<Figure size 1080x504 with 2 Axes>"
      ]
     },
     "metadata": {
      "needs_background": "light"
     },
     "output_type": "display_data"
    }
   ],
   "source": [
    "fig=plt.subplots(figsize=(15,7))\n",
    "\n",
    "for i, j in enumerate(['DEF_60_CNT_SOCIAL_CIRCLE','OBS_60_CNT_SOCIAL_CIRCLE']):\n",
    "    plt.subplot(2, 2, i+1)\n",
    "    plt.subplots_adjust(hspace = 1.0)\n",
    "    sns.countplot(j, data=dflt)\n",
    "    plt.title(\"Defaulters\")\n",
    "    plt.xticks(rotation=90)\n",
    "    plt.tight_layout()"
   ]
  },
  {
   "cell_type": "markdown",
   "id": "fde51df0",
   "metadata": {},
   "source": [
    "#### Comment:"
   ]
  },
  {
   "cell_type": "markdown",
   "id": "9303a801",
   "metadata": {},
   "source": [
    "We can see that DEF_60_CNT_SOCIAL_CIRCLE and OBS_60_CNT_SOCIAL_CIRCLE have similar trend."
   ]
  },
  {
   "cell_type": "markdown",
   "id": "61d0696b",
   "metadata": {},
   "source": [
    "### Segment 4: Region wise data"
   ]
  },
  {
   "cell_type": "code",
   "execution_count": 82,
   "id": "7bf575b7",
   "metadata": {},
   "outputs": [],
   "source": [
    "start_reg = app_df.columns.get_loc('REG_REGION_NOT_LIVE_REGION')\n",
    "end_reg = app_df.columns.get_loc('LIVE_CITY_NOT_WORK_CITY')\n",
    "\n",
    "regdf = app_df.iloc[:, start_reg:end_reg+1]"
   ]
  },
  {
   "cell_type": "code",
   "execution_count": 83,
   "id": "33a06cfb",
   "metadata": {},
   "outputs": [],
   "source": [
    "regdf.REGION_RATING_CLIENT = app_df.REGION_RATING_CLIENT\n",
    "regdf.REGION_RATING_CLIENT_W_CITY = app_df.REGION_RATING_CLIENT_W_CITY"
   ]
  },
  {
   "cell_type": "code",
   "execution_count": 84,
   "id": "117ac8af",
   "metadata": {},
   "outputs": [],
   "source": [
    "regdf.TARGET = app_df.TARGET"
   ]
  },
  {
   "cell_type": "code",
   "execution_count": 88,
   "id": "3427ffd6",
   "metadata": {},
   "outputs": [
    {
     "data": {
      "image/png": "[encoded data removed]",
      "text/plain": [
       "<Figure size 720x504 with 2 Axes>"
      ]
     },
     "metadata": {
      "needs_background": "light"
     },
     "output_type": "display_data"
    }
   ],
   "source": [
    "fig=plt.subplots(figsize=(10,7))\n",
    "sns.heatmap(regdf)\n",
    "plt.show()"
   ]
  },
  {
   "cell_type": "markdown",
   "id": "ae6d5ffb",
   "metadata": {},
   "source": [
    "REG_REGION_NOT_LIVE_REGION is almost zero, therefore it can be removed"
   ]
  },
  {
   "cell_type": "markdown",
   "id": "21855921",
   "metadata": {},
   "source": [
    "REG_REGION_NOT_WORK_REGION, LIVE_REGION_NOT_WORK_REGION columns are similar, therefore one of them can be removed"
   ]
  },
  {
   "cell_type": "markdown",
   "id": "4a106b6d",
   "metadata": {},
   "source": [
    "REG_CITY_NOT_WORK_CITY, LIVE_CITY_NOT_WORK_CITY columns are similar, therefore one of them can be removed"
   ]
  },
  {
   "cell_type": "code",
   "execution_count": 89,
   "id": "dddf8ce3",
   "metadata": {},
   "outputs": [],
   "source": [
    "app_df.drop(columns=['REG_REGION_NOT_LIVE_REGION','LIVE_REGION_NOT_WORK_REGION','LIVE_CITY_NOT_WORK_CITY'],axis=1, inplace=True)"
   ]
  },
  {
   "cell_type": "code",
   "execution_count": 91,
   "id": "0dd04f88",
   "metadata": {},
   "outputs": [
    {
     "data": {
      "text/plain": [
       "(307511, 52)"
      ]
     },
     "execution_count": 91,
     "metadata": {},
     "output_type": "execute_result"
    }
   ],
   "source": [
    "app_df.shape"
   ]
  },
  {
   "cell_type": "code",
   "execution_count": 97,
   "id": "8c036b36",
   "metadata": {},
   "outputs": [
    {
     "data": {
      "image/png": "[encoded data removed]",
      "text/plain": [
       "<Figure size 720x720 with 5 Axes>"
      ]
     },
     "metadata": {
      "needs_background": "light"
     },
     "output_type": "display_data"
    }
   ],
   "source": [
    "fig=plt.subplots(figsize=(10, 10))\n",
    "\n",
    "for i, j in enumerate(['REG_REGION_NOT_WORK_REGION','REG_CITY_NOT_LIVE_CITY', 'REG_CITY_NOT_WORK_CITY','REGION_RATING_CLIENT', 'REGION_RATING_CLIENT_W_CITY']):\n",
    "    plt.subplot(5, 3, i+1, ylim=(0, 300000))\n",
    "    #plt.subplots_adjust(hspace = 1.0)\n",
    "    sns.countplot(app_df[j], hue=app_df[\"TARGET\"])\n",
    "    plt.tight_layout()"
   ]
  },
  {
   "cell_type": "markdown",
   "id": "4203280e",
   "metadata": {},
   "source": [
    "We can see that defaulter rate is high for people in REG_REGION_NOT_WORK_REGION=0 and REG_CITY_NOT_LIVE_CITY=0"
   ]
  },
  {
   "cell_type": "code",
   "execution_count": 116,
   "id": "bba542a2",
   "metadata": {},
   "outputs": [
    {
     "data": {
      "text/plain": [
       "OCCUPATION_TYPE                31.345545\n",
       "EXT_SOURCE_3                   19.825307\n",
       "AMT_REQ_CREDIT_BUREAU_QRT      13.501631\n",
       "AMT_REQ_CREDIT_BUREAU_MON      13.501631\n",
       "AMT_REQ_CREDIT_BUREAU_WEEK     13.501631\n",
       "AMT_REQ_CREDIT_BUREAU_DAY      13.501631\n",
       "AMT_REQ_CREDIT_BUREAU_HOUR     13.501631\n",
       "AMT_REQ_CREDIT_BUREAU_YEAR     13.501631\n",
       "NAME_TYPE_SUITE                 0.420148\n",
       "DEF_60_CNT_SOCIAL_CIRCLE        0.332021\n",
       "DEF_30_CNT_SOCIAL_CIRCLE        0.332021\n",
       "OBS_30_CNT_SOCIAL_CIRCLE        0.332021\n",
       "OBS_60_CNT_SOCIAL_CIRCLE        0.332021\n",
       "EXT_SOURCE_2                    0.214626\n",
       "AMT_GOODS_PRICE                 0.090403\n",
       "AMT_ANNUITY                     0.003902\n",
       "CNT_FAM_MEMBERS                 0.000650\n",
       "ORGANIZATION_TYPE               0.000000\n",
       "AMT_INCOME_TOTAL                0.000000\n",
       "AMT_CREDIT                      0.000000\n",
       "REG_CITY_NOT_LIVE_CITY          0.000000\n",
       "CNT_CHILDREN                    0.000000\n",
       "FLAG_OWN_REALTY                 0.000000\n",
       "FLAG_OWN_CAR                    0.000000\n",
       "CODE_GENDER                     0.000000\n",
       "NAME_CONTRACT_TYPE              0.000000\n",
       "REG_CITY_NOT_WORK_CITY          0.000000\n",
       "WEEKDAY_APPR_PROCESS_START      0.000000\n",
       "REG_REGION_NOT_WORK_REGION      0.000000\n",
       "HOUR_APPR_PROCESS_START         0.000000\n",
       "REGION_RATING_CLIENT_W_CITY     0.000000\n",
       "REGION_RATING_CLIENT            0.000000\n",
       "TARGET                          0.000000\n",
       "DAYS_ID_PUBLISH                 0.000000\n",
       "DAYS_REGISTRATION               0.000000\n",
       "DAYS_EMPLOYED                   0.000000\n",
       "DAYS_BIRTH                      0.000000\n",
       "REGION_POPULATION_RELATIVE      0.000000\n",
       "NAME_HOUSING_TYPE               0.000000\n",
       "NAME_FAMILY_STATUS              0.000000\n",
       "NAME_EDUCATION_TYPE             0.000000\n",
       "NAME_INCOME_TYPE                0.000000\n",
       "SK_ID_CURR                      0.000000\n",
       "dtype: float64"
      ]
     },
     "execution_count": 116,
     "metadata": {},
     "output_type": "execute_result"
    }
   ],
   "source": [
    "(app_df.isnull().sum()*100/len(app_df)).sort_values(ascending=False)"
   ]
  },
  {
   "cell_type": "markdown",
   "id": "4614f1da",
   "metadata": {},
   "source": [
    "### Segment 5: Asset Review"
   ]
  },
  {
   "cell_type": "code",
   "execution_count": 102,
   "id": "42575fa4",
   "metadata": {},
   "outputs": [],
   "source": [
    "app_df.drop(columns='OWN_CAR_AGE', axis=1, inplace=True)"
   ]
  },
  {
   "cell_type": "code",
   "execution_count": 107,
   "id": "9eff900f",
   "metadata": {},
   "outputs": [
    {
     "name": "stdout",
     "output_type": "stream",
     "text": [
      "<class 'pandas.core.frame.DataFrame'>\n",
      "RangeIndex: 307511 entries, 0 to 307510\n",
      "Data columns (total 3 columns):\n",
      " #   Column           Non-Null Count   Dtype \n",
      "---  ------           --------------   ----- \n",
      " 0   FLAG_OWN_CAR     307511 non-null  object\n",
      " 1   FLAG_OWN_REALTY  307511 non-null  object\n",
      " 2   TARGET           307511 non-null  int64 \n",
      "dtypes: int64(1), object(2)\n",
      "memory usage: 7.0+ MB\n"
     ]
    }
   ],
   "source": [
    "app_df[['FLAG_OWN_CAR', 'FLAG_OWN_REALTY', 'TARGET']].info()"
   ]
  },
  {
   "cell_type": "code",
   "execution_count": 104,
   "id": "f742c152",
   "metadata": {},
   "outputs": [],
   "source": [
    "app_df.drop(columns='EXT_SOURCE_1', axis=1, inplace=True)"
   ]
  },
  {
   "cell_type": "code",
   "execution_count": 111,
   "id": "4b2d2b9f",
   "metadata": {},
   "outputs": [
    {
     "data": {
      "image/png": "[encoded data removed]",
      "text/plain": [
       "<Figure size 432x288 with 2 Axes>"
      ]
     },
     "metadata": {
      "needs_background": "light"
     },
     "output_type": "display_data"
    }
   ],
   "source": [
    "fig = plt.figure()\n",
    "ax1 = fig.add_subplot(1, 2, 1, ylim=(0,250000))\n",
    "ax2 = fig.add_subplot(1, 2, 2, ylim=(0,250000))\n",
    "sns.countplot(app_df['FLAG_OWN_CAR'], hue=app_df['TARGET'], order=['Y','N'], ax=ax1)\n",
    "sns.countplot(app_df['FLAG_OWN_REALTY'], hue=app_df['TARGET'], order=['Y','N'], ax=ax2)\n",
    "plt.tight_layout()\n",
    "plt.show()\n"
   ]
  },
  {
   "cell_type": "code",
   "execution_count": 112,
   "id": "66e6d6ab",
   "metadata": {},
   "outputs": [
    {
     "data": {
      "text/html": [
       "<div>\n",
       "<style scoped>\n",
       "    .dataframe tbody tr th:only-of-type {\n",
       "        vertical-align: middle;\n",
       "    }\n",
       "\n",
       "    .dataframe tbody tr th {\n",
       "        vertical-align: top;\n",
       "    }\n",
       "\n",
       "    .dataframe thead th {\n",
       "        text-align: right;\n",
       "    }\n",
       "</style>\n",
       "<table border=\"1\" class=\"dataframe\">\n",
       "  <thead>\n",
       "    <tr style=\"text-align: right;\">\n",
       "      <th></th>\n",
       "      <th>Value</th>\n",
       "      <th>Percentage of Defaulter</th>\n",
       "    </tr>\n",
       "  </thead>\n",
       "  <tbody>\n",
       "    <tr>\n",
       "      <th>0</th>\n",
       "      <td>N</td>\n",
       "      <td>8.500227</td>\n",
       "    </tr>\n",
       "    <tr>\n",
       "      <th>1</th>\n",
       "      <td>Y</td>\n",
       "      <td>7.243730</td>\n",
       "    </tr>\n",
       "  </tbody>\n",
       "</table>\n",
       "</div>"
      ],
      "text/plain": [
       "  Value  Percentage of Defaulter\n",
       "0     N                 8.500227\n",
       "1     Y                 7.243730"
      ]
     },
     "execution_count": 112,
     "metadata": {},
     "output_type": "execute_result"
    }
   ],
   "source": [
    "defpercent(app_df,'FLAG_OWN_CAR')"
   ]
  },
  {
   "cell_type": "code",
   "execution_count": 113,
   "id": "9628adc4",
   "metadata": {},
   "outputs": [
    {
     "data": {
      "text/html": [
       "<div>\n",
       "<style scoped>\n",
       "    .dataframe tbody tr th:only-of-type {\n",
       "        vertical-align: middle;\n",
       "    }\n",
       "\n",
       "    .dataframe tbody tr th {\n",
       "        vertical-align: top;\n",
       "    }\n",
       "\n",
       "    .dataframe thead th {\n",
       "        text-align: right;\n",
       "    }\n",
       "</style>\n",
       "<table border=\"1\" class=\"dataframe\">\n",
       "  <thead>\n",
       "    <tr style=\"text-align: right;\">\n",
       "      <th></th>\n",
       "      <th>Value</th>\n",
       "      <th>Percentage of Defaulter</th>\n",
       "    </tr>\n",
       "  </thead>\n",
       "  <tbody>\n",
       "    <tr>\n",
       "      <th>1</th>\n",
       "      <td>N</td>\n",
       "      <td>8.324929</td>\n",
       "    </tr>\n",
       "    <tr>\n",
       "      <th>0</th>\n",
       "      <td>Y</td>\n",
       "      <td>7.961577</td>\n",
       "    </tr>\n",
       "  </tbody>\n",
       "</table>\n",
       "</div>"
      ],
      "text/plain": [
       "  Value  Percentage of Defaulter\n",
       "1     N                 8.324929\n",
       "0     Y                 7.961577"
      ]
     },
     "execution_count": 113,
     "metadata": {},
     "output_type": "execute_result"
    }
   ],
   "source": [
    "defpercent(app_df,'FLAG_OWN_REALTY')"
   ]
  },
  {
   "cell_type": "markdown",
   "id": "36b443ab",
   "metadata": {},
   "source": [
    "We can see that people who do not own a car or realty are more prone to default."
   ]
  },
  {
   "cell_type": "code",
   "execution_count": 114,
   "id": "19e9ea0d",
   "metadata": {},
   "outputs": [],
   "source": [
    "app_df.drop(columns=['FLAG_MOBIL','FLAG_EMP_PHONE','FLAG_WORK_PHONE','FLAG_CONT_MOBILE','FLAG_PHONE','FLAG_EMAIL','DAYS_LAST_PHONE_CHANGE'],axis=1, inplace=True)"
   ]
  },
  {
   "cell_type": "code",
   "execution_count": 115,
   "id": "999385f5",
   "metadata": {},
   "outputs": [
    {
     "data": {
      "text/plain": [
       "SK_ID_CURR                         0\n",
       "TARGET                             0\n",
       "NAME_CONTRACT_TYPE                 0\n",
       "CODE_GENDER                        0\n",
       "FLAG_OWN_CAR                       0\n",
       "FLAG_OWN_REALTY                    0\n",
       "CNT_CHILDREN                       0\n",
       "AMT_INCOME_TOTAL                   0\n",
       "AMT_CREDIT                         0\n",
       "AMT_ANNUITY                       12\n",
       "AMT_GOODS_PRICE                  278\n",
       "NAME_TYPE_SUITE                 1292\n",
       "NAME_INCOME_TYPE                   0\n",
       "NAME_EDUCATION_TYPE                0\n",
       "NAME_FAMILY_STATUS                 0\n",
       "NAME_HOUSING_TYPE                  0\n",
       "REGION_POPULATION_RELATIVE         0\n",
       "DAYS_BIRTH                         0\n",
       "DAYS_EMPLOYED                      0\n",
       "DAYS_REGISTRATION                  0\n",
       "DAYS_ID_PUBLISH                    0\n",
       "OCCUPATION_TYPE                96391\n",
       "CNT_FAM_MEMBERS                    2\n",
       "REGION_RATING_CLIENT               0\n",
       "REGION_RATING_CLIENT_W_CITY        0\n",
       "WEEKDAY_APPR_PROCESS_START         0\n",
       "HOUR_APPR_PROCESS_START            0\n",
       "REG_REGION_NOT_WORK_REGION         0\n",
       "REG_CITY_NOT_LIVE_CITY             0\n",
       "REG_CITY_NOT_WORK_CITY             0\n",
       "ORGANIZATION_TYPE                  0\n",
       "EXT_SOURCE_2                     660\n",
       "EXT_SOURCE_3                   60965\n",
       "OBS_30_CNT_SOCIAL_CIRCLE        1021\n",
       "DEF_30_CNT_SOCIAL_CIRCLE        1021\n",
       "OBS_60_CNT_SOCIAL_CIRCLE        1021\n",
       "DEF_60_CNT_SOCIAL_CIRCLE        1021\n",
       "AMT_REQ_CREDIT_BUREAU_HOUR     41519\n",
       "AMT_REQ_CREDIT_BUREAU_DAY      41519\n",
       "AMT_REQ_CREDIT_BUREAU_WEEK     41519\n",
       "AMT_REQ_CREDIT_BUREAU_MON      41519\n",
       "AMT_REQ_CREDIT_BUREAU_QRT      41519\n",
       "AMT_REQ_CREDIT_BUREAU_YEAR     41519\n",
       "dtype: int64"
      ]
     },
     "execution_count": 115,
     "metadata": {},
     "output_type": "execute_result"
    }
   ],
   "source": []
  },
  {
   "cell_type": "code",
   "execution_count": 117,
   "id": "3de77831",
   "metadata": {},
   "outputs": [
    {
     "data": {
      "text/plain": [
       "(307511, 43)"
      ]
     },
     "execution_count": 117,
     "metadata": {},
     "output_type": "execute_result"
    }
   ],
   "source": [
    "app_df.shape"
   ]
  },
  {
   "cell_type": "markdown",
   "id": "262f65d2",
   "metadata": {},
   "source": [
    "### Segment 6: Family info"
   ]
  },
  {
   "cell_type": "code",
   "execution_count": 120,
   "id": "5a7db333",
   "metadata": {},
   "outputs": [
    {
     "data": {
      "text/html": [
       "<div>\n",
       "<style scoped>\n",
       "    .dataframe tbody tr th:only-of-type {\n",
       "        vertical-align: middle;\n",
       "    }\n",
       "\n",
       "    .dataframe tbody tr th {\n",
       "        vertical-align: top;\n",
       "    }\n",
       "\n",
       "    .dataframe thead th {\n",
       "        text-align: right;\n",
       "    }\n",
       "</style>\n",
       "<table border=\"1\" class=\"dataframe\">\n",
       "  <thead>\n",
       "    <tr style=\"text-align: right;\">\n",
       "      <th></th>\n",
       "      <th>CNT_CHILDREN</th>\n",
       "      <th>CNT_FAM_MEMBERS</th>\n",
       "      <th>NAME_FAMILY_STATUS</th>\n",
       "    </tr>\n",
       "  </thead>\n",
       "  <tbody>\n",
       "    <tr>\n",
       "      <th>0</th>\n",
       "      <td>0</td>\n",
       "      <td>1.0</td>\n",
       "      <td>Single / not married</td>\n",
       "    </tr>\n",
       "    <tr>\n",
       "      <th>1</th>\n",
       "      <td>0</td>\n",
       "      <td>2.0</td>\n",
       "      <td>Married</td>\n",
       "    </tr>\n",
       "    <tr>\n",
       "      <th>2</th>\n",
       "      <td>0</td>\n",
       "      <td>1.0</td>\n",
       "      <td>Single / not married</td>\n",
       "    </tr>\n",
       "    <tr>\n",
       "      <th>3</th>\n",
       "      <td>0</td>\n",
       "      <td>2.0</td>\n",
       "      <td>Civil marriage</td>\n",
       "    </tr>\n",
       "    <tr>\n",
       "      <th>4</th>\n",
       "      <td>0</td>\n",
       "      <td>1.0</td>\n",
       "      <td>Single / not married</td>\n",
       "    </tr>\n",
       "  </tbody>\n",
       "</table>\n",
       "</div>"
      ],
      "text/plain": [
       "   CNT_CHILDREN  CNT_FAM_MEMBERS    NAME_FAMILY_STATUS\n",
       "0             0              1.0  Single / not married\n",
       "1             0              2.0               Married\n",
       "2             0              1.0  Single / not married\n",
       "3             0              2.0        Civil marriage\n",
       "4             0              1.0  Single / not married"
      ]
     },
     "execution_count": 120,
     "metadata": {},
     "output_type": "execute_result"
    }
   ],
   "source": [
    "app_df[['CNT_CHILDREN', 'CNT_FAM_MEMBERS', 'NAME_FAMILY_STATUS']].head()"
   ]
  },
  {
   "cell_type": "code",
   "execution_count": 122,
   "id": "d5a025f7",
   "metadata": {},
   "outputs": [
    {
     "name": "stdout",
     "output_type": "stream",
     "text": [
      "<class 'pandas.core.frame.DataFrame'>\n",
      "RangeIndex: 307511 entries, 0 to 307510\n",
      "Data columns (total 3 columns):\n",
      " #   Column              Non-Null Count   Dtype  \n",
      "---  ------              --------------   -----  \n",
      " 0   CNT_CHILDREN        307511 non-null  int64  \n",
      " 1   CNT_FAM_MEMBERS     307509 non-null  float64\n",
      " 2   NAME_FAMILY_STATUS  307511 non-null  object \n",
      "dtypes: float64(1), int64(1), object(1)\n",
      "memory usage: 7.0+ MB\n"
     ]
    }
   ],
   "source": [
    "app_df[['CNT_CHILDREN', 'CNT_FAM_MEMBERS', 'NAME_FAMILY_STATUS']].info()"
   ]
  },
  {
   "cell_type": "code",
   "execution_count": 130,
   "id": "8c71d5d7",
   "metadata": {},
   "outputs": [
    {
     "data": {
      "text/html": [
       "<div>\n",
       "<style scoped>\n",
       "    .dataframe tbody tr th:only-of-type {\n",
       "        vertical-align: middle;\n",
       "    }\n",
       "\n",
       "    .dataframe tbody tr th {\n",
       "        vertical-align: top;\n",
       "    }\n",
       "\n",
       "    .dataframe thead th {\n",
       "        text-align: right;\n",
       "    }\n",
       "</style>\n",
       "<table border=\"1\" class=\"dataframe\">\n",
       "  <thead>\n",
       "    <tr style=\"text-align: right;\">\n",
       "      <th></th>\n",
       "      <th>SK_ID_CURR</th>\n",
       "      <th>TARGET</th>\n",
       "      <th>NAME_CONTRACT_TYPE</th>\n",
       "      <th>CODE_GENDER</th>\n",
       "      <th>FLAG_OWN_CAR</th>\n",
       "      <th>FLAG_OWN_REALTY</th>\n",
       "      <th>CNT_CHILDREN</th>\n",
       "      <th>AMT_INCOME_TOTAL</th>\n",
       "      <th>AMT_CREDIT</th>\n",
       "      <th>AMT_ANNUITY</th>\n",
       "      <th>...</th>\n",
       "      <th>OBS_30_CNT_SOCIAL_CIRCLE</th>\n",
       "      <th>DEF_30_CNT_SOCIAL_CIRCLE</th>\n",
       "      <th>OBS_60_CNT_SOCIAL_CIRCLE</th>\n",
       "      <th>DEF_60_CNT_SOCIAL_CIRCLE</th>\n",
       "      <th>AMT_REQ_CREDIT_BUREAU_HOUR</th>\n",
       "      <th>AMT_REQ_CREDIT_BUREAU_DAY</th>\n",
       "      <th>AMT_REQ_CREDIT_BUREAU_WEEK</th>\n",
       "      <th>AMT_REQ_CREDIT_BUREAU_MON</th>\n",
       "      <th>AMT_REQ_CREDIT_BUREAU_QRT</th>\n",
       "      <th>AMT_REQ_CREDIT_BUREAU_YEAR</th>\n",
       "    </tr>\n",
       "  </thead>\n",
       "  <tbody>\n",
       "    <tr>\n",
       "      <th>41982</th>\n",
       "      <td>148605</td>\n",
       "      <td>0</td>\n",
       "      <td>Revolving loans</td>\n",
       "      <td>M</td>\n",
       "      <td>N</td>\n",
       "      <td>Y</td>\n",
       "      <td>0</td>\n",
       "      <td>450000.0</td>\n",
       "      <td>675000.0</td>\n",
       "      <td>33750.0</td>\n",
       "      <td>...</td>\n",
       "      <td>3.0</td>\n",
       "      <td>0.0</td>\n",
       "      <td>3.0</td>\n",
       "      <td>0.0</td>\n",
       "      <td>NaN</td>\n",
       "      <td>NaN</td>\n",
       "      <td>NaN</td>\n",
       "      <td>NaN</td>\n",
       "      <td>NaN</td>\n",
       "      <td>NaN</td>\n",
       "    </tr>\n",
       "    <tr>\n",
       "      <th>187348</th>\n",
       "      <td>317181</td>\n",
       "      <td>0</td>\n",
       "      <td>Revolving loans</td>\n",
       "      <td>F</td>\n",
       "      <td>N</td>\n",
       "      <td>Y</td>\n",
       "      <td>0</td>\n",
       "      <td>202500.0</td>\n",
       "      <td>585000.0</td>\n",
       "      <td>29250.0</td>\n",
       "      <td>...</td>\n",
       "      <td>1.0</td>\n",
       "      <td>0.0</td>\n",
       "      <td>1.0</td>\n",
       "      <td>0.0</td>\n",
       "      <td>0.0</td>\n",
       "      <td>0.0</td>\n",
       "      <td>0.0</td>\n",
       "      <td>0.0</td>\n",
       "      <td>0.0</td>\n",
       "      <td>1.0</td>\n",
       "    </tr>\n",
       "  </tbody>\n",
       "</table>\n",
       "<p>2 rows × 43 columns</p>\n",
       "</div>"
      ],
      "text/plain": [
       "        SK_ID_CURR  TARGET NAME_CONTRACT_TYPE CODE_GENDER FLAG_OWN_CAR  \\\n",
       "41982       148605       0    Revolving loans           M            N   \n",
       "187348      317181       0    Revolving loans           F            N   \n",
       "\n",
       "       FLAG_OWN_REALTY  CNT_CHILDREN  AMT_INCOME_TOTAL  AMT_CREDIT  \\\n",
       "41982                Y             0          450000.0    675000.0   \n",
       "187348               Y             0          202500.0    585000.0   \n",
       "\n",
       "        AMT_ANNUITY  ...  OBS_30_CNT_SOCIAL_CIRCLE DEF_30_CNT_SOCIAL_CIRCLE  \\\n",
       "41982       33750.0  ...                       3.0                      0.0   \n",
       "187348      29250.0  ...                       1.0                      0.0   \n",
       "\n",
       "       OBS_60_CNT_SOCIAL_CIRCLE DEF_60_CNT_SOCIAL_CIRCLE  \\\n",
       "41982                       3.0                      0.0   \n",
       "187348                      1.0                      0.0   \n",
       "\n",
       "       AMT_REQ_CREDIT_BUREAU_HOUR AMT_REQ_CREDIT_BUREAU_DAY  \\\n",
       "41982                         NaN                       NaN   \n",
       "187348                        0.0                       0.0   \n",
       "\n",
       "        AMT_REQ_CREDIT_BUREAU_WEEK  AMT_REQ_CREDIT_BUREAU_MON  \\\n",
       "41982                          NaN                        NaN   \n",
       "187348                         0.0                        0.0   \n",
       "\n",
       "        AMT_REQ_CREDIT_BUREAU_QRT  AMT_REQ_CREDIT_BUREAU_YEAR  \n",
       "41982                         NaN                         NaN  \n",
       "187348                        0.0                         1.0  \n",
       "\n",
       "[2 rows x 43 columns]"
      ]
     },
     "execution_count": 130,
     "metadata": {},
     "output_type": "execute_result"
    }
   ],
   "source": [
    "app_df[app_df['CNT_FAM_MEMBERS'].isnull()]"
   ]
  },
  {
   "cell_type": "markdown",
   "id": "d2b55ebf",
   "metadata": {},
   "source": [
    "Dropping rows with null values"
   ]
  },
  {
   "cell_type": "code",
   "execution_count": 131,
   "id": "439db147",
   "metadata": {},
   "outputs": [],
   "source": [
    "app_df = app_df.dropna(subset=['CNT_FAM_MEMBERS']) "
   ]
  },
  {
   "cell_type": "code",
   "execution_count": 132,
   "id": "bc2119c6",
   "metadata": {},
   "outputs": [
    {
     "name": "stdout",
     "output_type": "stream",
     "text": [
      "<class 'pandas.core.frame.DataFrame'>\n",
      "Int64Index: 307509 entries, 0 to 307510\n",
      "Data columns (total 3 columns):\n",
      " #   Column              Non-Null Count   Dtype  \n",
      "---  ------              --------------   -----  \n",
      " 0   CNT_CHILDREN        307509 non-null  int64  \n",
      " 1   CNT_FAM_MEMBERS     307509 non-null  float64\n",
      " 2   NAME_FAMILY_STATUS  307509 non-null  object \n",
      "dtypes: float64(1), int64(1), object(1)\n",
      "memory usage: 9.4+ MB\n"
     ]
    }
   ],
   "source": [
    "app_df[['CNT_CHILDREN', 'CNT_FAM_MEMBERS', 'NAME_FAMILY_STATUS']].info()"
   ]
  },
  {
   "cell_type": "markdown",
   "id": "39f45709",
   "metadata": {},
   "source": [
    "Converting float to int for CNT_FAM_MEMBERS as it cannot be a fraction"
   ]
  },
  {
   "cell_type": "code",
   "execution_count": 133,
   "id": "70253d0e",
   "metadata": {},
   "outputs": [],
   "source": [
    "app_df.CNT_FAM_MEMBERS=app_df.CNT_FAM_MEMBERS.astype(int)"
   ]
  },
  {
   "cell_type": "code",
   "execution_count": 142,
   "id": "1119e01c",
   "metadata": {},
   "outputs": [
    {
     "data": {
      "image/png": "[encoded data removed]",
      "text/plain": [
       "<Figure size 1080x720 with 3 Axes>"
      ]
     },
     "metadata": {
      "needs_background": "light"
     },
     "output_type": "display_data"
    }
   ],
   "source": [
    "fig=plt.subplots(figsize=(15, 10))\n",
    "\n",
    "for i, j in enumerate(['CNT_CHILDREN','CNT_FAM_MEMBERS', 'NAME_FAMILY_STATUS']):\n",
    "    plt.subplot(3, 3, i+1, ylim=(0, 200000))\n",
    "    plt.subplots_adjust(hspace = 1.0)\n",
    "    sns.countplot(app_df[j], hue=app_df[\"TARGET\"])\n",
    "    plt.xticks(rotation=90)\n",
    "    plt.tight_layout()\n"
   ]
  },
  {
   "cell_type": "code",
   "execution_count": 143,
   "id": "b0f81f8c",
   "metadata": {},
   "outputs": [
    {
     "data": {
      "text/html": [
       "<div>\n",
       "<style scoped>\n",
       "    .dataframe tbody tr th:only-of-type {\n",
       "        vertical-align: middle;\n",
       "    }\n",
       "\n",
       "    .dataframe tbody tr th {\n",
       "        vertical-align: top;\n",
       "    }\n",
       "\n",
       "    .dataframe thead th {\n",
       "        text-align: right;\n",
       "    }\n",
       "</style>\n",
       "<table border=\"1\" class=\"dataframe\">\n",
       "  <thead>\n",
       "    <tr style=\"text-align: right;\">\n",
       "      <th></th>\n",
       "      <th>Value</th>\n",
       "      <th>Percentage of Defaulter</th>\n",
       "    </tr>\n",
       "  </thead>\n",
       "  <tbody>\n",
       "    <tr>\n",
       "      <th>9</th>\n",
       "      <td>9.0</td>\n",
       "      <td>100.000000</td>\n",
       "    </tr>\n",
       "    <tr>\n",
       "      <th>10</th>\n",
       "      <td>11.0</td>\n",
       "      <td>100.000000</td>\n",
       "    </tr>\n",
       "    <tr>\n",
       "      <th>7</th>\n",
       "      <td>6.0</td>\n",
       "      <td>28.571429</td>\n",
       "    </tr>\n",
       "    <tr>\n",
       "      <th>4</th>\n",
       "      <td>4.0</td>\n",
       "      <td>12.820513</td>\n",
       "    </tr>\n",
       "    <tr>\n",
       "      <th>3</th>\n",
       "      <td>3.0</td>\n",
       "      <td>9.631423</td>\n",
       "    </tr>\n",
       "    <tr>\n",
       "      <th>1</th>\n",
       "      <td>1.0</td>\n",
       "      <td>8.923575</td>\n",
       "    </tr>\n",
       "    <tr>\n",
       "      <th>2</th>\n",
       "      <td>2.0</td>\n",
       "      <td>8.721821</td>\n",
       "    </tr>\n",
       "    <tr>\n",
       "      <th>6</th>\n",
       "      <td>5.0</td>\n",
       "      <td>8.333333</td>\n",
       "    </tr>\n",
       "    <tr>\n",
       "      <th>0</th>\n",
       "      <td>0.0</td>\n",
       "      <td>7.711881</td>\n",
       "    </tr>\n",
       "    <tr>\n",
       "      <th>5</th>\n",
       "      <td>7.0</td>\n",
       "      <td>0.000000</td>\n",
       "    </tr>\n",
       "    <tr>\n",
       "      <th>8</th>\n",
       "      <td>8.0</td>\n",
       "      <td>0.000000</td>\n",
       "    </tr>\n",
       "    <tr>\n",
       "      <th>11</th>\n",
       "      <td>12.0</td>\n",
       "      <td>0.000000</td>\n",
       "    </tr>\n",
       "    <tr>\n",
       "      <th>12</th>\n",
       "      <td>10.0</td>\n",
       "      <td>0.000000</td>\n",
       "    </tr>\n",
       "    <tr>\n",
       "      <th>13</th>\n",
       "      <td>19.0</td>\n",
       "      <td>0.000000</td>\n",
       "    </tr>\n",
       "    <tr>\n",
       "      <th>14</th>\n",
       "      <td>14.0</td>\n",
       "      <td>0.000000</td>\n",
       "    </tr>\n",
       "  </tbody>\n",
       "</table>\n",
       "</div>"
      ],
      "text/plain": [
       "    Value  Percentage of Defaulter\n",
       "9     9.0               100.000000\n",
       "10   11.0               100.000000\n",
       "7     6.0                28.571429\n",
       "4     4.0                12.820513\n",
       "3     3.0                 9.631423\n",
       "1     1.0                 8.923575\n",
       "2     2.0                 8.721821\n",
       "6     5.0                 8.333333\n",
       "0     0.0                 7.711881\n",
       "5     7.0                 0.000000\n",
       "8     8.0                 0.000000\n",
       "11   12.0                 0.000000\n",
       "12   10.0                 0.000000\n",
       "13   19.0                 0.000000\n",
       "14   14.0                 0.000000"
      ]
     },
     "execution_count": 143,
     "metadata": {},
     "output_type": "execute_result"
    }
   ],
   "source": [
    "defpercent(app_df,'CNT_CHILDREN')"
   ]
  },
  {
   "cell_type": "code",
   "execution_count": 144,
   "id": "9341d179",
   "metadata": {},
   "outputs": [
    {
     "data": {
      "text/html": [
       "<div>\n",
       "<style scoped>\n",
       "    .dataframe tbody tr th:only-of-type {\n",
       "        vertical-align: middle;\n",
       "    }\n",
       "\n",
       "    .dataframe tbody tr th {\n",
       "        vertical-align: top;\n",
       "    }\n",
       "\n",
       "    .dataframe thead th {\n",
       "        text-align: right;\n",
       "    }\n",
       "</style>\n",
       "<table border=\"1\" class=\"dataframe\">\n",
       "  <thead>\n",
       "    <tr style=\"text-align: right;\">\n",
       "      <th></th>\n",
       "      <th>Value</th>\n",
       "      <th>Percentage of Defaulter</th>\n",
       "    </tr>\n",
       "  </thead>\n",
       "  <tbody>\n",
       "    <tr>\n",
       "      <th>16</th>\n",
       "      <td>11.0</td>\n",
       "      <td>100.000000</td>\n",
       "    </tr>\n",
       "    <tr>\n",
       "      <th>10</th>\n",
       "      <td>13.0</td>\n",
       "      <td>100.000000</td>\n",
       "    </tr>\n",
       "    <tr>\n",
       "      <th>9</th>\n",
       "      <td>10.0</td>\n",
       "      <td>33.333333</td>\n",
       "    </tr>\n",
       "    <tr>\n",
       "      <th>8</th>\n",
       "      <td>8.0</td>\n",
       "      <td>30.000000</td>\n",
       "    </tr>\n",
       "    <tr>\n",
       "      <th>5</th>\n",
       "      <td>6.0</td>\n",
       "      <td>13.480392</td>\n",
       "    </tr>\n",
       "    <tr>\n",
       "      <th>4</th>\n",
       "      <td>5.0</td>\n",
       "      <td>9.401955</td>\n",
       "    </tr>\n",
       "    <tr>\n",
       "      <th>2</th>\n",
       "      <td>3.0</td>\n",
       "      <td>8.760290</td>\n",
       "    </tr>\n",
       "    <tr>\n",
       "      <th>3</th>\n",
       "      <td>4.0</td>\n",
       "      <td>8.648824</td>\n",
       "    </tr>\n",
       "    <tr>\n",
       "      <th>0</th>\n",
       "      <td>1.0</td>\n",
       "      <td>8.364408</td>\n",
       "    </tr>\n",
       "    <tr>\n",
       "      <th>1</th>\n",
       "      <td>2.0</td>\n",
       "      <td>7.583498</td>\n",
       "    </tr>\n",
       "    <tr>\n",
       "      <th>7</th>\n",
       "      <td>7.0</td>\n",
       "      <td>7.407407</td>\n",
       "    </tr>\n",
       "    <tr>\n",
       "      <th>6</th>\n",
       "      <td>9.0</td>\n",
       "      <td>0.000000</td>\n",
       "    </tr>\n",
       "    <tr>\n",
       "      <th>11</th>\n",
       "      <td>14.0</td>\n",
       "      <td>0.000000</td>\n",
       "    </tr>\n",
       "    <tr>\n",
       "      <th>12</th>\n",
       "      <td>12.0</td>\n",
       "      <td>0.000000</td>\n",
       "    </tr>\n",
       "    <tr>\n",
       "      <th>13</th>\n",
       "      <td>20.0</td>\n",
       "      <td>0.000000</td>\n",
       "    </tr>\n",
       "    <tr>\n",
       "      <th>14</th>\n",
       "      <td>15.0</td>\n",
       "      <td>0.000000</td>\n",
       "    </tr>\n",
       "    <tr>\n",
       "      <th>15</th>\n",
       "      <td>16.0</td>\n",
       "      <td>0.000000</td>\n",
       "    </tr>\n",
       "  </tbody>\n",
       "</table>\n",
       "</div>"
      ],
      "text/plain": [
       "    Value  Percentage of Defaulter\n",
       "16   11.0               100.000000\n",
       "10   13.0               100.000000\n",
       "9    10.0                33.333333\n",
       "8     8.0                30.000000\n",
       "5     6.0                13.480392\n",
       "4     5.0                 9.401955\n",
       "2     3.0                 8.760290\n",
       "3     4.0                 8.648824\n",
       "0     1.0                 8.364408\n",
       "1     2.0                 7.583498\n",
       "7     7.0                 7.407407\n",
       "6     9.0                 0.000000\n",
       "11   14.0                 0.000000\n",
       "12   12.0                 0.000000\n",
       "13   20.0                 0.000000\n",
       "14   15.0                 0.000000\n",
       "15   16.0                 0.000000"
      ]
     },
     "execution_count": 144,
     "metadata": {},
     "output_type": "execute_result"
    }
   ],
   "source": [
    "defpercent(app_df,'CNT_FAM_MEMBERS')"
   ]
  },
  {
   "cell_type": "code",
   "execution_count": 145,
   "id": "4feed2aa",
   "metadata": {},
   "outputs": [
    {
     "data": {
      "text/html": [
       "<div>\n",
       "<style scoped>\n",
       "    .dataframe tbody tr th:only-of-type {\n",
       "        vertical-align: middle;\n",
       "    }\n",
       "\n",
       "    .dataframe tbody tr th {\n",
       "        vertical-align: top;\n",
       "    }\n",
       "\n",
       "    .dataframe thead th {\n",
       "        text-align: right;\n",
       "    }\n",
       "</style>\n",
       "<table border=\"1\" class=\"dataframe\">\n",
       "  <thead>\n",
       "    <tr style=\"text-align: right;\">\n",
       "      <th></th>\n",
       "      <th>Value</th>\n",
       "      <th>Percentage of Defaulter</th>\n",
       "    </tr>\n",
       "  </thead>\n",
       "  <tbody>\n",
       "    <tr>\n",
       "      <th>2</th>\n",
       "      <td>Civil marriage</td>\n",
       "      <td>9.944584</td>\n",
       "    </tr>\n",
       "    <tr>\n",
       "      <th>0</th>\n",
       "      <td>Single / not married</td>\n",
       "      <td>9.807675</td>\n",
       "    </tr>\n",
       "    <tr>\n",
       "      <th>4</th>\n",
       "      <td>Separated</td>\n",
       "      <td>8.194234</td>\n",
       "    </tr>\n",
       "    <tr>\n",
       "      <th>1</th>\n",
       "      <td>Married</td>\n",
       "      <td>7.559868</td>\n",
       "    </tr>\n",
       "    <tr>\n",
       "      <th>3</th>\n",
       "      <td>Widow</td>\n",
       "      <td>5.824217</td>\n",
       "    </tr>\n",
       "  </tbody>\n",
       "</table>\n",
       "</div>"
      ],
      "text/plain": [
       "                  Value  Percentage of Defaulter\n",
       "2        Civil marriage                 9.944584\n",
       "0  Single / not married                 9.807675\n",
       "4             Separated                 8.194234\n",
       "1               Married                 7.559868\n",
       "3                 Widow                 5.824217"
      ]
     },
     "execution_count": 145,
     "metadata": {},
     "output_type": "execute_result"
    }
   ],
   "source": [
    "defpercent(app_df,'NAME_FAMILY_STATUS')"
   ]
  },
  {
   "cell_type": "markdown",
   "id": "85dd9de3",
   "metadata": {},
   "source": [
    "* Civil marriage and Single customers are more prone to default."
   ]
  },
  {
   "cell_type": "markdown",
   "id": "1847b111",
   "metadata": {},
   "source": [
    "* People with more number children are more prone to default.\n"
   ]
  },
  {
   "cell_type": "markdown",
   "id": "054504bb",
   "metadata": {},
   "source": [
    "### Segment 7: Career info"
   ]
  },
  {
   "cell_type": "code",
   "execution_count": 149,
   "id": "42b4f373",
   "metadata": {},
   "outputs": [
    {
     "data": {
      "text/html": [
       "<div>\n",
       "<style scoped>\n",
       "    .dataframe tbody tr th:only-of-type {\n",
       "        vertical-align: middle;\n",
       "    }\n",
       "\n",
       "    .dataframe tbody tr th {\n",
       "        vertical-align: top;\n",
       "    }\n",
       "\n",
       "    .dataframe thead th {\n",
       "        text-align: right;\n",
       "    }\n",
       "</style>\n",
       "<table border=\"1\" class=\"dataframe\">\n",
       "  <thead>\n",
       "    <tr style=\"text-align: right;\">\n",
       "      <th></th>\n",
       "      <th>NAME_INCOME_TYPE</th>\n",
       "      <th>NAME_EDUCATION_TYPE</th>\n",
       "      <th>OCCUPATION_TYPE</th>\n",
       "    </tr>\n",
       "  </thead>\n",
       "  <tbody>\n",
       "    <tr>\n",
       "      <th>0</th>\n",
       "      <td>Working</td>\n",
       "      <td>Secondary / secondary special</td>\n",
       "      <td>Laborers</td>\n",
       "    </tr>\n",
       "    <tr>\n",
       "      <th>1</th>\n",
       "      <td>State servant</td>\n",
       "      <td>Higher education</td>\n",
       "      <td>Core staff</td>\n",
       "    </tr>\n",
       "    <tr>\n",
       "      <th>2</th>\n",
       "      <td>Working</td>\n",
       "      <td>Secondary / secondary special</td>\n",
       "      <td>Laborers</td>\n",
       "    </tr>\n",
       "    <tr>\n",
       "      <th>3</th>\n",
       "      <td>Working</td>\n",
       "      <td>Secondary / secondary special</td>\n",
       "      <td>Laborers</td>\n",
       "    </tr>\n",
       "    <tr>\n",
       "      <th>4</th>\n",
       "      <td>Working</td>\n",
       "      <td>Secondary / secondary special</td>\n",
       "      <td>Core staff</td>\n",
       "    </tr>\n",
       "  </tbody>\n",
       "</table>\n",
       "</div>"
      ],
      "text/plain": [
       "  NAME_INCOME_TYPE            NAME_EDUCATION_TYPE OCCUPATION_TYPE\n",
       "0          Working  Secondary / secondary special        Laborers\n",
       "1    State servant               Higher education      Core staff\n",
       "2          Working  Secondary / secondary special        Laborers\n",
       "3          Working  Secondary / secondary special        Laborers\n",
       "4          Working  Secondary / secondary special      Core staff"
      ]
     },
     "execution_count": 149,
     "metadata": {},
     "output_type": "execute_result"
    }
   ],
   "source": [
    "app_df[['NAME_INCOME_TYPE','NAME_EDUCATION_TYPE','OCCUPATION_TYPE']].head()"
   ]
  },
  {
   "cell_type": "code",
   "execution_count": 151,
   "id": "c162b4e1",
   "metadata": {},
   "outputs": [
    {
     "name": "stdout",
     "output_type": "stream",
     "text": [
      "<class 'pandas.core.frame.DataFrame'>\n",
      "Int64Index: 307509 entries, 0 to 307510\n",
      "Data columns (total 3 columns):\n",
      " #   Column               Non-Null Count   Dtype \n",
      "---  ------               --------------   ----- \n",
      " 0   NAME_INCOME_TYPE     307509 non-null  object\n",
      " 1   NAME_EDUCATION_TYPE  307509 non-null  object\n",
      " 2   OCCUPATION_TYPE      211118 non-null  object\n",
      "dtypes: object(3)\n",
      "memory usage: 17.4+ MB\n"
     ]
    }
   ],
   "source": [
    "app_df[['NAME_INCOME_TYPE','NAME_EDUCATION_TYPE','OCCUPATION_TYPE']].info()"
   ]
  },
  {
   "cell_type": "markdown",
   "id": "00dd9e9c",
   "metadata": {},
   "source": [
    "Changing missing values in Occupation to 'unknown'"
   ]
  },
  {
   "cell_type": "code",
   "execution_count": 152,
   "id": "c43aa5d8",
   "metadata": {},
   "outputs": [],
   "source": [
    "app_df['OCCUPATION_TYPE'].fillna('unknown', inplace=True)"
   ]
  },
  {
   "cell_type": "code",
   "execution_count": 153,
   "id": "196bee0a",
   "metadata": {},
   "outputs": [
    {
     "name": "stdout",
     "output_type": "stream",
     "text": [
      "<class 'pandas.core.frame.DataFrame'>\n",
      "Int64Index: 307509 entries, 0 to 307510\n",
      "Data columns (total 3 columns):\n",
      " #   Column               Non-Null Count   Dtype \n",
      "---  ------               --------------   ----- \n",
      " 0   NAME_INCOME_TYPE     307509 non-null  object\n",
      " 1   NAME_EDUCATION_TYPE  307509 non-null  object\n",
      " 2   OCCUPATION_TYPE      307509 non-null  object\n",
      "dtypes: object(3)\n",
      "memory usage: 17.4+ MB\n"
     ]
    }
   ],
   "source": [
    "app_df[['NAME_INCOME_TYPE','NAME_EDUCATION_TYPE','OCCUPATION_TYPE']].info()"
   ]
  },
  {
   "cell_type": "code",
   "execution_count": 159,
   "id": "0384643c",
   "metadata": {},
   "outputs": [
    {
     "data": {
      "image/png": "[encoded data removed]",
      "text/plain": [
       "<Figure size 1080x720 with 3 Axes>"
      ]
     },
     "metadata": {
      "needs_background": "light"
     },
     "output_type": "display_data"
    }
   ],
   "source": [
    "fig=plt.subplots(figsize=(15, 10))\n",
    "\n",
    "for i, j in enumerate(['NAME_INCOME_TYPE','NAME_EDUCATION_TYPE', 'OCCUPATION_TYPE']):\n",
    "    plt.subplot(3, 3, i+1, ylim=(0, 300000))\n",
    "    plt.subplots_adjust(hspace = 1.0)\n",
    "    sns.countplot(app_df[j], hue=app_df[\"TARGET\"])\n",
    "    plt.xticks(rotation=90)\n",
    "    plt.tight_layout()"
   ]
  },
  {
   "cell_type": "code",
   "execution_count": 161,
   "id": "63be7433",
   "metadata": {},
   "outputs": [
    {
     "name": "stdout",
     "output_type": "stream",
     "text": [
      "                  Value  Percentage of Defaulter\n",
      "7       Maternity leave                40.000000\n",
      "4            Unemployed                36.363636\n",
      "0               Working                 9.588472\n",
      "2  Commercial associate                 7.484466\n",
      "1         State servant                 5.754965\n",
      "3             Pensioner                 5.386366\n",
      "5               Student                 0.000000\n",
      "6           Businessman                 0.000000\n"
     ]
    }
   ],
   "source": [
    "print(defpercent(app_df,'NAME_INCOME_TYPE'))"
   ]
  },
  {
   "cell_type": "code",
   "execution_count": 162,
   "id": "29f6589d",
   "metadata": {},
   "outputs": [
    {
     "name": "stdout",
     "output_type": "stream",
     "text": [
      "                           Value  Percentage of Defaulter\n",
      "3                Lower secondary                10.930537\n",
      "0  Secondary / secondary special                 8.939929\n",
      "2              Incomplete higher                 8.484966\n",
      "1               Higher education                 5.355187\n",
      "4                Academic degree                 1.829268\n"
     ]
    }
   ],
   "source": [
    "print(defpercent(app_df,'NAME_EDUCATION_TYPE'))"
   ]
  },
  {
   "cell_type": "code",
   "execution_count": 163,
   "id": "76467e35",
   "metadata": {},
   "outputs": [
    {
     "name": "stdout",
     "output_type": "stream",
     "text": [
      "                    Value  Percentage of Defaulter\n",
      "14     Low-skill Laborers                17.152413\n",
      "5                 Drivers                11.326130\n",
      "13   Waiters/barmen staff                11.275964\n",
      "11         Security staff                10.742449\n",
      "0                Laborers                10.578770\n",
      "8           Cooking staff                10.443996\n",
      "6             Sales staff                 9.631799\n",
      "7          Cleaning staff                 9.606705\n",
      "15          Realty agents                 7.856192\n",
      "16            Secretaries                 7.049808\n",
      "10         Medicine staff                 6.700246\n",
      "9   Private service staff                 6.598793\n",
      "4                 unknown                 6.513056\n",
      "17               IT staff                 6.463878\n",
      "18               HR staff                 6.394316\n",
      "1              Core staff                 6.303954\n",
      "3                Managers                 6.214319\n",
      "12  High skill tech staff                 6.159930\n",
      "2             Accountants                 4.830819\n"
     ]
    }
   ],
   "source": [
    "print(defpercent(app_df, 'OCCUPATION_TYPE'))"
   ]
  },
  {
   "cell_type": "markdown",
   "id": "b0e9099c",
   "metadata": {},
   "source": [
    "* Maternity leave and unemployed people are more prone to default.\n",
    "* People with Lower secondary education are more prone to default.\n",
    "* Low Skill labourers are more prone to default."
   ]
  },
  {
   "cell_type": "markdown",
   "id": "d2d1d401",
   "metadata": {},
   "source": [
    "### Based on Gender"
   ]
  },
  {
   "cell_type": "code",
   "execution_count": 166,
   "id": "124e3d2f",
   "metadata": {},
   "outputs": [
    {
     "data": {
      "text/plain": [
       "F      202447\n",
       "M      105058\n",
       "XNA         4\n",
       "Name: CODE_GENDER, dtype: int64"
      ]
     },
     "execution_count": 166,
     "metadata": {},
     "output_type": "execute_result"
    }
   ],
   "source": [
    "app_df['CODE_GENDER'].value_counts()"
   ]
  },
  {
   "cell_type": "code",
   "execution_count": 167,
   "id": "a8588f1d",
   "metadata": {},
   "outputs": [
    {
     "data": {
      "image/png": "[encoded data removed]",
      "text/plain": [
       "<Figure size 432x288 with 1 Axes>"
      ]
     },
     "metadata": {
      "needs_background": "light"
     },
     "output_type": "display_data"
    }
   ],
   "source": [
    "sns.countplot(app_df['CODE_GENDER'], hue=app_df[\"TARGET\"])\n",
    "plt.show()"
   ]
  },
  {
   "cell_type": "code",
   "execution_count": 168,
   "id": "cb861b5e",
   "metadata": {},
   "outputs": [
    {
     "data": {
      "text/html": [
       "<div>\n",
       "<style scoped>\n",
       "    .dataframe tbody tr th:only-of-type {\n",
       "        vertical-align: middle;\n",
       "    }\n",
       "\n",
       "    .dataframe tbody tr th {\n",
       "        vertical-align: top;\n",
       "    }\n",
       "\n",
       "    .dataframe thead th {\n",
       "        text-align: right;\n",
       "    }\n",
       "</style>\n",
       "<table border=\"1\" class=\"dataframe\">\n",
       "  <thead>\n",
       "    <tr style=\"text-align: right;\">\n",
       "      <th></th>\n",
       "      <th>Value</th>\n",
       "      <th>Percentage of Defaulter</th>\n",
       "    </tr>\n",
       "  </thead>\n",
       "  <tbody>\n",
       "    <tr>\n",
       "      <th>0</th>\n",
       "      <td>M</td>\n",
       "      <td>10.142017</td>\n",
       "    </tr>\n",
       "    <tr>\n",
       "      <th>1</th>\n",
       "      <td>F</td>\n",
       "      <td>6.999363</td>\n",
       "    </tr>\n",
       "    <tr>\n",
       "      <th>2</th>\n",
       "      <td>XNA</td>\n",
       "      <td>0.000000</td>\n",
       "    </tr>\n",
       "  </tbody>\n",
       "</table>\n",
       "</div>"
      ],
      "text/plain": [
       "  Value  Percentage of Defaulter\n",
       "0     M                10.142017\n",
       "1     F                 6.999363\n",
       "2   XNA                 0.000000"
      ]
     },
     "execution_count": 168,
     "metadata": {},
     "output_type": "execute_result"
    }
   ],
   "source": [
    "defpercent(app_df,'CODE_GENDER')"
   ]
  },
  {
   "cell_type": "markdown",
   "id": "528ed3b4",
   "metadata": {},
   "source": [
    "We can see that male applicants are more prone to default."
   ]
  },
  {
   "cell_type": "code",
   "execution_count": 169,
   "id": "bbcf4ebc",
   "metadata": {},
   "outputs": [
    {
     "data": {
      "text/plain": [
       "EXT_SOURCE_3                   19.825111\n",
       "AMT_REQ_CREDIT_BUREAU_YEAR     13.501393\n",
       "AMT_REQ_CREDIT_BUREAU_QRT      13.501393\n",
       "AMT_REQ_CREDIT_BUREAU_MON      13.501393\n",
       "AMT_REQ_CREDIT_BUREAU_WEEK     13.501393\n",
       "AMT_REQ_CREDIT_BUREAU_DAY      13.501393\n",
       "AMT_REQ_CREDIT_BUREAU_HOUR     13.501393\n",
       "NAME_TYPE_SUITE                 0.419500\n",
       "OBS_60_CNT_SOCIAL_CIRCLE        0.332023\n",
       "DEF_30_CNT_SOCIAL_CIRCLE        0.332023\n",
       "OBS_30_CNT_SOCIAL_CIRCLE        0.332023\n",
       "DEF_60_CNT_SOCIAL_CIRCLE        0.332023\n",
       "EXT_SOURCE_2                    0.214628\n",
       "AMT_GOODS_PRICE                 0.089753\n",
       "AMT_ANNUITY                     0.003902\n",
       "REGION_RATING_CLIENT            0.000000\n",
       "ORGANIZATION_TYPE               0.000000\n",
       "REG_CITY_NOT_WORK_CITY          0.000000\n",
       "REG_CITY_NOT_LIVE_CITY          0.000000\n",
       "REG_REGION_NOT_WORK_REGION      0.000000\n",
       "HOUR_APPR_PROCESS_START         0.000000\n",
       "WEEKDAY_APPR_PROCESS_START      0.000000\n",
       "REGION_RATING_CLIENT_W_CITY     0.000000\n",
       "SK_ID_CURR                      0.000000\n",
       "CNT_FAM_MEMBERS                 0.000000\n",
       "NAME_INCOME_TYPE                0.000000\n",
       "NAME_CONTRACT_TYPE              0.000000\n",
       "CODE_GENDER                     0.000000\n",
       "FLAG_OWN_CAR                    0.000000\n",
       "FLAG_OWN_REALTY                 0.000000\n",
       "CNT_CHILDREN                    0.000000\n",
       "AMT_INCOME_TOTAL                0.000000\n",
       "AMT_CREDIT                      0.000000\n",
       "NAME_EDUCATION_TYPE             0.000000\n",
       "TARGET                          0.000000\n",
       "NAME_FAMILY_STATUS              0.000000\n",
       "NAME_HOUSING_TYPE               0.000000\n",
       "REGION_POPULATION_RELATIVE      0.000000\n",
       "DAYS_BIRTH                      0.000000\n",
       "DAYS_EMPLOYED                   0.000000\n",
       "DAYS_REGISTRATION               0.000000\n",
       "DAYS_ID_PUBLISH                 0.000000\n",
       "OCCUPATION_TYPE                 0.000000\n",
       "dtype: float64"
      ]
     },
     "execution_count": 169,
     "metadata": {},
     "output_type": "execute_result"
    }
   ],
   "source": [
    "(app_df.isnull().sum()*100/len(app_df)).sort_values(ascending=False)"
   ]
  },
  {
   "cell_type": "code",
   "execution_count": 170,
   "id": "f34acdf3",
   "metadata": {},
   "outputs": [
    {
     "data": {
      "image/png": "[encoded data removed]",
      "text/plain": [
       "<Figure size 1080x720 with 3 Axes>"
      ]
     },
     "metadata": {
      "needs_background": "light"
     },
     "output_type": "display_data"
    }
   ],
   "source": [
    "fig=plt.subplots(figsize=(15, 10))\n",
    "\n",
    "for i, j in enumerate(['NAME_TYPE_SUITE', 'NAME_CONTRACT_TYPE', 'WEEKDAY_APPR_PROCESS_START']):\n",
    "    plt.subplot(3, 3, i+1)\n",
    "    plt.subplots_adjust(hspace = 1.0)\n",
    "    sns.countplot(app_df[j], hue=app_df[\"TARGET\"])\n",
    "    plt.xticks(rotation=90)\n",
    "    plt.tight_layout()"
   ]
  },
  {
   "cell_type": "markdown",
   "id": "3a4ca4ae",
   "metadata": {},
   "source": [
    "* Unaccompanied people are more porne to default\n",
    "* Among Contract type, people who have taken cash loans are more prone to default\n",
    "* All days have similar trend except for sundays."
   ]
  },
  {
   "cell_type": "code",
   "execution_count": 172,
   "id": "14c48cdf",
   "metadata": {},
   "outputs": [
    {
     "data": {
      "text/plain": [
       "0         -9461\n",
       "1        -16765\n",
       "2        -19046\n",
       "3        -19005\n",
       "4        -19932\n",
       "          ...  \n",
       "307506    -9327\n",
       "307507   -20775\n",
       "307508   -14966\n",
       "307509   -11961\n",
       "307510   -16856\n",
       "Name: DAYS_BIRTH, Length: 307509, dtype: int64"
      ]
     },
     "execution_count": 172,
     "metadata": {},
     "output_type": "execute_result"
    }
   ],
   "source": [
    "app_df.DAYS_BIRTH \n"
   ]
  },
  {
   "cell_type": "code",
   "execution_count": null,
   "id": "bcfe8bae",
   "metadata": {},
   "outputs": [],
   "source": [
    "#Converting days birth to age in years\n",
    "application_df[\"Age\"] = application_df.DAYS_BIRTH//(-365.25) "
   ]
  },
  {
   "cell_type": "code",
   "execution_count": 180,
   "id": "bb85d13f",
   "metadata": {},
   "outputs": [
    {
     "data": {
      "text/plain": [
       "array([25, 45, 52, 54, 46, 37, 51, 55, 39, 27, 36, 38, 23, 35, 26, 48, 31,\n",
       "       49, 40, 30, 67, 43, 28, 41, 32, 33, 47, 57, 65, 44, 64, 21, 50, 59,\n",
       "       56, 62, 53, 42, 29, 63, 34, 61, 58, 60, 68, 22, 24, 66, 20, 69],\n",
       "      dtype=int64)"
      ]
     },
     "execution_count": 180,
     "metadata": {},
     "output_type": "execute_result"
    }
   ],
   "source": [
    "app_df.Age.unique()"
   ]
  },
  {
   "cell_type": "code",
   "execution_count": 181,
   "id": "f767971b",
   "metadata": {},
   "outputs": [],
   "source": [
    "#Dropping DAYS_BIRTH column\n",
    "app_df.drop(columns='DAYS_BIRTH', axis=1, inplace=True)"
   ]
  },
  {
   "cell_type": "code",
   "execution_count": 185,
   "id": "f90c50b9",
   "metadata": {
    "scrolled": true
   },
   "outputs": [
    {
     "data": {
      "image/png": "[encoded data removed]",
      "text/plain": [
       "<Figure size 864x432 with 2 Axes>"
      ]
     },
     "metadata": {
      "needs_background": "light"
     },
     "output_type": "display_data"
    }
   ],
   "source": [
    "fig = plt.figure(figsize=(12,6))\n",
    "ax1 = fig.add_subplot(1, 2, 1, title=\"Non-defaulter\")\n",
    "ax2 = fig.add_subplot(1, 2, 2, title=\"Defaulter\")\n",
    "sns.kdeplot(app_df[app_df[\"TARGET\"] == 0]['Age'], ax=ax1)\n",
    "sns.kdeplot(app_df[app_df[\"TARGET\"] == 1]['Age'], ax=ax2)\n",
    "plt.show()"
   ]
  },
  {
   "cell_type": "markdown",
   "id": "8b4462c8",
   "metadata": {},
   "source": [
    "* People of age 30 are more prone to default."
   ]
  },
  {
   "cell_type": "markdown",
   "id": "386c672a",
   "metadata": {},
   "source": [
    "### Segment 8: Income and Annuity info"
   ]
  },
  {
   "cell_type": "code",
   "execution_count": 188,
   "id": "049a4851",
   "metadata": {},
   "outputs": [
    {
     "data": {
      "text/plain": [
       "AMT_INCOME_TOTAL     0\n",
       "AMT_ANNUITY         12\n",
       "dtype: int64"
      ]
     },
     "execution_count": 188,
     "metadata": {},
     "output_type": "execute_result"
    }
   ],
   "source": [
    "app_df[['AMT_INCOME_TOTAL','AMT_ANNUITY']].isnull().sum()"
   ]
  },
  {
   "cell_type": "code",
   "execution_count": 191,
   "id": "943b177e",
   "metadata": {},
   "outputs": [
    {
     "data": {
      "text/html": [
       "<div>\n",
       "<style scoped>\n",
       "    .dataframe tbody tr th:only-of-type {\n",
       "        vertical-align: middle;\n",
       "    }\n",
       "\n",
       "    .dataframe tbody tr th {\n",
       "        vertical-align: top;\n",
       "    }\n",
       "\n",
       "    .dataframe thead th {\n",
       "        text-align: right;\n",
       "    }\n",
       "</style>\n",
       "<table border=\"1\" class=\"dataframe\">\n",
       "  <thead>\n",
       "    <tr style=\"text-align: right;\">\n",
       "      <th></th>\n",
       "      <th>SK_ID_CURR</th>\n",
       "      <th>TARGET</th>\n",
       "      <th>NAME_CONTRACT_TYPE</th>\n",
       "      <th>CODE_GENDER</th>\n",
       "      <th>FLAG_OWN_CAR</th>\n",
       "      <th>FLAG_OWN_REALTY</th>\n",
       "      <th>CNT_CHILDREN</th>\n",
       "      <th>AMT_INCOME_TOTAL</th>\n",
       "      <th>AMT_CREDIT</th>\n",
       "      <th>AMT_ANNUITY</th>\n",
       "      <th>...</th>\n",
       "      <th>DEF_30_CNT_SOCIAL_CIRCLE</th>\n",
       "      <th>OBS_60_CNT_SOCIAL_CIRCLE</th>\n",
       "      <th>DEF_60_CNT_SOCIAL_CIRCLE</th>\n",
       "      <th>AMT_REQ_CREDIT_BUREAU_HOUR</th>\n",
       "      <th>AMT_REQ_CREDIT_BUREAU_DAY</th>\n",
       "      <th>AMT_REQ_CREDIT_BUREAU_WEEK</th>\n",
       "      <th>AMT_REQ_CREDIT_BUREAU_MON</th>\n",
       "      <th>AMT_REQ_CREDIT_BUREAU_QRT</th>\n",
       "      <th>AMT_REQ_CREDIT_BUREAU_YEAR</th>\n",
       "      <th>Age</th>\n",
       "    </tr>\n",
       "  </thead>\n",
       "  <tbody>\n",
       "    <tr>\n",
       "      <th>47531</th>\n",
       "      <td>155054</td>\n",
       "      <td>0</td>\n",
       "      <td>Cash loans</td>\n",
       "      <td>M</td>\n",
       "      <td>N</td>\n",
       "      <td>N</td>\n",
       "      <td>0</td>\n",
       "      <td>180000.0</td>\n",
       "      <td>450000.0</td>\n",
       "      <td>NaN</td>\n",
       "      <td>...</td>\n",
       "      <td>0.0</td>\n",
       "      <td>1.0</td>\n",
       "      <td>0.0</td>\n",
       "      <td>0.0</td>\n",
       "      <td>0.0</td>\n",
       "      <td>0.0</td>\n",
       "      <td>0.0</td>\n",
       "      <td>1.0</td>\n",
       "      <td>1.0</td>\n",
       "      <td>29</td>\n",
       "    </tr>\n",
       "    <tr>\n",
       "      <th>50035</th>\n",
       "      <td>157917</td>\n",
       "      <td>0</td>\n",
       "      <td>Cash loans</td>\n",
       "      <td>F</td>\n",
       "      <td>N</td>\n",
       "      <td>N</td>\n",
       "      <td>0</td>\n",
       "      <td>94500.0</td>\n",
       "      <td>450000.0</td>\n",
       "      <td>NaN</td>\n",
       "      <td>...</td>\n",
       "      <td>0.0</td>\n",
       "      <td>0.0</td>\n",
       "      <td>0.0</td>\n",
       "      <td>0.0</td>\n",
       "      <td>0.0</td>\n",
       "      <td>0.0</td>\n",
       "      <td>1.0</td>\n",
       "      <td>0.0</td>\n",
       "      <td>1.0</td>\n",
       "      <td>24</td>\n",
       "    </tr>\n",
       "    <tr>\n",
       "      <th>51594</th>\n",
       "      <td>159744</td>\n",
       "      <td>0</td>\n",
       "      <td>Cash loans</td>\n",
       "      <td>F</td>\n",
       "      <td>N</td>\n",
       "      <td>N</td>\n",
       "      <td>0</td>\n",
       "      <td>202500.0</td>\n",
       "      <td>539100.0</td>\n",
       "      <td>NaN</td>\n",
       "      <td>...</td>\n",
       "      <td>0.0</td>\n",
       "      <td>1.0</td>\n",
       "      <td>0.0</td>\n",
       "      <td>0.0</td>\n",
       "      <td>0.0</td>\n",
       "      <td>0.0</td>\n",
       "      <td>1.0</td>\n",
       "      <td>0.0</td>\n",
       "      <td>1.0</td>\n",
       "      <td>47</td>\n",
       "    </tr>\n",
       "    <tr>\n",
       "      <th>55025</th>\n",
       "      <td>163757</td>\n",
       "      <td>0</td>\n",
       "      <td>Cash loans</td>\n",
       "      <td>F</td>\n",
       "      <td>N</td>\n",
       "      <td>N</td>\n",
       "      <td>0</td>\n",
       "      <td>162000.0</td>\n",
       "      <td>296280.0</td>\n",
       "      <td>NaN</td>\n",
       "      <td>...</td>\n",
       "      <td>0.0</td>\n",
       "      <td>0.0</td>\n",
       "      <td>0.0</td>\n",
       "      <td>0.0</td>\n",
       "      <td>0.0</td>\n",
       "      <td>0.0</td>\n",
       "      <td>1.0</td>\n",
       "      <td>0.0</td>\n",
       "      <td>4.0</td>\n",
       "      <td>31</td>\n",
       "    </tr>\n",
       "    <tr>\n",
       "      <th>59934</th>\n",
       "      <td>169487</td>\n",
       "      <td>0</td>\n",
       "      <td>Cash loans</td>\n",
       "      <td>M</td>\n",
       "      <td>Y</td>\n",
       "      <td>N</td>\n",
       "      <td>0</td>\n",
       "      <td>202500.0</td>\n",
       "      <td>360000.0</td>\n",
       "      <td>NaN</td>\n",
       "      <td>...</td>\n",
       "      <td>0.0</td>\n",
       "      <td>0.0</td>\n",
       "      <td>0.0</td>\n",
       "      <td>0.0</td>\n",
       "      <td>0.0</td>\n",
       "      <td>1.0</td>\n",
       "      <td>0.0</td>\n",
       "      <td>0.0</td>\n",
       "      <td>6.0</td>\n",
       "      <td>54</td>\n",
       "    </tr>\n",
       "    <tr>\n",
       "      <th>75873</th>\n",
       "      <td>187985</td>\n",
       "      <td>0</td>\n",
       "      <td>Cash loans</td>\n",
       "      <td>M</td>\n",
       "      <td>Y</td>\n",
       "      <td>N</td>\n",
       "      <td>0</td>\n",
       "      <td>144000.0</td>\n",
       "      <td>219249.0</td>\n",
       "      <td>NaN</td>\n",
       "      <td>...</td>\n",
       "      <td>0.0</td>\n",
       "      <td>0.0</td>\n",
       "      <td>0.0</td>\n",
       "      <td>0.0</td>\n",
       "      <td>0.0</td>\n",
       "      <td>0.0</td>\n",
       "      <td>0.0</td>\n",
       "      <td>0.0</td>\n",
       "      <td>11.0</td>\n",
       "      <td>57</td>\n",
       "    </tr>\n",
       "    <tr>\n",
       "      <th>89343</th>\n",
       "      <td>203726</td>\n",
       "      <td>0</td>\n",
       "      <td>Cash loans</td>\n",
       "      <td>F</td>\n",
       "      <td>Y</td>\n",
       "      <td>N</td>\n",
       "      <td>0</td>\n",
       "      <td>90000.0</td>\n",
       "      <td>157500.0</td>\n",
       "      <td>NaN</td>\n",
       "      <td>...</td>\n",
       "      <td>0.0</td>\n",
       "      <td>0.0</td>\n",
       "      <td>0.0</td>\n",
       "      <td>0.0</td>\n",
       "      <td>0.0</td>\n",
       "      <td>0.0</td>\n",
       "      <td>2.0</td>\n",
       "      <td>0.0</td>\n",
       "      <td>0.0</td>\n",
       "      <td>33</td>\n",
       "    </tr>\n",
       "    <tr>\n",
       "      <th>123872</th>\n",
       "      <td>243648</td>\n",
       "      <td>0</td>\n",
       "      <td>Cash loans</td>\n",
       "      <td>F</td>\n",
       "      <td>N</td>\n",
       "      <td>Y</td>\n",
       "      <td>0</td>\n",
       "      <td>202500.0</td>\n",
       "      <td>929088.0</td>\n",
       "      <td>NaN</td>\n",
       "      <td>...</td>\n",
       "      <td>0.0</td>\n",
       "      <td>0.0</td>\n",
       "      <td>0.0</td>\n",
       "      <td>0.0</td>\n",
       "      <td>0.0</td>\n",
       "      <td>0.0</td>\n",
       "      <td>0.0</td>\n",
       "      <td>1.0</td>\n",
       "      <td>5.0</td>\n",
       "      <td>38</td>\n",
       "    </tr>\n",
       "    <tr>\n",
       "      <th>207186</th>\n",
       "      <td>340147</td>\n",
       "      <td>0</td>\n",
       "      <td>Cash loans</td>\n",
       "      <td>M</td>\n",
       "      <td>N</td>\n",
       "      <td>N</td>\n",
       "      <td>0</td>\n",
       "      <td>171000.0</td>\n",
       "      <td>486000.0</td>\n",
       "      <td>NaN</td>\n",
       "      <td>...</td>\n",
       "      <td>0.0</td>\n",
       "      <td>0.0</td>\n",
       "      <td>0.0</td>\n",
       "      <td>0.0</td>\n",
       "      <td>0.0</td>\n",
       "      <td>1.0</td>\n",
       "      <td>1.0</td>\n",
       "      <td>0.0</td>\n",
       "      <td>2.0</td>\n",
       "      <td>27</td>\n",
       "    </tr>\n",
       "    <tr>\n",
       "      <th>227939</th>\n",
       "      <td>364022</td>\n",
       "      <td>0</td>\n",
       "      <td>Cash loans</td>\n",
       "      <td>F</td>\n",
       "      <td>N</td>\n",
       "      <td>Y</td>\n",
       "      <td>0</td>\n",
       "      <td>315000.0</td>\n",
       "      <td>628069.5</td>\n",
       "      <td>NaN</td>\n",
       "      <td>...</td>\n",
       "      <td>0.0</td>\n",
       "      <td>1.0</td>\n",
       "      <td>0.0</td>\n",
       "      <td>0.0</td>\n",
       "      <td>0.0</td>\n",
       "      <td>1.0</td>\n",
       "      <td>0.0</td>\n",
       "      <td>0.0</td>\n",
       "      <td>2.0</td>\n",
       "      <td>44</td>\n",
       "    </tr>\n",
       "    <tr>\n",
       "      <th>239329</th>\n",
       "      <td>377174</td>\n",
       "      <td>0</td>\n",
       "      <td>Cash loans</td>\n",
       "      <td>F</td>\n",
       "      <td>N</td>\n",
       "      <td>Y</td>\n",
       "      <td>0</td>\n",
       "      <td>157500.0</td>\n",
       "      <td>792000.0</td>\n",
       "      <td>NaN</td>\n",
       "      <td>...</td>\n",
       "      <td>0.0</td>\n",
       "      <td>0.0</td>\n",
       "      <td>0.0</td>\n",
       "      <td>0.0</td>\n",
       "      <td>0.0</td>\n",
       "      <td>0.0</td>\n",
       "      <td>0.0</td>\n",
       "      <td>1.0</td>\n",
       "      <td>1.0</td>\n",
       "      <td>48</td>\n",
       "    </tr>\n",
       "    <tr>\n",
       "      <th>241835</th>\n",
       "      <td>379997</td>\n",
       "      <td>0</td>\n",
       "      <td>Cash loans</td>\n",
       "      <td>F</td>\n",
       "      <td>N</td>\n",
       "      <td>N</td>\n",
       "      <td>0</td>\n",
       "      <td>315000.0</td>\n",
       "      <td>1483231.5</td>\n",
       "      <td>NaN</td>\n",
       "      <td>...</td>\n",
       "      <td>0.0</td>\n",
       "      <td>0.0</td>\n",
       "      <td>0.0</td>\n",
       "      <td>NaN</td>\n",
       "      <td>NaN</td>\n",
       "      <td>NaN</td>\n",
       "      <td>NaN</td>\n",
       "      <td>NaN</td>\n",
       "      <td>NaN</td>\n",
       "      <td>41</td>\n",
       "    </tr>\n",
       "  </tbody>\n",
       "</table>\n",
       "<p>12 rows × 43 columns</p>\n",
       "</div>"
      ],
      "text/plain": [
       "        SK_ID_CURR  TARGET NAME_CONTRACT_TYPE CODE_GENDER FLAG_OWN_CAR  \\\n",
       "47531       155054       0         Cash loans           M            N   \n",
       "50035       157917       0         Cash loans           F            N   \n",
       "51594       159744       0         Cash loans           F            N   \n",
       "55025       163757       0         Cash loans           F            N   \n",
       "59934       169487       0         Cash loans           M            Y   \n",
       "75873       187985       0         Cash loans           M            Y   \n",
       "89343       203726       0         Cash loans           F            Y   \n",
       "123872      243648       0         Cash loans           F            N   \n",
       "207186      340147       0         Cash loans           M            N   \n",
       "227939      364022       0         Cash loans           F            N   \n",
       "239329      377174       0         Cash loans           F            N   \n",
       "241835      379997       0         Cash loans           F            N   \n",
       "\n",
       "       FLAG_OWN_REALTY  CNT_CHILDREN  AMT_INCOME_TOTAL  AMT_CREDIT  \\\n",
       "47531                N             0          180000.0    450000.0   \n",
       "50035                N             0           94500.0    450000.0   \n",
       "51594                N             0          202500.0    539100.0   \n",
       "55025                N             0          162000.0    296280.0   \n",
       "59934                N             0          202500.0    360000.0   \n",
       "75873                N             0          144000.0    219249.0   \n",
       "89343                N             0           90000.0    157500.0   \n",
       "123872               Y             0          202500.0    929088.0   \n",
       "207186               N             0          171000.0    486000.0   \n",
       "227939               Y             0          315000.0    628069.5   \n",
       "239329               Y             0          157500.0    792000.0   \n",
       "241835               N             0          315000.0   1483231.5   \n",
       "\n",
       "        AMT_ANNUITY  ...  DEF_30_CNT_SOCIAL_CIRCLE OBS_60_CNT_SOCIAL_CIRCLE  \\\n",
       "47531           NaN  ...                       0.0                      1.0   \n",
       "50035           NaN  ...                       0.0                      0.0   \n",
       "51594           NaN  ...                       0.0                      1.0   \n",
       "55025           NaN  ...                       0.0                      0.0   \n",
       "59934           NaN  ...                       0.0                      0.0   \n",
       "75873           NaN  ...                       0.0                      0.0   \n",
       "89343           NaN  ...                       0.0                      0.0   \n",
       "123872          NaN  ...                       0.0                      0.0   \n",
       "207186          NaN  ...                       0.0                      0.0   \n",
       "227939          NaN  ...                       0.0                      1.0   \n",
       "239329          NaN  ...                       0.0                      0.0   \n",
       "241835          NaN  ...                       0.0                      0.0   \n",
       "\n",
       "       DEF_60_CNT_SOCIAL_CIRCLE AMT_REQ_CREDIT_BUREAU_HOUR  \\\n",
       "47531                       0.0                        0.0   \n",
       "50035                       0.0                        0.0   \n",
       "51594                       0.0                        0.0   \n",
       "55025                       0.0                        0.0   \n",
       "59934                       0.0                        0.0   \n",
       "75873                       0.0                        0.0   \n",
       "89343                       0.0                        0.0   \n",
       "123872                      0.0                        0.0   \n",
       "207186                      0.0                        0.0   \n",
       "227939                      0.0                        0.0   \n",
       "239329                      0.0                        0.0   \n",
       "241835                      0.0                        NaN   \n",
       "\n",
       "       AMT_REQ_CREDIT_BUREAU_DAY AMT_REQ_CREDIT_BUREAU_WEEK  \\\n",
       "47531                        0.0                        0.0   \n",
       "50035                        0.0                        0.0   \n",
       "51594                        0.0                        0.0   \n",
       "55025                        0.0                        0.0   \n",
       "59934                        0.0                        1.0   \n",
       "75873                        0.0                        0.0   \n",
       "89343                        0.0                        0.0   \n",
       "123872                       0.0                        0.0   \n",
       "207186                       0.0                        1.0   \n",
       "227939                       0.0                        1.0   \n",
       "239329                       0.0                        0.0   \n",
       "241835                       NaN                        NaN   \n",
       "\n",
       "        AMT_REQ_CREDIT_BUREAU_MON  AMT_REQ_CREDIT_BUREAU_QRT  \\\n",
       "47531                         0.0                        1.0   \n",
       "50035                         1.0                        0.0   \n",
       "51594                         1.0                        0.0   \n",
       "55025                         1.0                        0.0   \n",
       "59934                         0.0                        0.0   \n",
       "75873                         0.0                        0.0   \n",
       "89343                         2.0                        0.0   \n",
       "123872                        0.0                        1.0   \n",
       "207186                        1.0                        0.0   \n",
       "227939                        0.0                        0.0   \n",
       "239329                        0.0                        1.0   \n",
       "241835                        NaN                        NaN   \n",
       "\n",
       "        AMT_REQ_CREDIT_BUREAU_YEAR  Age  \n",
       "47531                          1.0   29  \n",
       "50035                          1.0   24  \n",
       "51594                          1.0   47  \n",
       "55025                          4.0   31  \n",
       "59934                          6.0   54  \n",
       "75873                         11.0   57  \n",
       "89343                          0.0   33  \n",
       "123872                         5.0   38  \n",
       "207186                         2.0   27  \n",
       "227939                         2.0   44  \n",
       "239329                         1.0   48  \n",
       "241835                         NaN   41  \n",
       "\n",
       "[12 rows x 43 columns]"
      ]
     },
     "execution_count": 191,
     "metadata": {},
     "output_type": "execute_result"
    }
   ],
   "source": [
    "app_df[app_df['AMT_ANNUITY'].isnull()]"
   ]
  },
  {
   "cell_type": "code",
   "execution_count": 194,
   "id": "299095ef",
   "metadata": {},
   "outputs": [
    {
     "data": {
      "text/plain": [
       "27108.54534678387"
      ]
     },
     "execution_count": 194,
     "metadata": {},
     "output_type": "execute_result"
    }
   ],
   "source": [
    "app_df.AMT_ANNUITY.mean()"
   ]
  },
  {
   "cell_type": "code",
   "execution_count": 195,
   "id": "6ababa3f",
   "metadata": {},
   "outputs": [],
   "source": [
    "#Filling the null values with the mean\n",
    "app_df.AMT_ANNUITY.fillna(app_df.AMT_ANNUITY.mean(), inplace=True)"
   ]
  },
  {
   "cell_type": "code",
   "execution_count": 196,
   "id": "e78f5037",
   "metadata": {},
   "outputs": [
    {
     "data": {
      "text/plain": [
       "AMT_INCOME_TOTAL    0\n",
       "AMT_ANNUITY         0\n",
       "dtype: int64"
      ]
     },
     "execution_count": 196,
     "metadata": {},
     "output_type": "execute_result"
    }
   ],
   "source": [
    "app_df[['AMT_INCOME_TOTAL','AMT_ANNUITY']].isnull().sum()"
   ]
  },
  {
   "cell_type": "code",
   "execution_count": 197,
   "id": "6bfe626d",
   "metadata": {},
   "outputs": [
    {
     "data": {
      "image/png": "[encoded data removed]",
      "text/plain": [
       "<Figure size 720x144 with 1 Axes>"
      ]
     },
     "metadata": {
      "needs_background": "light"
     },
     "output_type": "display_data"
    }
   ],
   "source": [
    "plt.figure(figsize=(10,2))\n",
    "sns.boxplot(app_df['AMT_ANNUITY'])\n",
    "plt.show()"
   ]
  },
  {
   "cell_type": "code",
   "execution_count": 198,
   "id": "6ff98c32",
   "metadata": {},
   "outputs": [],
   "source": [
    "#We will exclude the values over 99 percentile as it will lead to wrong analysis for Annuity\n",
    "app_df = app_df[app_df['AMT_ANNUITY'] < np.nanpercentile(app_df['AMT_ANNUITY'], 99)]"
   ]
  },
  {
   "cell_type": "code",
   "execution_count": 199,
   "id": "a93b35fc",
   "metadata": {},
   "outputs": [
    {
     "data": {
      "image/png": "[encoded data removed]",
      "text/plain": [
       "<Figure size 720x144 with 1 Axes>"
      ]
     },
     "metadata": {
      "needs_background": "light"
     },
     "output_type": "display_data"
    }
   ],
   "source": [
    "plt.figure(figsize=(10,2))\n",
    "sns.boxplot(app_df['AMT_INCOME_TOTAL'])\n",
    "plt.show()"
   ]
  },
  {
   "cell_type": "code",
   "execution_count": 200,
   "id": "c0f52992",
   "metadata": {},
   "outputs": [],
   "source": [
    "# We will exclude the values over 99 percentile as it will lead to wrong analusis of income total\n",
    "app_df = app_df[app_df['AMT_INCOME_TOTAL'] < np.nanpercentile(app_df['AMT_INCOME_TOTAL'], 99)]"
   ]
  },
  {
   "cell_type": "code",
   "execution_count": 201,
   "id": "890693a5",
   "metadata": {},
   "outputs": [
    {
     "data": {
      "image/png": "[encoded data removed]",
      "text/plain": [
       "<Figure size 864x432 with 2 Axes>"
      ]
     },
     "metadata": {
      "needs_background": "light"
     },
     "output_type": "display_data"
    }
   ],
   "source": [
    "fig = plt.figure(figsize=(12,6))\n",
    "ax1 = fig.add_subplot(1, 2, 1, title=\"Non-defaulter\")\n",
    "ax2 = fig.add_subplot(1, 2, 2, title=\"Defaulter\")\n",
    "sns.kdeplot(app_df[app_df[\"TARGET\"] == 0]['AMT_INCOME_TOTAL'], ax=ax1)\n",
    "sns.kdeplot(app_df[app_df[\"TARGET\"] == 1]['AMT_INCOME_TOTAL'], ax=ax2)\n",
    "plt.show()"
   ]
  },
  {
   "cell_type": "markdown",
   "id": "652ae9e6",
   "metadata": {},
   "source": [
    "The trend is almost sismilar for both defaulters ans non defaulters"
   ]
  },
  {
   "cell_type": "code",
   "execution_count": 202,
   "id": "280b6a5b",
   "metadata": {},
   "outputs": [
    {
     "data": {
      "image/png": "[encoded data removed]",
      "text/plain": [
       "<Figure size 864x432 with 2 Axes>"
      ]
     },
     "metadata": {
      "needs_background": "light"
     },
     "output_type": "display_data"
    }
   ],
   "source": [
    "fig = plt.figure(figsize=(12,6))\n",
    "\n",
    "ax1 = fig.add_subplot(1, 2, 1, title=\"Non-defaulter\")\n",
    "ax2 = fig.add_subplot(1, 2, 2, title=\"Defaulter\")\n",
    "\n",
    "sns.kdeplot(app_df[app_df[\"TARGET\"] == 0]['AMT_ANNUITY'], ax=ax1)\n",
    "sns.kdeplot(app_df[app_df[\"TARGET\"] == 1]['AMT_ANNUITY'], ax=ax2)\n",
    "\n",
    "plt.show()"
   ]
  },
  {
   "cell_type": "markdown",
   "id": "52603c07",
   "metadata": {},
   "source": [
    "The trend is almost similar for both defaulters and non defaulters"
   ]
  },
  {
   "cell_type": "markdown",
   "id": "b96a62fe",
   "metadata": {},
   "source": [
    "## Summary"
   ]
  },
  {
   "cell_type": "markdown",
   "id": "52b8d2d5",
   "metadata": {},
   "source": [
    "* The data is highly imbalanced as the number of defaulters are very less in the whole data.\n",
    "* Except document 3, all other documents were not provided by by most of the customers.\n",
    "* People living in Rented apartments are more prone to default.\n",
    "* OBS_30_CNT_SOCIAL_CIRCLE and OBS_60_CNT_SOCIAL_CIRCLE are both similar columns\n",
    "* DEF_60_CNT_SOCIAL_CIRCLE and DEF_30_CNT_SOCIAL_CIRCLE are highly correlated\n",
    "* Defaulter rate is high for people in REG_REGION_NOT_WORK_REGION=0 and REG_CITY_NOT_LIVE_CITY=0\n",
    "* Civil marriage and Single customers are more prone to default.\n",
    "* People with more number children are more prone to default.\n",
    "* People who do not own a car or realty are more prone to default.\n",
    "* Maternity leave and unemployed people are more prone to default.\n",
    "* People with Lower secondary education are more prone to default.\n",
    "* Low Skill labourers are more prone to default.\n",
    "* Unaccompanied people are more porne to default\n",
    "* Among Contract type, people who have taken cash loans are more prone to default"
   ]
  },
  {
   "cell_type": "code",
   "execution_count": null,
   "id": "20765f91",
   "metadata": {},
   "outputs": [],
   "source": []
  }
 ],
 "metadata": {
  "kernelspec": {
   "display_name": "Python 3",
   "language": "python",
   "name": "python3"
  },
  "language_info": {
   "codemirror_mode": {
    "name": "ipython",
    "version": 3
   },
   "file_extension": ".py",
   "mimetype": "text/x-python",
   "name": "python",
   "nbconvert_exporter": "python",
   "pygments_lexer": "ipython3",
   "version": "3.8.8"
  }
 },
 "nbformat": 4,
 "nbformat_minor": 5
}
